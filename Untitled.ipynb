{
 "cells": [
  {
   "cell_type": "code",
   "execution_count": 1,
   "metadata": {},
   "outputs": [
    {
     "data": {
      "text/html": [
       "\n",
       "        <div>\n",
       "            <p><b>SparkContext</b></p>\n",
       "\n",
       "            <p><a href=\"http://10.4.3.13:4040\">Spark UI</a></p>\n",
       "\n",
       "            <dl>\n",
       "              <dt>Version</dt>\n",
       "                <dd><code>v2.3.2</code></dd>\n",
       "              <dt>Master</dt>\n",
       "                <dd><code>spark://akash-Lenovo-Z51-70:7077</code></dd>\n",
       "              <dt>AppName</dt>\n",
       "                <dd><code>PySparkShell</code></dd>\n",
       "            </dl>\n",
       "        </div>\n",
       "        "
      ],
      "text/plain": [
       "<SparkContext master=spark://akash-Lenovo-Z51-70:7077 appName=PySparkShell>"
      ]
     },
     "execution_count": 1,
     "metadata": {},
     "output_type": "execute_result"
    }
   ],
   "source": [
    "sc"
   ]
  },
  {
   "cell_type": "markdown",
   "metadata": {},
   "source": [
    "<h2>Exploratory Data Analysis</h2>"
   ]
  },
  {
   "cell_type": "code",
   "execution_count": 2,
   "metadata": {},
   "outputs": [],
   "source": [
    "from pyspark import SparkContext\n",
    "from pyspark import SQLContext"
   ]
  },
  {
   "cell_type": "code",
   "execution_count": 3,
   "metadata": {},
   "outputs": [],
   "source": [
    "sql_context = SQLContext(sc)"
   ]
  },
  {
   "cell_type": "code",
   "execution_count": 4,
   "metadata": {},
   "outputs": [],
   "source": [
    "df = sql_context.read.format('json').load('/home/akash/btpPhase_I/yelp_academic_dataset_user.json')"
   ]
  },
  {
   "cell_type": "code",
   "execution_count": 5,
   "metadata": {},
   "outputs": [
    {
     "name": "stdout",
     "output_type": "stream",
     "text": [
      "root\n",
      " |-- average_stars: double (nullable = true)\n",
      " |-- compliment_cool: long (nullable = true)\n",
      " |-- compliment_cute: long (nullable = true)\n",
      " |-- compliment_funny: long (nullable = true)\n",
      " |-- compliment_hot: long (nullable = true)\n",
      " |-- compliment_list: long (nullable = true)\n",
      " |-- compliment_more: long (nullable = true)\n",
      " |-- compliment_note: long (nullable = true)\n",
      " |-- compliment_photos: long (nullable = true)\n",
      " |-- compliment_plain: long (nullable = true)\n",
      " |-- compliment_profile: long (nullable = true)\n",
      " |-- compliment_writer: long (nullable = true)\n",
      " |-- cool: long (nullable = true)\n",
      " |-- elite: string (nullable = true)\n",
      " |-- fans: long (nullable = true)\n",
      " |-- friends: string (nullable = true)\n",
      " |-- funny: long (nullable = true)\n",
      " |-- name: string (nullable = true)\n",
      " |-- review_count: long (nullable = true)\n",
      " |-- useful: long (nullable = true)\n",
      " |-- user_id: string (nullable = true)\n",
      " |-- yelping_since: string (nullable = true)\n",
      "\n"
     ]
    }
   ],
   "source": [
    "df.printSchema()"
   ]
  },
  {
   "cell_type": "code",
   "execution_count": 12,
   "metadata": {},
   "outputs": [
    {
     "data": {
      "text/plain": [
       "DataFrame[summary: string, average_stars: string, compliment_cool: string, compliment_cute: string, compliment_funny: string, compliment_hot: string, compliment_list: string, compliment_more: string, compliment_note: string, compliment_photos: string, compliment_plain: string, compliment_profile: string, compliment_writer: string, cool: string, elite: string, fans: string, friends: string, funny: string, name: string, review_count: string, useful: string, user_id: string, yelping_since: string]"
      ]
     },
     "execution_count": 12,
     "metadata": {},
     "output_type": "execute_result"
    }
   ],
   "source": [
    "df.describe()"
   ]
  },
  {
   "cell_type": "code",
   "execution_count": 7,
   "metadata": {},
   "outputs": [],
   "source": [
    "from pyspark.sql.functions import to_timestamp\n",
    "import pyspark.sql.functions\n",
    "from pyspark.sql.types import IntegerType\n",
    "from pyspark.sql.types import FloatType"
   ]
  },
  {
   "cell_type": "code",
   "execution_count": 7,
   "metadata": {},
   "outputs": [],
   "source": [
    "from pyspark.sql import functions as F\n",
    "from pyspark.sql.functions import udf\n",
    "from pyspark.sql.types import TimestampType\n",
    "def custom_timestamp(datetime):\n",
    "       return int(datetime[:4])\n",
    "\n",
    "customTimeStamp = F.udf(custom_timestamp,IntegerType())"
   ]
  },
  {
   "cell_type": "code",
   "execution_count": 7,
   "metadata": {},
   "outputs": [],
   "source": [
    "\n",
    "df = df.withColumn('yelping_since_new',customTimeStamp('yelping_since'))"
   ]
  },
  {
   "cell_type": "code",
   "execution_count": 8,
   "metadata": {},
   "outputs": [
    {
     "data": {
      "text/plain": [
       "Row(average_stars=2.0, compliment_cool=0, compliment_cute=0, compliment_funny=0, compliment_hot=0, compliment_list=0, compliment_more=0, compliment_note=0, compliment_photos=0, compliment_plain=0, compliment_profile=0, compliment_writer=0, cool=0, elite=u'None', fans=0, friends=u'None', funny=0, name=u'Susan', review_count=1, useful=0, user_id=u'lzlZwIpuSWXEnNS91wxjHw', yelping_since=u'2015-09-28', yelping_since_new=2015)"
      ]
     },
     "execution_count": 8,
     "metadata": {},
     "output_type": "execute_result"
    }
   ],
   "source": [
    "df.take(1)[0]"
   ]
  },
  {
   "cell_type": "code",
   "execution_count": 9,
   "metadata": {},
   "outputs": [],
   "source": [
    "import plotly"
   ]
  },
  {
   "cell_type": "code",
   "execution_count": null,
   "metadata": {},
   "outputs": [],
   "source": [
    "# business_data = sql_context.read.format('json').load('/home/akash/btpPhase_I/yelp_academic_dataset_business.json')"
   ]
  },
  {
   "cell_type": "code",
   "execution_count": 34,
   "metadata": {
    "scrolled": true
   },
   "outputs": [
    {
     "name": "stdout",
     "output_type": "stream",
     "text": [
      "root\n",
      " |-- address: string (nullable = true)\n",
      " |-- attributes: struct (nullable = true)\n",
      " |    |-- AcceptsInsurance: string (nullable = true)\n",
      " |    |-- AgesAllowed: string (nullable = true)\n",
      " |    |-- Alcohol: string (nullable = true)\n",
      " |    |-- Ambience: string (nullable = true)\n",
      " |    |-- BYOB: string (nullable = true)\n",
      " |    |-- BYOBCorkage: string (nullable = true)\n",
      " |    |-- BestNights: string (nullable = true)\n",
      " |    |-- BikeParking: string (nullable = true)\n",
      " |    |-- BusinessAcceptsBitcoin: string (nullable = true)\n",
      " |    |-- BusinessAcceptsCreditCards: string (nullable = true)\n",
      " |    |-- BusinessParking: string (nullable = true)\n",
      " |    |-- ByAppointmentOnly: string (nullable = true)\n",
      " |    |-- Caters: string (nullable = true)\n",
      " |    |-- CoatCheck: string (nullable = true)\n",
      " |    |-- Corkage: string (nullable = true)\n",
      " |    |-- DietaryRestrictions: string (nullable = true)\n",
      " |    |-- DogsAllowed: string (nullable = true)\n",
      " |    |-- DriveThru: string (nullable = true)\n",
      " |    |-- GoodForDancing: string (nullable = true)\n",
      " |    |-- GoodForKids: string (nullable = true)\n",
      " |    |-- GoodForMeal: string (nullable = true)\n",
      " |    |-- HairSpecializesIn: string (nullable = true)\n",
      " |    |-- HappyHour: string (nullable = true)\n",
      " |    |-- HasTV: string (nullable = true)\n",
      " |    |-- Music: string (nullable = true)\n",
      " |    |-- NoiseLevel: string (nullable = true)\n",
      " |    |-- Open24Hours: string (nullable = true)\n",
      " |    |-- OutdoorSeating: string (nullable = true)\n",
      " |    |-- RestaurantsAttire: string (nullable = true)\n",
      " |    |-- RestaurantsCounterService: string (nullable = true)\n",
      " |    |-- RestaurantsDelivery: string (nullable = true)\n",
      " |    |-- RestaurantsGoodForGroups: string (nullable = true)\n",
      " |    |-- RestaurantsPriceRange2: string (nullable = true)\n",
      " |    |-- RestaurantsReservations: string (nullable = true)\n",
      " |    |-- RestaurantsTableService: string (nullable = true)\n",
      " |    |-- RestaurantsTakeOut: string (nullable = true)\n",
      " |    |-- Smoking: string (nullable = true)\n",
      " |    |-- WheelchairAccessible: string (nullable = true)\n",
      " |    |-- WiFi: string (nullable = true)\n",
      " |-- business_id: string (nullable = true)\n",
      " |-- categories: string (nullable = true)\n",
      " |-- city: string (nullable = true)\n",
      " |-- hours: struct (nullable = true)\n",
      " |    |-- Friday: string (nullable = true)\n",
      " |    |-- Monday: string (nullable = true)\n",
      " |    |-- Saturday: string (nullable = true)\n",
      " |    |-- Sunday: string (nullable = true)\n",
      " |    |-- Thursday: string (nullable = true)\n",
      " |    |-- Tuesday: string (nullable = true)\n",
      " |    |-- Wednesday: string (nullable = true)\n",
      " |-- is_open: long (nullable = true)\n",
      " |-- latitude: double (nullable = true)\n",
      " |-- longitude: double (nullable = true)\n",
      " |-- name: string (nullable = true)\n",
      " |-- neighborhood: string (nullable = true)\n",
      " |-- postal_code: string (nullable = true)\n",
      " |-- review_count: long (nullable = true)\n",
      " |-- stars: double (nullable = true)\n",
      " |-- state: string (nullable = true)\n",
      "\n"
     ]
    }
   ],
   "source": [
    "business_data.printSchema()"
   ]
  },
  {
   "cell_type": "code",
   "execution_count": 35,
   "metadata": {},
   "outputs": [
    {
     "data": {
      "text/plain": [
       "[Row(address=u'1314 44 Avenue NE', attributes=Row(AcceptsInsurance=None, AgesAllowed=None, Alcohol=None, Ambience=None, BYOB=None, BYOBCorkage=None, BestNights=None, BikeParking=u'False', BusinessAcceptsBitcoin=None, BusinessAcceptsCreditCards=u'True', BusinessParking=u\"{'garage': False, 'street': True, 'validated': False, 'lot': False, 'valet': False}\", ByAppointmentOnly=None, Caters=None, CoatCheck=None, Corkage=None, DietaryRestrictions=None, DogsAllowed=None, DriveThru=None, GoodForDancing=None, GoodForKids=u'True', GoodForMeal=None, HairSpecializesIn=None, HappyHour=None, HasTV=u'True', Music=None, NoiseLevel=u'average', Open24Hours=None, OutdoorSeating=u'False', RestaurantsAttire=u'casual', RestaurantsCounterService=None, RestaurantsDelivery=u'False', RestaurantsGoodForGroups=u'True', RestaurantsPriceRange2=u'2', RestaurantsReservations=u'True', RestaurantsTableService=None, RestaurantsTakeOut=u'True', Smoking=None, WheelchairAccessible=None, WiFi=None), business_id=u'Apn5Q_b6Nz61Tq4XzPdf9A', categories=u'Tours, Breweries, Pizza, Restaurants, Food, Hotels & Travel', city=u'Calgary', hours=Row(Friday=u'11:0-21:0', Monday=u'8:30-17:0', Saturday=u'11:0-21:0', Sunday=None, Thursday=u'11:0-21:0', Tuesday=u'11:0-21:0', Wednesday=u'11:0-21:0'), is_open=1, latitude=51.0918130155, longitude=-114.031674872, name=u'Minhas Micro Brewery', neighborhood=u'', postal_code=u'T2E 6L6', review_count=24, stars=4.0, state=u'AB')]"
      ]
     },
     "execution_count": 35,
     "metadata": {},
     "output_type": "execute_result"
    }
   ],
   "source": [
    "business_data.take(1)"
   ]
  },
  {
   "cell_type": "code",
   "execution_count": 36,
   "metadata": {},
   "outputs": [],
   "source": [
    "review_data = sql_context.read.format('json').load('/home/akash/btpPhase_I/yelp_academic_dataset_review.json')"
   ]
  },
  {
   "cell_type": "code",
   "execution_count": 92,
   "metadata": {},
   "outputs": [],
   "source": [
    "id_cat = business_data.select(\"business_id\",\"categories\")"
   ]
  },
  {
   "cell_type": "code",
   "execution_count": 45,
   "metadata": {},
   "outputs": [],
   "source": [
    "businessId = review_data.select(\"business_id\")"
   ]
  },
  {
   "cell_type": "code",
   "execution_count": 53,
   "metadata": {},
   "outputs": [],
   "source": [
    "\n",
    "\n",
    "bus_cat_list = review_data.groupBy('business_id').count()"
   ]
  },
  {
   "cell_type": "code",
   "execution_count": 55,
   "metadata": {},
   "outputs": [
    {
     "data": {
      "text/plain": [
       "[Row(business_id=u'G58YATMKnn-M-RUDWg3lxw', count=119)]"
      ]
     },
     "execution_count": 55,
     "metadata": {},
     "output_type": "execute_result"
    }
   ],
   "source": [
    "bus_cat_list.take(1)"
   ]
  },
  {
   "cell_type": "code",
   "execution_count": 149,
   "metadata": {},
   "outputs": [],
   "source": [
    "from  pyspark.sql.types import *\n",
    "global uniqueCat \n",
    "uniqueCat=set()\n",
    "def custom_cat_list(category):\n",
    "#        return list((category.split(', ')))\n",
    "        x = str(category).split(',')\n",
    "        for y in x:\n",
    "            uniqueCat.add(y)\n",
    "        return x\n",
    "\n",
    "customCat = F.udf(custom_cat_list,ArrayType(StringType()))"
   ]
  },
  {
   "cell_type": "code",
   "execution_count": 150,
   "metadata": {},
   "outputs": [],
   "source": [
    "\n",
    "lol = id_cat.withColumn('categories_list',customCat('categories'))"
   ]
  },
  {
   "cell_type": "code",
   "execution_count": 151,
   "metadata": {},
   "outputs": [
    {
     "data": {
      "text/plain": [
       "[Row(business_id=u'Apn5Q_b6Nz61Tq4XzPdf9A', categories=u'Tours, Breweries, Pizza, Restaurants, Food, Hotels & Travel', categories_list=[u'Tours', u' Breweries', u' Pizza', u' Restaurants', u' Food', u' Hotels & Travel'])]"
      ]
     },
     "execution_count": 151,
     "metadata": {},
     "output_type": "execute_result"
    }
   ],
   "source": [
    "lol.take(1)"
   ]
  },
  {
   "cell_type": "code",
   "execution_count": 96,
   "metadata": {},
   "outputs": [
    {
     "data": {
      "text/plain": [
       "[Row(business_id=u'Apn5Q_b6Nz61Tq4XzPdf9A', categories=u'Tours, Breweries, Pizza, Restaurants, Food, Hotels & Travel')]"
      ]
     },
     "execution_count": 96,
     "metadata": {},
     "output_type": "execute_result"
    }
   ],
   "source": [
    "id_cat.take(1)"
   ]
  },
  {
   "cell_type": "code",
   "execution_count": 163,
   "metadata": {},
   "outputs": [],
   "source": [
    "joinMe = bus_cat_list.join(lol.select('business_id','categories_list'),'business_id')"
   ]
  },
  {
   "cell_type": "code",
   "execution_count": 164,
   "metadata": {},
   "outputs": [
    {
     "data": {
      "text/plain": [
       "[Row(business_id=u'JsUytp_MuZ4AX5JWfi2eLw', count=113, categories_list=[u'Fashion', u' Department Stores', u' Shopping'])]"
      ]
     },
     "execution_count": 164,
     "metadata": {},
     "output_type": "execute_result"
    }
   ],
   "source": [
    "joinMe.take(1)"
   ]
  },
  {
   "cell_type": "code",
   "execution_count": 165,
   "metadata": {},
   "outputs": [],
   "source": [
    "sql_context.registerDataFrameAsTable(joinMe, \"table1\")\n"
   ]
  },
  {
   "cell_type": "code",
   "execution_count": 201,
   "metadata": {},
   "outputs": [],
   "source": [
    "from operator import add\n",
    "t = joinMe.rdd.flatMap(lambda doc:[(x,doc[1]) for x in doc[2]]).reduceByKey(add)"
   ]
  },
  {
   "cell_type": "code",
   "execution_count": 202,
   "metadata": {},
   "outputs": [],
   "source": [
    "r = t.toDF()"
   ]
  },
  {
   "cell_type": "code",
   "execution_count": 203,
   "metadata": {},
   "outputs": [
    {
     "name": "stdout",
     "output_type": "stream",
     "text": [
      "root\n",
      " |-- _1: string (nullable = true)\n",
      " |-- _2: long (nullable = true)\n",
      "\n"
     ]
    }
   ],
   "source": [
    "r.printSchema()"
   ]
  },
  {
   "cell_type": "code",
   "execution_count": 21,
   "metadata": {},
   "outputs": [],
   "source": [
    "import plotly\n",
    "import plotly.plotly as py\n",
    "import plotly.graph_objs as go\n",
    "import pandas as pd\n",
    "plotly.tools.set_credentials_file(username='AkashMahalik', api_key='C8t07suRzOqqnwydKW3r')"
   ]
  },
  {
   "cell_type": "code",
   "execution_count": 206,
   "metadata": {},
   "outputs": [],
   "source": [
    "sql_context.registerDataFrameAsTable(r,\"cat_freq\")"
   ]
  },
  {
   "cell_type": "code",
   "execution_count": 294,
   "metadata": {},
   "outputs": [],
   "source": [
    "import pandas\n",
    "r_query = sql_context.sql(\"SELECT * FROM cat_freq ORDER BY _2 DESC\")\n",
    "cat_freq_graph = [go.Pie(labels=cat_freq['category'],values=cat_freq['freq'])]"
   ]
  },
  {
   "cell_type": "code",
   "execution_count": 295,
   "metadata": {},
   "outputs": [
    {
     "data": {
      "text/html": [
       "<iframe id=\"igraph\" scrolling=\"no\" style=\"border:none;\" seamless=\"seamless\" src=\"https://plot.ly/~AkashMahalik/15.embed\" height=\"525px\" width=\"100%\"></iframe>"
      ],
      "text/plain": [
       "<plotly.tools.PlotlyDisplay object>"
      ]
     },
     "execution_count": 295,
     "metadata": {},
     "output_type": "execute_result"
    }
   ],
   "source": [
    "py.iplot(cat_freq_graph)"
   ]
  },
  {
   "cell_type": "code",
   "execution_count": 297,
   "metadata": {},
   "outputs": [],
   "source": [
    "#https://plot.ly/create/?fid=AkashMahalik:15#/"
   ]
  },
  {
   "cell_type": "code",
   "execution_count": 214,
   "metadata": {},
   "outputs": [],
   "source": [
    "def sort_comp(a,b):\n",
    "    if(a[1]>b[1]):\n",
    "        return -1\n",
    "    elif(a[1]==b[1]):\n",
    "        if(a[0]>b[0]):\n",
    "            return 1\n",
    "        else:\n",
    "            return -1\n",
    "    else:\n",
    "        return 1\n",
    "newback.sort(sort_comp)    "
   ]
  },
  {
   "cell_type": "code",
   "execution_count": 226,
   "metadata": {
    "scrolled": false
   },
   "outputs": [],
   "source": []
  },
  {
   "cell_type": "code",
   "execution_count": 228,
   "metadata": {},
   "outputs": [],
   "source": []
  },
  {
   "cell_type": "code",
   "execution_count": 289,
   "metadata": {},
   "outputs": [
    {
     "data": {
      "text/plain": [
       "[[u'Restaurants', 3654797],\n",
       " [u' Food', 889180],\n",
       " [u' Nightlife', 827917],\n",
       " [u' Bars', 771566],\n",
       " [u' American (New)', 494683],\n",
       " [u' American (Traditional)', 488377],\n",
       " [u' Breakfast & Brunch', 440020],\n",
       " [u' Event Planning & Services', 363838],\n",
       " [u' Shopping', 339728],\n",
       " [u' Sandwiches', 312204],\n",
       " [u' Arts & Entertainment', 280685],\n",
       " [u' Beauty & Spas', 274875],\n",
       " [u'Food', 268942],\n",
       " [u' Burgers', 256554],\n",
       " [u' Pizza', 242773],\n",
       " [u' Italian', 240725],\n",
       " [u' Mexican', 239251],\n",
       " [u' Hotels & Travel', 225257],\n",
       " [u' Seafood', 224230],\n",
       " [u' Coffee & Tea', 223178],\n",
       " [u' Japanese', 190167],\n",
       " [u' Desserts', 182608],\n",
       " [u' Home Services', 180200],\n",
       " [u'Nightlife', 177312],\n",
       " [u' Salad', 169906],\n",
       " [u' Hotels', 165321],\n",
       " [u' Health & Medical', 161083],\n",
       " [u' Sushi Bars', 159595],\n",
       " [u' Automotive', 159089],\n",
       " [u'Bars', 157838],\n",
       " [u' Chinese', 157029],\n",
       " [u' Asian Fusion', 154984],\n",
       " [u' Steakhouses', 153812],\n",
       " [u' Cafes', 149008],\n",
       " [u' Fast Food', 141694],\n",
       " [u' Active Life', 140617],\n",
       " [u' Local Services', 137535],\n",
       " [u' Specialty Food', 128704],\n",
       " [u' Bakeries', 122071],\n",
       " [u' Cocktail Bars', 121035],\n",
       " [u'American (Traditional)', 120739],\n",
       " [u' Pubs', 119262],\n",
       " [u' Wine & Spirits', 119003],\n",
       " [u' Sports Bars', 117333],\n",
       " [u'Mexican', 108445],\n",
       " [u' Wine Bars', 107824],\n",
       " [u'Breakfast & Brunch', 106399],\n",
       " [u' Barbeque', 104486],\n",
       " [u'Beauty & Spas', 103811],\n",
       " [u'American (New)', 103249],\n",
       " [u'Shopping', 102950],\n",
       " [u' Casinos', 102254],\n",
       " [u' Vegetarian', 101080],\n",
       " [u' Lounges', 100731],\n",
       " [u'Pizza', 98939],\n",
       " [u' Venues & Event Spaces', 97748],\n",
       " [u' Beer', 97617],\n",
       " [u' Caterers', 94785],\n",
       " [u' Nail Salons', 88874],\n",
       " [u' Mediterranean', 88290],\n",
       " [u' Hair Salons', 87918],\n",
       " [u'Italian', 87132],\n",
       " [u'Event Planning & Services', 86627],\n",
       " [u'Sandwiches', 85936],\n",
       " [u' Auto Repair', 85863],\n",
       " [u' Hair Removal', 83778],\n",
       " [u' Chicken Wings', 80311],\n",
       " [u' Ice Cream & Frozen Yogurt', 79524],\n",
       " [u' Thai', 79421],\n",
       " [u' Fashion', 78620],\n",
       " [u' Diners', 77717],\n",
       " [u'Burgers', 73986],\n",
       " [u' Vegan', 73482],\n",
       " [u'Japanese', 70640],\n",
       " [u' Buffets', 70202],\n",
       " [u' Day Spas', 70084],\n",
       " [u'Arts & Entertainment', 69978],\n",
       " [u' French', 69663],\n",
       " [u'Home Services', 69119],\n",
       " [u' Home & Garden', 68334],\n",
       " [u'Automotive', 68165],\n",
       " [u'Chinese', 67957],\n",
       " [u' Juice Bars & Smoothies', 67780],\n",
       " [u' Gastropubs', 66590],\n",
       " [u' Gluten-Free', 65472],\n",
       " [u' Skin Care', 65419],\n",
       " [u'Coffee & Tea', 65312],\n",
       " [u'Hotels & Travel', 65278],\n",
       " [u'Seafood', 64366],\n",
       " [u' Delis', 64070],\n",
       " [u' Canadian (New)', 60280],\n",
       " [u' Grocery', 59956],\n",
       " [u'Sushi Bars', 58832],\n",
       " [u' Doctors', 58286],\n",
       " [u' Resorts', 56963],\n",
       " [u' Waxing', 56721],\n",
       " [u'Health & Medical', 56161],\n",
       " [u' Music Venues', 55476],\n",
       " [u' Professional Services', 54998],\n",
       " [u'Steakhouses', 54325],\n",
       " [u' Soup', 54100],\n",
       " [u' Tapas/Small Plates', 53081],\n",
       " [u' Vietnamese', 52955],\n",
       " [u' Fitness & Instruction', 52782],\n",
       " [u' Comfort Food', 49921],\n",
       " [u' Korean', 49448],\n",
       " [u' Pets', 48489],\n",
       " [u' Indian', 47589],\n",
       " [u' Breweries', 47316],\n",
       " [u'Active Life', 46971],\n",
       " [u'Fast Food', 46214],\n",
       " [u' Greek', 45336],\n",
       " [u' Car Dealers', 45268],\n",
       " [u' Massage', 44399],\n",
       " [u' Middle Eastern', 44195],\n",
       " [u'Asian Fusion', 43879],\n",
       " [u'Local Services', 43659],\n",
       " [u'Desserts', 42555],\n",
       " [u' Southern', 41778],\n",
       " [u' Real Estate', 41747],\n",
       " [u' Eyelash Service', 41476],\n",
       " [u' Noodles', 40727],\n",
       " [u' Beer Bar', 40434],\n",
       " [u' Dance Clubs', 40361],\n",
       " [u'Barbeque', 40108],\n",
       " [u'Nail Salons', 39009],\n",
       " [u'Bakeries', 38822],\n",
       " [u' Pet Services', 38320],\n",
       " [u'Thai', 38065],\n",
       " [u' Auto Parts & Supplies', 37096],\n",
       " [u' Oil Change Stations', 37046],\n",
       " [u' Ethnic Food', 36323],\n",
       " [u' Tex-Mex', 35999],\n",
       " [u'Cafes', 34257],\n",
       " [u'Buffets', 34221],\n",
       " [u' Latin American', 33716],\n",
       " [u'Hotels', 33690],\n",
       " [u' Tapas Bars', 33623],\n",
       " [u' Dentists', 33545],\n",
       " [u'Auto Repair', 33011],\n",
       " [u' Performing Arts', 32171],\n",
       " [u' Tires', 32140],\n",
       " [u' Gyms', 31737],\n",
       " [u' Food Delivery Services', 31644],\n",
       " [u' Local Flavor', 31528],\n",
       " [u' Contractors', 30664],\n",
       " [u' Education', 30427],\n",
       " [u'Mediterranean', 29939],\n",
       " [u'Salad', 29912],\n",
       " [u'Hair Salons', 29255],\n",
       " [u' Hawaiian', 29164],\n",
       " [u' Ramen', 28704],\n",
       " [u' General Dentistry', 28117],\n",
       " [u' Cosmetics & Beauty Supply', 27974],\n",
       " [u\" Women's Clothing\", 27876],\n",
       " [u' Hair Stylists', 27613],\n",
       " [u'Ice Cream & Frozen Yogurt', 26959],\n",
       " [u' Hot Dogs', 26388],\n",
       " [u' Bubble Tea', 26199],\n",
       " [u' Department Stores', 25588],\n",
       " [u' Party & Event Planning', 25578],\n",
       " [u' Flowers & Gifts', 25575],\n",
       " [u' Home Decor', 25260],\n",
       " [u'Vietnamese', 24729],\n",
       " [u'Specialty Food', 24605],\n",
       " [u' Trainers', 24235],\n",
       " [u' Dim Sum', 24021],\n",
       " [u' Bagels', 23907],\n",
       " [u' Cajun/Creole', 23821],\n",
       " [u' Electronics', 23752],\n",
       " [u'Korean', 23726],\n",
       " [u'Diners', 23646],\n",
       " [u' Pet Groomers', 23515],\n",
       " [u' Massage Therapy', 23405],\n",
       " [u'Casinos', 23372],\n",
       " [u' Sporting Goods', 22971],\n",
       " [u'Cocktail Bars', 22882],\n",
       " [u'Chicken Wings', 22837],\n",
       " [u' Barbers', 22635],\n",
       " [u' Furniture Stores', 22568],\n",
       " [u' Cosmetic Dentists', 22525],\n",
       " [u'Wine Bars', 22152],\n",
       " [u' Donuts', 22069],\n",
       " [u' Soul Food', 21824],\n",
       " [u' IT Services & Computer Repair', 21585],\n",
       " [u'Fashion', 21554],\n",
       " [u'Sports Bars', 21439],\n",
       " [u'Beer', 21386],\n",
       " [u'Vegetarian', 21292],\n",
       " [u' Tacos', 21287],\n",
       " [u'Pets', 21142],\n",
       " [u'Indian', 20773],\n",
       " [u'Performing Arts', 20487],\n",
       " [u' Halal', 20375],\n",
       " [u' Transportation', 19953],\n",
       " [u' Makeup Artists', 19920],\n",
       " [u' Car Wash', 19730],\n",
       " [u'Pubs', 19508],\n",
       " [u' Pet Sitting', 19343],\n",
       " [u' Mobile Phones', 19214],\n",
       " [u' Apartments', 19155],\n",
       " [u'Lounges', 19140],\n",
       " [u'Canadian (New)', 19020],\n",
       " [u' Medical Centers', 19009],\n",
       " [u\" Men's Clothing\", 18973],\n",
       " [u' Dive Bars', 18931],\n",
       " [u' Drugstores', 18808],\n",
       " [u'Grocery', 18787],\n",
       " [u'Hair Removal', 18474],\n",
       " [u' Food Trucks', 18359],\n",
       " [u' Jewelry', 18320],\n",
       " [u' Caribbean', 18315],\n",
       " [u' Auto Detailing', 18260],\n",
       " [u' Financial Services', 18137],\n",
       " [u'Venues & Event Spaces', 18117],\n",
       " [u' Mags', 18047],\n",
       " [u' Music & Video', 18047],\n",
       " [u' Plumbing', 18027],\n",
       " [u' Chicken Shop', 17755],\n",
       " [u' Heating & Air Conditioning/HVAC', 17664],\n",
       " [u'French', 17538],\n",
       " [u' Veterinarians', 17296],\n",
       " [u' Accessories', 17284],\n",
       " [u' Hair Extensions', 17267],\n",
       " [u'Southern', 17254],\n",
       " [u'Juice Bars & Smoothies', 17198],\n",
       " [u' Medical Spas', 17169],\n",
       " [u'Doctors', 17124],\n",
       " [u' Yoga', 17038],\n",
       " [u' Home Cleaning', 16985],\n",
       " [u' Tours', 16604],\n",
       " [u' Amusement Parks', 16553],\n",
       " [u' Spanish', 16499],\n",
       " [u' Tea Rooms', 16449],\n",
       " [u' Karaoke', 16192],\n",
       " [u' Creperies', 15834],\n",
       " [u'Day Spas', 15817],\n",
       " [u'Home & Garden', 15564],\n",
       " [u' Irish', 15539],\n",
       " [u' British', 15526],\n",
       " [u'Caterers', 15520],\n",
       " [u' Arts & Crafts', 15497],\n",
       " [u' Health Markets', 15416],\n",
       " [u' Specialty Schools', 15415],\n",
       " [u' Public Services & Government', 15346],\n",
       " [u' Convenience Stores', 15284],\n",
       " [u'Skin Care', 15261],\n",
       " [u'Real Estate', 15063],\n",
       " [u'Vegan', 14997],\n",
       " [u' Pet Stores', 14985],\n",
       " [u' Body Shops', 14932],\n",
       " [u' Auto Glass Services', 14767],\n",
       " [u'Greek', 14737],\n",
       " [u'Delis', 14630],\n",
       " [u' Shoe Stores', 14620],\n",
       " [u' Fish & Chips', 14562],\n",
       " [u' Arcades', 14463],\n",
       " [u' Pakistani', 14463],\n",
       " [u'Car Dealers', 14258],\n",
       " [u' Shopping Centers', 14150],\n",
       " [u'Soup', 14150],\n",
       " [u' Cupcakes', 14113],\n",
       " [u'Waxing', 13882],\n",
       " [u' Gas Stations', 13874],\n",
       " [u' Books', 13820],\n",
       " [u' Carpet Cleaning', 13732],\n",
       " [u' Car Rental', 13655],\n",
       " [u' Taiwanese', 13613],\n",
       " [u' New Mexican Cuisine', 13539],\n",
       " [u' Tanning', 13466],\n",
       " [u' Chocolatiers & Shops', 13355],\n",
       " [u'Fitness & Instruction', 13162],\n",
       " [u' Museums', 13116],\n",
       " [u\" Men's Hair Salons\", 13060],\n",
       " [u' Movers', 13012],\n",
       " [u' Appliances', 13003],\n",
       " [u'Professional Services', 12973],\n",
       " [u' Poke', 12792],\n",
       " [u' Wraps', 12712],\n",
       " [u'Noodles', 12699],\n",
       " [u'Gluten-Free', 12674],\n",
       " [u' Cinema', 12531],\n",
       " [u' Electronics Repair', 12490],\n",
       " [u' Imported Food', 12431],\n",
       " [u' Optometrists', 12421],\n",
       " [u' Waffles', 12273],\n",
       " [u'Comfort Food', 12270],\n",
       " [u' Adult Entertainment', 12058],\n",
       " [u'Pet Services', 12045],\n",
       " [u' Florists', 12042],\n",
       " [u'Middle Eastern', 11833],\n",
       " [u' Orthodontists', 11802],\n",
       " [u' Mobile Phone Repair', 11745],\n",
       " [u' Wedding Planning', 11698],\n",
       " [u'Oil Change Stations', 11696],\n",
       " [u'Massage', 11666],\n",
       " [u' Discount Store', 11656],\n",
       " [u' Eyewear & Opticians', 11595],\n",
       " [u' Parks', 11448],\n",
       " [u' German', 11438],\n",
       " [u' Tobacco Shops', 11413],\n",
       " [u' Blow Dry/Out Services', 11287],\n",
       " [u'Breweries', 11187],\n",
       " [u' Tattoo', 11170],\n",
       " [u' Real Estate Services', 11146],\n",
       " [u'Auto Parts & Supplies', 11084],\n",
       " [u' Cantonese', 11068],\n",
       " [u' Mattresses', 10992],\n",
       " [u'Barbers', 10966],\n",
       " [u' Golf', 10935],\n",
       " [u'Gastropubs', 10933],\n",
       " [u' Meat Shops', 10897],\n",
       " [u'Airports', 10859],\n",
       " [u'Dance Clubs', 10855],\n",
       " [u' Vintage & Consignment', 10852],\n",
       " [u'Dentists', 10815],\n",
       " [u' Cheesesteaks', 10686],\n",
       " [u' Landscaping', 10685],\n",
       " [u' Laundry Services', 10367],\n",
       " [u' Modern European', 10336],\n",
       " [u' Art Galleries', 10321],\n",
       " [u' Printing Services', 10209],\n",
       " [u' Appliances & Repair', 10073],\n",
       " [u' Computers', 10056],\n",
       " [u' Reflexology', 10020],\n",
       " [u' Eyebrow Services', 10003],\n",
       " [u' Dry Cleaning & Laundry', 9938],\n",
       " [u'Cinema', 9898],\n",
       " [u' Shaved Ice', 9801],\n",
       " [u' Chiropractors', 9748],\n",
       " [u'Donuts', 9723],\n",
       " [u' Sewing & Alterations', 9711],\n",
       " [u'Hot Dogs', 9638],\n",
       " [u'Latin American', 9369],\n",
       " [u' Farmers Market', 9318],\n",
       " [u'Tex-Mex', 9299],\n",
       " [u' Used', 9267],\n",
       " [u' Swimming Pools', 9203],\n",
       " [u' Lebanese', 9152],\n",
       " [u' Food Stands', 9142],\n",
       " [u'Veterinarians', 9121],\n",
       " [u' Self Storage', 9107],\n",
       " [u' Filipino', 9089],\n",
       " [u' Brazilian', 9077],\n",
       " [u' Street Vendors', 9069],\n",
       " [u'Tapas/Small Plates', 9058],\n",
       " [u' Fruits & Veggies', 8924],\n",
       " [u' Windshield Installation & Repair', 8882],\n",
       " [u' Oral Surgeons', 8823],\n",
       " [u'Tires', 8814],\n",
       " [u' Laser Hair Removal', 8783],\n",
       " [u' Water Heater Installation/Repair', 8779],\n",
       " [u' Shipping Centers', 8728],\n",
       " [u' Bridal', 8705],\n",
       " [u' Gift Shops', 8691],\n",
       " [u'Hawaiian', 8682],\n",
       " [u' Kitchen & Bath', 8675],\n",
       " [u'Eyelash Service', 8669],\n",
       " [u' Kids Activities', 8590],\n",
       " [u' Building Supplies', 8528],\n",
       " [u'Music Venues', 8437],\n",
       " [u'Ramen', 8426],\n",
       " [u' Physical Therapy', 8392],\n",
       " [u' Permanent Makeup', 8358],\n",
       " [u' Property Management', 8324],\n",
       " [u'Car Rental', 8266],\n",
       " [u' Gelato', 8207],\n",
       " [u' Pet Training', 8202],\n",
       " [u'Car Wash', 8196],\n",
       " [u' Urgent Care', 8192],\n",
       " [u' African', 8183],\n",
       " [u' Hardware Stores', 8151],\n",
       " [u'Contractors', 8118],\n",
       " [u'Cajun/Creole', 8105],\n",
       " [u' Butcher', 8100],\n",
       " [u' Seafood Markets', 8100],\n",
       " [u' Flooring', 8099],\n",
       " [u' Handyman', 7974],\n",
       " [u' Hobby Shops', 7947],\n",
       " [u' Hospitals', 7902],\n",
       " [u' Transmission Repair', 7890],\n",
       " [u' Beer Gardens', 7882],\n",
       " [u' Candy Stores', 7780],\n",
       " [u' Bikes', 7689],\n",
       " [u' Nurseries & Gardening', 7662],\n",
       " [u' Coffee Roasteries', 7651],\n",
       " [u' Weight Loss Centers', 7650],\n",
       " [u' Family Practice', 7646],\n",
       " [u'Pet Groomers', 7568],\n",
       " [u'Public Services & Government', 7505],\n",
       " [u' Photographers', 7470],\n",
       " [u' Piercing', 7435],\n",
       " [u' Custom Cakes', 7420],\n",
       " [u' Sports Clubs', 7414],\n",
       " [u' Spray Tanning', 7404],\n",
       " [u' Threading Services', 7383],\n",
       " [u'Heating & Air Conditioning/HVAC', 7302],\n",
       " [u'General Dentistry', 7284],\n",
       " [u' Real Estate Agents', 7238],\n",
       " [u'Parks', 7227],\n",
       " [u'Resorts', 7212],\n",
       " [u' Towing', 7209],\n",
       " [u' Sports Wear', 7206],\n",
       " [u' Pediatric Dentists', 7184],\n",
       " [u' Travel Services', 7175],\n",
       " [u' Live/Raw Food', 7144],\n",
       " [u'Tacos', 7120],\n",
       " [u'Gyms', 7051],\n",
       " [u' Jazz & Blues', 7037],\n",
       " [u'Financial Services', 7028],\n",
       " [u'Flowers & Gifts', 7027],\n",
       " [u'Apartments', 7008],\n",
       " [u' Hookah Bars', 6940],\n",
       " [u' Wheel & Rim Repair', 6888],\n",
       " [u' Used Car Dealers', 6819],\n",
       " [u' Bowling', 6801],\n",
       " [u' Patisserie/Cake Shop', 6752],\n",
       " [u'Transportation', 6733],\n",
       " [u' Vape Shops', 6651],\n",
       " [u'Drugstores', 6606],\n",
       " [u' Endodontists', 6594],\n",
       " [u' Smog Check Stations', 6592],\n",
       " [u' Persian/Iranian', 6542],\n",
       " [u' Office Cleaning', 6525],\n",
       " [u'Bagels', 6524],\n",
       " [u'Ethnic Food', 6513],\n",
       " [u'Tapas Bars', 6415],\n",
       " [u' Organic Stores', 6404],\n",
       " [u' Brasseries', 6393],\n",
       " [u' Auto Customization', 6322],\n",
       " [u' Lawyers', 6297],\n",
       " [u' Internet Cafes', 6280],\n",
       " [u' Airport Shuttles', 6270],\n",
       " [u' Carpeting', 6258],\n",
       " [u' Social Clubs', 6202],\n",
       " [u' Hot Pot', 6197],\n",
       " [u' Smokehouse', 6194],\n",
       " [u' Damage Restoration', 6188],\n",
       " [u' Internet Service Providers', 6172],\n",
       " [u'Hair Stylists', 6169],\n",
       " [u' Do-It-Yourself Food', 6159],\n",
       " [u'Education', 6148],\n",
       " [u\"Women's Clothing\", 6109],\n",
       " [u'Tattoo', 6108],\n",
       " [u' Insurance', 6089],\n",
       " [u' Banks & Credit Unions', 6074],\n",
       " [u'Adult Entertainment', 6073],\n",
       " [u' Pest Control', 6069],\n",
       " [u' Airlines', 6042],\n",
       " [u' Irish Pub', 6029],\n",
       " [u' Security Systems', 6017],\n",
       " [u'Medical Centers', 6006],\n",
       " [u' Photography Stores & Services', 5918],\n",
       " [u'Party & Event Planning', 5856],\n",
       " [u'Plumbing', 5807],\n",
       " [u' Stadiums & Arenas', 5804],\n",
       " [u' Acupuncture', 5800],\n",
       " [u'Food Trucks', 5784],\n",
       " [u'Cosmetic Dentists', 5782],\n",
       " [u' Mobile Phone Accessories', 5778],\n",
       " [u' Limos', 5762],\n",
       " [u'Cosmetics & Beauty Supply', 5752],\n",
       " [u' Bookstores', 5751],\n",
       " [u' Diagnostic Services', 5750],\n",
       " [u' Interior Design', 5750],\n",
       " [u' Air Duct Cleaning', 5741],\n",
       " [u' Guns & Ammo', 5730],\n",
       " [u'Bubble Tea', 5701],\n",
       " [u' Nutritionists', 5697],\n",
       " [u'Department Stores', 5688],\n",
       " [u' Pilates', 5683],\n",
       " [u'Museums', 5683],\n",
       " [u' Car Window Tinting', 5657],\n",
       " [u' Brewpubs', 5577],\n",
       " [u' Keys & Locksmiths', 5572],\n",
       " [u' Outdoor Gear', 5566],\n",
       " [u' Toy Stores', 5554],\n",
       " [u'Trainers', 5550],\n",
       " [u' Landmarks & Historical Buildings', 5454],\n",
       " [u'Amusement Parks', 5398],\n",
       " [u' Home Window Tinting', 5397],\n",
       " [u' Portuguese', 5390],\n",
       " [u' Outlet Stores', 5376],\n",
       " [u'Auto Detailing', 5374],\n",
       " [u' Poutineries', 5361],\n",
       " [u'Dive Bars', 5349],\n",
       " [u' Pool & Hot Tub Service', 5345],\n",
       " [u' Tiling', 5307],\n",
       " [u'Local Flavor', 5307],\n",
       " [u' Garage Door Services', 5296],\n",
       " [u\" Children's Clothing\", 5294],\n",
       " [u' Thrift Stores', 5286],\n",
       " [u' Child Care & Day Care', 5271],\n",
       " [u' Boot Camps', 5258],\n",
       " [u' Wholesale Stores', 5248],\n",
       " [u' Turkish', 5240],\n",
       " [u' Malaysian', 5226],\n",
       " [u' Naturopathic/Holistic', 5193],\n",
       " [u'Tea Rooms', 5191],\n",
       " [u' Tree Services', 5190],\n",
       " [u'Halal', 5180],\n",
       " [u' Antiques', 5160],\n",
       " [u' Cosmetic Surgeons', 5121],\n",
       " [u'IT Services & Computer Repair', 5101],\n",
       " [u' Peruvian', 5096],\n",
       " [u'Jewelry', 5051],\n",
       " [u' Taxis', 5049],\n",
       " [u' Fondue', 5022],\n",
       " [u'Soul Food', 5015],\n",
       " [u' Pool Cleaners', 4987],\n",
       " [u'Movers', 4980],\n",
       " [u' Community Service/Non-Profit', 4958],\n",
       " [u' Obstetricians & Gynecologists', 4954],\n",
       " [u' Playgrounds', 4938],\n",
       " [u' Whiskey Bars', 4912],\n",
       " [u' Electricians', 4901],\n",
       " [u' Mortgage Brokers', 4881],\n",
       " [u'Caribbean', 4862],\n",
       " [u' Airports', 4844],\n",
       " [u'Sporting Goods', 4822],\n",
       " [u'Shopping Centers', 4795],\n",
       " [u' Television Service Providers', 4747],\n",
       " [u' Event Photography', 4724],\n",
       " [u'Body Shops', 4701],\n",
       " [u' Pet Boarding', 4631],\n",
       " [u' Recreation Centers', 4623],\n",
       " [u' Martial Arts', 4597],\n",
       " [u'Creperies', 4593],\n",
       " [u' Hiking', 4590],\n",
       " [u' Periodontists', 4575],\n",
       " [u'Poke', 4565],\n",
       " [u' Session Photography', 4559],\n",
       " [u' Windows Installation', 4530],\n",
       " [u' Belgian', 4515],\n",
       " [u'Beer Bar', 4489],\n",
       " [u' Szechuan', 4479],\n",
       " [u' Pool Halls', 4476],\n",
       " [u'Pet Stores', 4470],\n",
       " [u'Real Estate Services', 4463],\n",
       " [u'Pet Sitting', 4446],\n",
       " [u\"Men's Clothing\", 4439],\n",
       " [u' Teppanyaki', 4434],\n",
       " [u'Taiwanese', 4431],\n",
       " [u' Watches', 4398],\n",
       " [u'Makeup Artists', 4392],\n",
       " [u'Optometrists', 4380],\n",
       " [u' Notaries', 4371],\n",
       " [u'Massage Therapy', 4371],\n",
       " [u'Home Cleaning', 4369],\n",
       " [u'Home Decor', 4362],\n",
       " [u' Pasta Shops', 4359],\n",
       " [u' Lighting Fixtures & Equipment', 4353],\n",
       " [u' Ophthalmologists', 4353],\n",
       " [u' Bike Rentals', 4351],\n",
       " [u'Pest Control', 4344],\n",
       " [u' Escape Games', 4334],\n",
       " [u' Painters', 4334],\n",
       " [u'Meat Shops', 4327],\n",
       " [u' Festivals', 4273],\n",
       " [u' Kosher', 4263],\n",
       " [u'Auto Glass Services', 4255],\n",
       " [u' Party Supplies', 4245],\n",
       " [u' Shades & Blinds', 4243],\n",
       " [u' Pan Asian', 4237],\n",
       " [u' Graphic Design', 4229],\n",
       " [u'Books', 4227],\n",
       " [u'Dry Cleaning & Laundry', 4218],\n",
       " [u' Preschools', 4212],\n",
       " [u' Music & DVDs', 4205],\n",
       " [u'Chiropractors', 4204],\n",
       " [u'Food Delivery Services', 4166],\n",
       " [u' Pediatricians', 4138],\n",
       " [u'Furniture Stores', 4127],\n",
       " [u' Acai Bowls', 4119],\n",
       " [u' Bike Repair/Maintenance', 4115],\n",
       " [u'Pakistani', 4079],\n",
       " [u'Banks & Credit Unions', 4032],\n",
       " [u' Zoos', 4010],\n",
       " [u' Door Sales/Installation', 4000],\n",
       " [u' Nail Technicians', 3998],\n",
       " [u' Sports Medicine', 3995],\n",
       " [u'Electronics', 3985],\n",
       " [u'Chicken Shop', 3974],\n",
       " [u'Mobile Phones', 3957],\n",
       " [u' Gun/Rifle Ranges', 3953],\n",
       " [u' Packing Services', 3937],\n",
       " [u' Hot Tub & Pool', 3927],\n",
       " [u' Cuban', 3909],\n",
       " [u'Tobacco Shops', 3879],\n",
       " [u' Jewelry Repair', 3877],\n",
       " [u' Macarons', 3875],\n",
       " [u' Falafel', 3826],\n",
       " [u'Dim Sum', 3813],\n",
       " [u' Dermatologists', 3805],\n",
       " [u' Gay Bars', 3801],\n",
       " [u' Motorcycle Dealers', 3783],\n",
       " [u'Convenience Stores', 3776],\n",
       " [u'Farmers Market', 3770],\n",
       " [u'Cupcakes', 3758],\n",
       " [u' Polish', 3750],\n",
       " [u' Irrigation', 3743],\n",
       " [u' Cheese Shops', 3737],\n",
       " [u'Gas Stations', 3735],\n",
       " [u' Comedy Clubs', 3728],\n",
       " [u' Water Purification Services', 3697],\n",
       " [u' Telecommunications', 3692],\n",
       " [u'Szechuan', 3691],\n",
       " [u'Gelato', 3680],\n",
       " [u' Car Stereo Installation', 3679],\n",
       " [u' Window Washing', 3647],\n",
       " [u' Baby Gear & Furniture', 3641],\n",
       " [u'Medical Spas', 3640],\n",
       " [u' Couriers & Delivery Services', 3638],\n",
       " [u' Food Court', 3623],\n",
       " [u' Afghan', 3608],\n",
       " [u' Bistros', 3605],\n",
       " [u' Aquariums', 3598],\n",
       " [u' Vacation Rentals', 3589],\n",
       " [u'Accessories', 3588],\n",
       " [u'Laundry Services', 3579],\n",
       " [u'Specialty Schools', 3526],\n",
       " [u'Fish & Chips', 3519],\n",
       " [u' Watch Repair', 3514],\n",
       " [u'Tours', 3514],\n",
       " [u' Mongolian', 3506],\n",
       " [u'Florists', 3482],\n",
       " [u' Dry Cleaning', 3480],\n",
       " [u' Personal Injury Law', 3476],\n",
       " [u' Motorcycle Repair', 3474],\n",
       " [u'Health Markets', 3456],\n",
       " [u' Wineries', 3447],\n",
       " [u'Yoga', 3435],\n",
       " [u' Art Classes', 3429],\n",
       " [u'Arts & Crafts', 3429],\n",
       " [u' Head Shops', 3398],\n",
       " [u' Data Recovery', 3393],\n",
       " [u' Formal Wear', 3377],\n",
       " [u'Self Storage', 3371],\n",
       " [u' Art Supplies', 3361],\n",
       " [u' Cards & Stationery', 3353],\n",
       " [u' Marketing', 3346],\n",
       " [u' Mailbox Centers', 3336],\n",
       " [u' International Grocery', 3321],\n",
       " [u' Tattoo Removal', 3305],\n",
       " [u'Eyewear & Opticians', 3293],\n",
       " [u'Tanning', 3279],\n",
       " [u' Delicatessen', 3266],\n",
       " [u' Botanical Gardens', 3261],\n",
       " [u' Supernatural Readings', 3250],\n",
       " [u'Brasseries', 3243],\n",
       " [u' Pressure Washers', 3242],\n",
       " [u'Irish', 3234],\n",
       " [u'None', 3222],\n",
       " [u'Cheesesteaks', 3217],\n",
       " [u'Appliances & Repair', 3185],\n",
       " [u' Religious Organizations', 3158],\n",
       " [u\"Men's Hair Salons\", 3145],\n",
       " [u' Internal Medicine', 3143],\n",
       " [u'Mobile Phone Repair', 3129],\n",
       " [u' Ethiopian', 3115],\n",
       " [u'Hair Extensions', 3112],\n",
       " [u' Vitamins & Supplements', 3099],\n",
       " [u' Office Equipment', 3092],\n",
       " [u' Landscape Architects', 3085],\n",
       " [u' Cannabis Clinics', 3023],\n",
       " [u'Sewing & Alterations', 3004],\n",
       " [u' Piano Bars', 2997],\n",
       " [u' Leather Goods', 2991],\n",
       " [u'Vape Shops', 2975],\n",
       " [u'Poutineries', 2943],\n",
       " [u'Brazilian', 2938],\n",
       " [u'Chocolatiers & Shops', 2930],\n",
       " [u'Landscaping', 2918],\n",
       " [u'British', 2907],\n",
       " [u' Dance Studios', 2904],\n",
       " [u'Blow Dry/Out Services', 2901],\n",
       " [u'Wedding Planning', 2900],\n",
       " [u' Lingerie', 2889],\n",
       " [u' Moroccan', 2887],\n",
       " [u' Auto Insurance', 2883],\n",
       " [u' Masonry/Concrete', 2883],\n",
       " [u' Diagnostic Imaging', 2877],\n",
       " [u'Urgent Care', 2843],\n",
       " [u' Web Design', 2841],\n",
       " [u'Real Estate Agents', 2838],\n",
       " [u'Internet Service Providers', 2830],\n",
       " [u' Interval Training Gyms', 2824],\n",
       " [u' Dog Walkers', 2819],\n",
       " [u' Vehicle Wraps', 2800],\n",
       " [u'Bridal', 2791],\n",
       " [u' Team Building Activities', 2775],\n",
       " [u' Musical Instruments & Teachers', 2772],\n",
       " [u' Grout Services', 2764],\n",
       " [u'Spanish', 2761],\n",
       " [u' Counseling & Mental Health', 2754],\n",
       " [u' Barre Classes', 2745],\n",
       " [u' Tiki Bars', 2744],\n",
       " [u'Shoe Stores', 2744],\n",
       " [u' Post Offices', 2742],\n",
       " [u' Shoe Repair', 2742],\n",
       " [u' Reiki', 2739],\n",
       " [u'Landmarks & Historical Buildings', 2734],\n",
       " [u'Stadiums & Arenas', 2732],\n",
       " [u' Home Inspectors', 2722],\n",
       " [u' Videos & Video Game Rental', 2714],\n",
       " [u'Golf', 2714],\n",
       " [u' Junk Removal & Hauling', 2705],\n",
       " [u'Filipino', 2691],\n",
       " [u'Flooring', 2685],\n",
       " [u' Gardeners', 2683],\n",
       " [u' Challenge Courses', 2682],\n",
       " [u' Party Equipment Rentals', 2659],\n",
       " [u'Keys & Locksmiths', 2652],\n",
       " [u' Laser Eye Surgery/Lasik', 2648],\n",
       " [u' Wedding Chapels', 2637],\n",
       " [u'Transmission Repair', 2634],\n",
       " [u'Printing Services', 2623],\n",
       " [u' Public Transportation', 2621],\n",
       " [u' Mini Golf', 2617],\n",
       " [u'Carpet Cleaning', 2614],\n",
       " [u'Beer Gardens', 2600],\n",
       " [u'Wheel & Rim Repair', 2585],\n",
       " [u' Home & Rental Insurance', 2579],\n",
       " [u' Auto Loan Providers', 2566],\n",
       " [u'Art Galleries', 2562],\n",
       " [u' Summer Camps', 2559],\n",
       " [u' Refinishing Services', 2535],\n",
       " [u'Guns & Ammo', 2531],\n",
       " [u'Orthodontists', 2529],\n",
       " [u'Hospitals', 2515],\n",
       " [u'Piercing', 2512],\n",
       " [u' Cannabis Dispensaries', 2509],\n",
       " [u' Roofing', 2507],\n",
       " [u'Swimming Pools', 2462],\n",
       " [u' Amateur Sports Teams', 2455],\n",
       " [u' Cosmetology Schools', 2450],\n",
       " [u' Dog Parks', 2450],\n",
       " [u' Signmaking', 2442],\n",
       " [u' Boxing', 2439],\n",
       " [u'Photographers', 2439],\n",
       " [u' Tax Services', 2435],\n",
       " [u' Orthopedists', 2430],\n",
       " [u'Property Management', 2423],\n",
       " [u' Colombian', 2404],\n",
       " [u'Arcades', 2403],\n",
       " [u'Appliances', 2402],\n",
       " [u' Colleges & Universities', 2395],\n",
       " [u'Comedy Clubs', 2388],\n",
       " [u' Argentine', 2381],\n",
       " [u'Street Vendors', 2376],\n",
       " [u' Home Automation', 2364],\n",
       " [u'Towing', 2349],\n",
       " [u' Elementary Schools', 2345],\n",
       " [u'Festivals', 2336],\n",
       " [u'Reflexology', 2315],\n",
       " [u' Bed & Breakfast', 2309],\n",
       " [u' Fences & Gates', 2301],\n",
       " [u'Custom Cakes', 2295],\n",
       " [u' Carpet Installation', 2292],\n",
       " [u'Hot Pot', 2292],\n",
       " [u' Truck Rental', 2285],\n",
       " [u' Cabinetry', 2282],\n",
       " [u' Emergency Pet Hospital', 2268],\n",
       " [u' Party Bus Rentals', 2259],\n",
       " [u' Russian', 2256],\n",
       " [u' Glass & Mirrors', 2248],\n",
       " [u'Family Practice', 2230],\n",
       " [u' Educational Services', 2229],\n",
       " [u' Pretzels', 2229],\n",
       " [u'Electricians', 2229],\n",
       " [u' Laotian', 2221],\n",
       " [u' Furniture Reupholstery', 2212],\n",
       " [u'Obstetricians & Gynecologists', 2207],\n",
       " [u' Accountants', 2205],\n",
       " [u' Criminal Defense Law', 2200],\n",
       " [u' Comic Books', 2188],\n",
       " [u'Computers', 2188],\n",
       " [u'Garage Door Services', 2183],\n",
       " [u'Smog Check Stations', 2180],\n",
       " [u'Mattresses', 2174],\n",
       " [u' Life Coach', 2173],\n",
       " [u'Bowling', 2167],\n",
       " [u' Art Schools', 2144],\n",
       " [u' Arabian', 2143],\n",
       " [u'Gun/Rifle Ranges', 2125],\n",
       " [u'Water Heater Installation/Repair', 2122],\n",
       " [u'Thrift Stores', 2117],\n",
       " [u' Public Markets', 2115],\n",
       " [u' Tanning Beds', 2113],\n",
       " [u'Insurance', 2107],\n",
       " [u' Home Theatre Installation', 2100],\n",
       " [u' Drywall Installation & Repair', 2098],\n",
       " [u'Oral Surgeons', 2093],\n",
       " [u' Vinyl Records', 2089],\n",
       " [u' Mass Media', 2088],\n",
       " [u'Nurseries & Gardening', 2085],\n",
       " [u'Waffles', 2085],\n",
       " [u'Irish Pub', 2083],\n",
       " [u' Eatertainment', 2071],\n",
       " [u'Toy Stores', 2070],\n",
       " [u'Portuguese', 2061],\n",
       " [u'Modern European', 2057],\n",
       " [u'Hardware Stores', 2050],\n",
       " [u'Shipping Centers', 2046],\n",
       " [u' Libraries', 2045],\n",
       " [u'Airlines', 2044],\n",
       " [u' Rugs', 2043],\n",
       " [u'Discount Store', 2038],\n",
       " [u' Pet Adoption', 2020],\n",
       " [u'Windshield Installation & Repair', 1993],\n",
       " [u' Trampoline Parks', 1982],\n",
       " [u'Building Supplies', 1971],\n",
       " [u' Musicians', 1969],\n",
       " [u' Pain Management', 1963],\n",
       " [u'New Mexican Cuisine', 1961],\n",
       " [u'Cantonese', 1948],\n",
       " [u'Airport Shuttles', 1945],\n",
       " [u'Sports Clubs', 1933],\n",
       " [u'Security Systems', 1917],\n",
       " [u'Kitchen & Bath', 1914],\n",
       " [u'Handyman', 1903],\n",
       " [u' Pawn Shops', 1900],\n",
       " [u' Strip Clubs', 1888],\n",
       " [u' Health Retreats', 1878],\n",
       " [u' Popcorn Shops', 1869],\n",
       " [u'Pet Training', 1869],\n",
       " [u' Animal Shelters', 1866],\n",
       " [u'Shaved Ice', 1857],\n",
       " [u' Floral Designers', 1856],\n",
       " [u'Electronics Repair', 1854],\n",
       " [u' Adult Education', 1849],\n",
       " [u' Home Organization', 1848],\n",
       " [u' Plus Size Fashion', 1847],\n",
       " [u'Candy Stores', 1846],\n",
       " [u' Himalayan/Nepalese', 1837],\n",
       " [u'Hobby Shops', 1826],\n",
       " [u' Izakaya', 1822],\n",
       " [u' DJs', 1821],\n",
       " [u' Rafting/Kayaking', 1821],\n",
       " [u' DUI Law', 1818],\n",
       " [u' Fabric Stores', 1813],\n",
       " [u'Eyebrow Services', 1813],\n",
       " [u'Lawyers', 1794],\n",
       " [u' Churches', 1786],\n",
       " [u' Solar Installation', 1784],\n",
       " [u' Musical Instrument Services', 1776],\n",
       " [u' Wigs', 1773],\n",
       " [u' Financial Advising', 1771],\n",
       " [u' Hostels', 1770],\n",
       " [u' Septic Services', 1769],\n",
       " [u' Home Health Care', 1761],\n",
       " [u' Pharmacy', 1759],\n",
       " [u'Laser Hair Removal', 1759],\n",
       " [u' Divorce & Family Law', 1750],\n",
       " [u' Departments of Motor Vehicles', 1744],\n",
       " [u' Magicians', 1735],\n",
       " [u'Food Stands', 1735],\n",
       " [u'Auto Customization', 1721],\n",
       " [u' Personal Shopping', 1719],\n",
       " [u'Bookstores', 1717],\n",
       " [u'Escape Games', 1714],\n",
       " [u' Roadside Assistance', 1711],\n",
       " [u'Weight Loss Centers', 1709],\n",
       " [u' Laboratory Testing', 1707],\n",
       " [u' Legal Services', 1706],\n",
       " [u'Smokehouse', 1703],\n",
       " [u'Cuban', 1690],\n",
       " [u' Gold Buyers', 1684],\n",
       " [u'Pool Cleaners', 1682],\n",
       " [u'Lebanese', 1678],\n",
       " [u'Outlet Stores', 1676],\n",
       " [u' Traditional Chinese Medicine', 1673],\n",
       " [u'Pediatric Dentists', 1670],\n",
       " [u' Costumes', 1666],\n",
       " [u'Physical Therapy', 1664],\n",
       " [u' Mountain Biking', 1663],\n",
       " [u' Medical Supplies', 1652],\n",
       " [u' Paint & Sip', 1652],\n",
       " [u'Churches', 1652],\n",
       " [u' Go Karts', 1648],\n",
       " [u' Salvadoran', 1644],\n",
       " [u' Radiologists', 1637],\n",
       " [u' Henna Artists', 1636],\n",
       " [u' Kebab', 1636],\n",
       " [u'Travel Services', 1633],\n",
       " [u'Hiking', 1616],\n",
       " [u'Pediatricians', 1609],\n",
       " [u' Personal Chefs', 1602],\n",
       " [u' Laser Tag', 1589],\n",
       " [u'Used', 1585],\n",
       " [u' RV Dealers', 1577],\n",
       " [u'Spray Tanning', 1572],\n",
       " [u'Sports Wear', 1571],\n",
       " [u'Antiques', 1567],\n",
       " [u'Coffee Roasteries', 1549],\n",
       " [u' RV Repair', 1538],\n",
       " [u'Office Cleaning', 1532],\n",
       " [u'Wholesale Stores', 1532],\n",
       " [u' Utilities', 1525],\n",
       " [u' Venezuelan', 1525],\n",
       " [u' Advertising', 1521],\n",
       " [u'Religious Organizations', 1519],\n",
       " [u' Parking', 1517],\n",
       " [u' Leisure Centers', 1516],\n",
       " [u' Screen Printing/T-Shirt Printing', 1509],\n",
       " [u' Water Parks', 1506],\n",
       " [u' Rehabilitation Center', 1504],\n",
       " [u'Aquariums', 1499],\n",
       " [u'Turkish', 1494],\n",
       " [u' Cycling Classes', 1487],\n",
       " [u' Beer Garden', 1472],\n",
       " [u' Dance Schools', 1471],\n",
       " [u' Screen Printing', 1471],\n",
       " [u' Cardio Classes', 1469],\n",
       " [u'Painters', 1467],\n",
       " [u' Puerto Rican', 1466],\n",
       " [u' Singaporean', 1465],\n",
       " [u'Public Transportation', 1465],\n",
       " [u' Ticket Sales', 1456],\n",
       " [u'Venezuelan', 1454],\n",
       " [u'Organic Stores', 1452],\n",
       " [u' Boating', 1449],\n",
       " [u'Peruvian', 1447],\n",
       " [u' Tuscan', 1446],\n",
       " [u'Permanent Makeup', 1446],\n",
       " [u'Karaoke', 1438],\n",
       " [u' Cambodian', 1436],\n",
       " [u' Motorcycle Gear', 1432],\n",
       " [u' Teeth Whitening', 1432],\n",
       " [u'Persian/Iranian', 1428],\n",
       " [u' Country Dance Halls', 1427],\n",
       " [u' Hydro-jetting', 1427],\n",
       " [u' Emergency Rooms', 1424],\n",
       " [u' Herbs & Spices', 1418],\n",
       " [u' Shutters', 1415],\n",
       " [u'Mongolian', 1411],\n",
       " [u'Limos', 1409],\n",
       " [u' Commercial Real Estate', 1407],\n",
       " [u'Jazz & Blues', 1407],\n",
       " [u'Magicians', 1406],\n",
       " [u'Imported Food', 1404],\n",
       " [u'Used Car Dealers', 1403],\n",
       " [u' Sugaring', 1394],\n",
       " [u' Christmas Trees', 1381],\n",
       " [u'Couriers & Delivery Services', 1380],\n",
       " [u'Bikes', 1379],\n",
       " [u' Speakeasies', 1373],\n",
       " [u' Horseback Riding', 1369],\n",
       " [u' Podiatrists', 1364],\n",
       " [u' Furniture Assembly', 1361],\n",
       " [u'Carpeting', 1361],\n",
       " [u'Vacation Rentals', 1360],\n",
       " [u' Driving Schools', 1358],\n",
       " [u' Mortgage Lenders', 1358],\n",
       " [u' RV Rental', 1352],\n",
       " [u' Laundromat', 1341],\n",
       " [u' Customized Merchandise', 1340],\n",
       " [u'German', 1334],\n",
       " [u' Packing Supplies', 1330],\n",
       " [u' Video/Film Production', 1329],\n",
       " [u' Tabletop Games', 1327],\n",
       " [u' Life Insurance', 1326],\n",
       " [u'Playgrounds', 1326],\n",
       " [u'Mortgage Brokers', 1325],\n",
       " [u' Adult', 1323],\n",
       " [u'Pet Boarding', 1315],\n",
       " [u' Airport Lounges', 1312],\n",
       " [u' ATV Rentals/Tours', 1309],\n",
       " [u' Security Services', 1307],\n",
       " [u' Home Staging', 1298],\n",
       " [u' Patio Coverings', 1290],\n",
       " [u'Child Care & Day Care', 1275],\n",
       " [u' Baseball Fields', 1273],\n",
       " [u' Ear Nose & Throat', 1273],\n",
       " [u' TV Mounting', 1269],\n",
       " [u'Dermatologists', 1269],\n",
       " [u'Post Offices', 1267],\n",
       " [u'Acupuncture', 1259],\n",
       " [u'Tree Services', 1259],\n",
       " [u'Diagnostic Services', 1256],\n",
       " [u' Surgeons', 1254],\n",
       " [u'Endodontists', 1254],\n",
       " [u' Hunting & Fishing Supplies', 1253],\n",
       " [u' Cooking Schools', 1252],\n",
       " [u' Distilleries', 1247],\n",
       " [u' Photo Booth Rentals', 1244],\n",
       " [u'Gift Shops', 1244],\n",
       " [u'Ethiopian', 1234],\n",
       " [u' Bus Tours', 1232],\n",
       " [u'Cannabis Clinics', 1232],\n",
       " [u' Souvenir Shops', 1231],\n",
       " [u'Polish', 1226],\n",
       " [u'Pawn Shops', 1225],\n",
       " [u' Meditation Centers', 1222],\n",
       " [u'Motorcycle Repair', 1216],\n",
       " [u' Video Game Stores', 1213],\n",
       " [u'African', 1207],\n",
       " [u' Cooking Classes', 1204],\n",
       " [u'Live/Raw Food', 1204],\n",
       " [u'Shoe Repair', 1204],\n",
       " ...]"
      ]
     },
     "execution_count": 289,
     "metadata": {},
     "output_type": "execute_result"
    }
   ],
   "source": []
  },
  {
   "cell_type": "code",
   "execution_count": 236,
   "metadata": {},
   "outputs": [],
   "source": [
    "\n",
    "hah=haha[:60]"
   ]
  },
  {
   "cell_type": "code",
   "execution_count": 237,
   "metadata": {},
   "outputs": [],
   "source": [
    "cat_freq = pd.DataFrame({'cat':hah[0],'freq':hah[1]})"
   ]
  },
  {
   "cell_type": "code",
   "execution_count": 240,
   "metadata": {},
   "outputs": [
    {
     "data": {
      "text/html": [
       "<div>\n",
       "<style scoped>\n",
       "    .dataframe tbody tr th:only-of-type {\n",
       "        vertical-align: middle;\n",
       "    }\n",
       "\n",
       "    .dataframe tbody tr th {\n",
       "        vertical-align: top;\n",
       "    }\n",
       "\n",
       "    .dataframe thead th {\n",
       "        text-align: right;\n",
       "    }\n",
       "</style>\n",
       "<table border=\"1\" class=\"dataframe\">\n",
       "  <thead>\n",
       "    <tr style=\"text-align: right;\">\n",
       "      <th></th>\n",
       "      <th>cat</th>\n",
       "      <th>freq</th>\n",
       "    </tr>\n",
       "  </thead>\n",
       "  <tbody>\n",
       "    <tr>\n",
       "      <th>0</th>\n",
       "      <td>Restaurants</td>\n",
       "      <td>Food</td>\n",
       "    </tr>\n",
       "    <tr>\n",
       "      <th>1</th>\n",
       "      <td>3654797</td>\n",
       "      <td>889180</td>\n",
       "    </tr>\n",
       "  </tbody>\n",
       "</table>\n",
       "</div>"
      ],
      "text/plain": [
       "           cat    freq\n",
       "0  Restaurants    Food\n",
       "1      3654797  889180"
      ]
     },
     "execution_count": 240,
     "metadata": {},
     "output_type": "execute_result"
    }
   ],
   "source": [
    "cat_freq"
   ]
  },
  {
   "cell_type": "code",
   "execution_count": 270,
   "metadata": {},
   "outputs": [],
   "source": [
    "attrib = ['Restaurants','Active Life','Home Services','Food','Nightlife','Bars','Event Planning & Services','Shopping','Arts & Entertainment','Beauty & Spas','Automotive','Local Services','Health & Medical','Hotels & Travel']"
   ]
  },
  {
   "cell_type": "code",
   "execution_count": 12,
   "metadata": {},
   "outputs": [],
   "source": [
    "import numpy as np\n",
    "# data = np.array([np.arange(10)]*3).T\n"
   ]
  },
  {
   "cell_type": "code",
   "execution_count": 276,
   "metadata": {},
   "outputs": [],
   "source": [
    "cat_freq_list = {}\n",
    "for i  in hah:\n",
    "    if(i[0].strip() in attrib):\n",
    "                        if i[0].strip() not in cat_freq_list:\n",
    "                              cat_freq_list[i[0].strip()]=i[1]\n",
    "                        else:\n",
    "                            cat_freq_list[i[0].strip()]+=i[1]\n",
    "                "
   ]
  },
  {
   "cell_type": "code",
   "execution_count": 284,
   "metadata": {},
   "outputs": [],
   "source": [
    "cat_freq = pd.DataFrame(cat_freq_list.items(),columns=['category','freq'])"
   ]
  },
  {
   "cell_type": "code",
   "execution_count": 285,
   "metadata": {},
   "outputs": [
    {
     "data": {
      "text/html": [
       "<div>\n",
       "<style scoped>\n",
       "    .dataframe tbody tr th:only-of-type {\n",
       "        vertical-align: middle;\n",
       "    }\n",
       "\n",
       "    .dataframe tbody tr th {\n",
       "        vertical-align: top;\n",
       "    }\n",
       "\n",
       "    .dataframe thead th {\n",
       "        text-align: right;\n",
       "    }\n",
       "</style>\n",
       "<table border=\"1\" class=\"dataframe\">\n",
       "  <thead>\n",
       "    <tr style=\"text-align: right;\">\n",
       "      <th></th>\n",
       "      <th>category</th>\n",
       "      <th>freq</th>\n",
       "    </tr>\n",
       "  </thead>\n",
       "  <tbody>\n",
       "    <tr>\n",
       "      <th>0</th>\n",
       "      <td>Bars</td>\n",
       "      <td>771566</td>\n",
       "    </tr>\n",
       "    <tr>\n",
       "      <th>1</th>\n",
       "      <td>Shopping</td>\n",
       "      <td>442678</td>\n",
       "    </tr>\n",
       "    <tr>\n",
       "      <th>2</th>\n",
       "      <td>Food</td>\n",
       "      <td>889180</td>\n",
       "    </tr>\n",
       "    <tr>\n",
       "      <th>3</th>\n",
       "      <td>Automotive</td>\n",
       "      <td>159089</td>\n",
       "    </tr>\n",
       "    <tr>\n",
       "      <th>4</th>\n",
       "      <td>Beauty &amp; Spas</td>\n",
       "      <td>378686</td>\n",
       "    </tr>\n",
       "    <tr>\n",
       "      <th>5</th>\n",
       "      <td>Local Services</td>\n",
       "      <td>137535</td>\n",
       "    </tr>\n",
       "    <tr>\n",
       "      <th>6</th>\n",
       "      <td>Arts &amp; Entertainment</td>\n",
       "      <td>280685</td>\n",
       "    </tr>\n",
       "    <tr>\n",
       "      <th>7</th>\n",
       "      <td>Active Life</td>\n",
       "      <td>140617</td>\n",
       "    </tr>\n",
       "    <tr>\n",
       "      <th>8</th>\n",
       "      <td>Health &amp; Medical</td>\n",
       "      <td>161083</td>\n",
       "    </tr>\n",
       "    <tr>\n",
       "      <th>9</th>\n",
       "      <td>Nightlife</td>\n",
       "      <td>827917</td>\n",
       "    </tr>\n",
       "    <tr>\n",
       "      <th>10</th>\n",
       "      <td>Hotels &amp; Travel</td>\n",
       "      <td>225257</td>\n",
       "    </tr>\n",
       "    <tr>\n",
       "      <th>11</th>\n",
       "      <td>Home Services</td>\n",
       "      <td>180200</td>\n",
       "    </tr>\n",
       "    <tr>\n",
       "      <th>12</th>\n",
       "      <td>Event Planning &amp; Services</td>\n",
       "      <td>363838</td>\n",
       "    </tr>\n",
       "    <tr>\n",
       "      <th>13</th>\n",
       "      <td>Restaurants</td>\n",
       "      <td>3654797</td>\n",
       "    </tr>\n",
       "  </tbody>\n",
       "</table>\n",
       "</div>"
      ],
      "text/plain": [
       "                     category     freq\n",
       "0                        Bars   771566\n",
       "1                    Shopping   442678\n",
       "2                        Food   889180\n",
       "3                  Automotive   159089\n",
       "4               Beauty & Spas   378686\n",
       "5              Local Services   137535\n",
       "6        Arts & Entertainment   280685\n",
       "7                 Active Life   140617\n",
       "8            Health & Medical   161083\n",
       "9                   Nightlife   827917\n",
       "10            Hotels & Travel   225257\n",
       "11              Home Services   180200\n",
       "12  Event Planning & Services   363838\n",
       "13                Restaurants  3654797"
      ]
     },
     "execution_count": 285,
     "metadata": {},
     "output_type": "execute_result"
    }
   ],
   "source": [
    "cat_freq"
   ]
  },
  {
   "cell_type": "code",
   "execution_count": 71,
   "metadata": {},
   "outputs": [],
   "source": [
    "# from ggplot import *"
   ]
  },
  {
   "cell_type": "code",
   "execution_count": 26,
   "metadata": {},
   "outputs": [
    {
     "name": "stdout",
     "output_type": "stream",
     "text": [
      "['seaborn-darkgrid', 'Solarize_Light2', 'seaborn-notebook', 'classic', 'seaborn-ticks', 'grayscale', 'bmh', 'seaborn-talk', 'dark_background', 'ggplot', 'fivethirtyeight', '_classic_test', 'seaborn-colorblind', 'seaborn-deep', 'seaborn-whitegrid', 'seaborn', 'seaborn-poster', 'seaborn-bright', 'seaborn-muted', 'seaborn-paper', 'seaborn-white', 'fast', 'seaborn-pastel', 'seaborn-dark', 'tableau-colorblind10', 'seaborn-dark-palette']\n"
     ]
    }
   ],
   "source": [
    "import matplotlib.pyplot as plt\n",
    "print(plt.style.available)"
   ]
  },
  {
   "cell_type": "code",
   "execution_count": 309,
   "metadata": {},
   "outputs": [],
   "source": [
    "from pandas import Timestamp"
   ]
  },
  {
   "cell_type": "code",
   "execution_count": 311,
   "metadata": {},
   "outputs": [],
   "source": [
    "import ggplot"
   ]
  },
  {
   "cell_type": "code",
   "execution_count": 312,
   "metadata": {},
   "outputs": [],
   "source": [
    "star_freq = review_data.groupBy(\"stars\").count()"
   ]
  },
  {
   "cell_type": "code",
   "execution_count": 322,
   "metadata": {},
   "outputs": [
    {
     "name": "stdout",
     "output_type": "stream",
     "text": [
      "root\n",
      " |-- stars: long (nullable = true)\n",
      " |-- count: long (nullable = false)\n",
      "\n"
     ]
    }
   ],
   "source": [
    "star_freq.printSchema()"
   ]
  },
  {
   "cell_type": "code",
   "execution_count": 318,
   "metadata": {},
   "outputs": [],
   "source": [
    "star_freq_df = star_freq.collect()"
   ]
  },
  {
   "cell_type": "code",
   "execution_count": 345,
   "metadata": {},
   "outputs": [
    {
     "data": {
      "text/plain": [
       "Row(stars=5, count=2641880)"
      ]
     },
     "execution_count": 345,
     "metadata": {},
     "output_type": "execute_result"
    }
   ],
   "source": [
    "star_freq_df[0]"
   ]
  },
  {
   "cell_type": "code",
   "execution_count": 346,
   "metadata": {},
   "outputs": [],
   "source": [
    "star_freq_df_2 = pd.DataFrame(dict(star_freq_df).items(),columns=['stars','count'])"
   ]
  },
  {
   "cell_type": "code",
   "execution_count": 347,
   "metadata": {},
   "outputs": [
    {
     "data": {
      "text/html": [
       "<div>\n",
       "<style scoped>\n",
       "    .dataframe tbody tr th:only-of-type {\n",
       "        vertical-align: middle;\n",
       "    }\n",
       "\n",
       "    .dataframe tbody tr th {\n",
       "        vertical-align: top;\n",
       "    }\n",
       "\n",
       "    .dataframe thead th {\n",
       "        text-align: right;\n",
       "    }\n",
       "</style>\n",
       "<table border=\"1\" class=\"dataframe\">\n",
       "  <thead>\n",
       "    <tr style=\"text-align: right;\">\n",
       "      <th></th>\n",
       "      <th>stars</th>\n",
       "      <th>count</th>\n",
       "    </tr>\n",
       "  </thead>\n",
       "  <tbody>\n",
       "    <tr>\n",
       "      <th>0</th>\n",
       "      <td>1</td>\n",
       "      <td>858139</td>\n",
       "    </tr>\n",
       "    <tr>\n",
       "      <th>1</th>\n",
       "      <td>2</td>\n",
       "      <td>487813</td>\n",
       "    </tr>\n",
       "    <tr>\n",
       "      <th>2</th>\n",
       "      <td>3</td>\n",
       "      <td>673206</td>\n",
       "    </tr>\n",
       "    <tr>\n",
       "      <th>3</th>\n",
       "      <td>4</td>\n",
       "      <td>1335957</td>\n",
       "    </tr>\n",
       "    <tr>\n",
       "      <th>4</th>\n",
       "      <td>5</td>\n",
       "      <td>2641880</td>\n",
       "    </tr>\n",
       "  </tbody>\n",
       "</table>\n",
       "</div>"
      ],
      "text/plain": [
       "   stars    count\n",
       "0      1   858139\n",
       "1      2   487813\n",
       "2      3   673206\n",
       "3      4  1335957\n",
       "4      5  2641880"
      ]
     },
     "execution_count": 347,
     "metadata": {},
     "output_type": "execute_result"
    }
   ],
   "source": [
    "star_freq_df_2"
   ]
  },
  {
   "cell_type": "code",
   "execution_count": 348,
   "metadata": {},
   "outputs": [
    {
     "data": {
      "image/png": "[encoded data removed]",
      "text/plain": [
       "<Figure size 1080x720 with 1 Axes>"
      ]
     },
     "metadata": {
      "needs_background": "light"
     },
     "output_type": "display_data"
    }
   ],
   "source": [
    "star_freq_df_2.plot(kind='bar',figsize=(15,10),legend=True,fontsize=14)\n",
    "plt.show()"
   ]
  },
  {
   "cell_type": "code",
   "execution_count": 349,
   "metadata": {},
   "outputs": [],
   "source": [
    "star_freq_graph = [go.Pie(labels=star_freq_df_2['stars'],values=star_freq_df_2['count'])]"
   ]
  },
  {
   "cell_type": "code",
   "execution_count": 350,
   "metadata": {},
   "outputs": [
    {
     "data": {
      "text/html": [
       "<iframe id=\"igraph\" scrolling=\"no\" style=\"border:none;\" seamless=\"seamless\" src=\"https://plot.ly/~AkashMahalik/18.embed\" height=\"525px\" width=\"100%\"></iframe>"
      ],
      "text/plain": [
       "<plotly.tools.PlotlyDisplay object>"
      ]
     },
     "execution_count": 350,
     "metadata": {},
     "output_type": "execute_result"
    }
   ],
   "source": [
    "py.iplot(star_freq_graph)"
   ]
  },
  {
   "cell_type": "code",
   "execution_count": 352,
   "metadata": {},
   "outputs": [],
   "source": [
    "#https://plot.ly/create/?fid=AkashMahalik:18#/"
   ]
  },
  {
   "cell_type": "code",
   "execution_count": 357,
   "metadata": {},
   "outputs": [],
   "source": [
    "yearGroup = df.select('yelping_since_new').groupBy('yelping_since_new').count()\n"
   ]
  },
  {
   "cell_type": "code",
   "execution_count": 423,
   "metadata": {},
   "outputs": [
    {
     "data": {
      "text/plain": [
       "0    2004\n",
       "1    2005\n",
       "2    2006\n",
       "3    2007\n",
       "Name: yelping_since_new, dtype: int32"
      ]
     },
     "execution_count": 423,
     "metadata": {},
     "output_type": "execute_result"
    }
   ],
   "source": [
    "\n",
    "yearGroup=yearGroup.sort(col(\"yelping_since_new\"))\n",
    "yearGroup.toPandas()['yelping_since_new'][0:4]"
   ]
  },
  {
   "cell_type": "code",
   "execution_count": 424,
   "metadata": {},
   "outputs": [],
   "source": [
    "year_freq_graph = [go.Scatter(x=yearGroup.toPandas()['yelping_since_new'],y=yearGroup.toPandas()['count'])]\n",
    "# py.iplot(year_freq_graph)"
   ]
  },
  {
   "cell_type": "code",
   "execution_count": 367,
   "metadata": {},
   "outputs": [],
   "source": [
    "from pandas import Series, DataFrame\n",
    "from numpy.random import randn\n",
    "from pandas import *\n",
    "ts = Series(randn(1000), index=date_range('1/1/2000', periods=1000))"
   ]
  },
  {
   "cell_type": "code",
   "execution_count": 425,
   "metadata": {},
   "outputs": [
    {
     "data": {
      "text/html": [
       "<iframe id=\"igraph\" scrolling=\"no\" style=\"border:none;\" seamless=\"seamless\" src=\"https://plot.ly/~AkashMahalik/22.embed\" height=\"525px\" width=\"100%\"></iframe>"
      ],
      "text/plain": [
       "<plotly.tools.PlotlyDisplay object>"
      ]
     },
     "execution_count": 425,
     "metadata": {},
     "output_type": "execute_result"
    }
   ],
   "source": [
    "py.iplot(year_freq_graph)"
   ]
  },
  {
   "cell_type": "code",
   "execution_count": 10,
   "metadata": {},
   "outputs": [
    {
     "name": "stdout",
     "output_type": "stream",
     "text": [
      "root\n",
      " |-- yelping_since_new: integer (nullable = true)\n",
      " |-- cnt: long (nullable = false)\n",
      "\n"
     ]
    }
   ],
   "source": [
    "sql_context.registerDataFrameAsTable(df.select(\"yelping_since_new\"),\"year\")\n",
    "yearq = sql_context.sql(\"SELECT yelping_since_new,COUNT(yelping_since_new) as cnt FROM year group by yelping_since_new\")\n",
    "yearq.printSchema()"
   ]
  },
  {
   "cell_type": "code",
   "execution_count": 12,
   "metadata": {},
   "outputs": [],
   "source": [
    "yearPandas = yearq.toPandas()"
   ]
  },
  {
   "cell_type": "code",
   "execution_count": 14,
   "metadata": {},
   "outputs": [],
   "source": [
    "yearPandas = yearPandas.sort_values(by ='yelping_since_new')"
   ]
  },
  {
   "cell_type": "code",
   "execution_count": 17,
   "metadata": {},
   "outputs": [],
   "source": [
    "yearPandas['lol'] = yearPandas['cnt'].cumsum(axis = 0)"
   ]
  },
  {
   "cell_type": "code",
   "execution_count": 18,
   "metadata": {},
   "outputs": [
    {
     "data": {
      "text/html": [
       "<div>\n",
       "<style scoped>\n",
       "    .dataframe tbody tr th:only-of-type {\n",
       "        vertical-align: middle;\n",
       "    }\n",
       "\n",
       "    .dataframe tbody tr th {\n",
       "        vertical-align: top;\n",
       "    }\n",
       "\n",
       "    .dataframe thead th {\n",
       "        text-align: right;\n",
       "    }\n",
       "</style>\n",
       "<table border=\"1\" class=\"dataframe\">\n",
       "  <thead>\n",
       "    <tr style=\"text-align: right;\">\n",
       "      <th></th>\n",
       "      <th>yelping_since_new</th>\n",
       "      <th>cnt</th>\n",
       "      <th>lol</th>\n",
       "    </tr>\n",
       "  </thead>\n",
       "  <tbody>\n",
       "    <tr>\n",
       "      <th>6</th>\n",
       "      <td>2004</td>\n",
       "      <td>80</td>\n",
       "      <td>80</td>\n",
       "    </tr>\n",
       "    <tr>\n",
       "      <th>10</th>\n",
       "      <td>2005</td>\n",
       "      <td>988</td>\n",
       "      <td>1068</td>\n",
       "    </tr>\n",
       "    <tr>\n",
       "      <th>3</th>\n",
       "      <td>2006</td>\n",
       "      <td>5780</td>\n",
       "      <td>6848</td>\n",
       "    </tr>\n",
       "    <tr>\n",
       "      <th>0</th>\n",
       "      <td>2007</td>\n",
       "      <td>16218</td>\n",
       "      <td>23066</td>\n",
       "    </tr>\n",
       "    <tr>\n",
       "      <th>13</th>\n",
       "      <td>2008</td>\n",
       "      <td>31887</td>\n",
       "      <td>54953</td>\n",
       "    </tr>\n",
       "    <tr>\n",
       "      <th>8</th>\n",
       "      <td>2009</td>\n",
       "      <td>61917</td>\n",
       "      <td>116870</td>\n",
       "    </tr>\n",
       "    <tr>\n",
       "      <th>11</th>\n",
       "      <td>2010</td>\n",
       "      <td>103363</td>\n",
       "      <td>220233</td>\n",
       "    </tr>\n",
       "    <tr>\n",
       "      <th>12</th>\n",
       "      <td>2011</td>\n",
       "      <td>161584</td>\n",
       "      <td>381817</td>\n",
       "    </tr>\n",
       "    <tr>\n",
       "      <th>7</th>\n",
       "      <td>2012</td>\n",
       "      <td>174990</td>\n",
       "      <td>556807</td>\n",
       "    </tr>\n",
       "    <tr>\n",
       "      <th>4</th>\n",
       "      <td>2013</td>\n",
       "      <td>188107</td>\n",
       "      <td>744914</td>\n",
       "    </tr>\n",
       "    <tr>\n",
       "      <th>5</th>\n",
       "      <td>2014</td>\n",
       "      <td>218276</td>\n",
       "      <td>963190</td>\n",
       "    </tr>\n",
       "    <tr>\n",
       "      <th>2</th>\n",
       "      <td>2015</td>\n",
       "      <td>225170</td>\n",
       "      <td>1188360</td>\n",
       "    </tr>\n",
       "    <tr>\n",
       "      <th>9</th>\n",
       "      <td>2016</td>\n",
       "      <td>182770</td>\n",
       "      <td>1371130</td>\n",
       "    </tr>\n",
       "    <tr>\n",
       "      <th>14</th>\n",
       "      <td>2017</td>\n",
       "      <td>106721</td>\n",
       "      <td>1477851</td>\n",
       "    </tr>\n",
       "    <tr>\n",
       "      <th>1</th>\n",
       "      <td>2018</td>\n",
       "      <td>40318</td>\n",
       "      <td>1518169</td>\n",
       "    </tr>\n",
       "  </tbody>\n",
       "</table>\n",
       "</div>"
      ],
      "text/plain": [
       "    yelping_since_new     cnt      lol\n",
       "6                2004      80       80\n",
       "10               2005     988     1068\n",
       "3                2006    5780     6848\n",
       "0                2007   16218    23066\n",
       "13               2008   31887    54953\n",
       "8                2009   61917   116870\n",
       "11               2010  103363   220233\n",
       "12               2011  161584   381817\n",
       "7                2012  174990   556807\n",
       "4                2013  188107   744914\n",
       "5                2014  218276   963190\n",
       "2                2015  225170  1188360\n",
       "9                2016  182770  1371130\n",
       "14               2017  106721  1477851\n",
       "1                2018   40318  1518169"
      ]
     },
     "execution_count": 18,
     "metadata": {},
     "output_type": "execute_result"
    }
   ],
   "source": [
    "yearPandas"
   ]
  },
  {
   "cell_type": "code",
   "execution_count": 24,
   "metadata": {},
   "outputs": [],
   "source": [
    "year_freq_graph = [go.Scatter(x=yearPandas['yelping_since_new'],y=yearPandas['lol'])]\n",
    "# py.iplot(year_freq_graph)"
   ]
  },
  {
   "cell_type": "code",
   "execution_count": 26,
   "metadata": {},
   "outputs": [
    {
     "data": {
      "text/html": [
       "<iframe id=\"igraph\" scrolling=\"no\" style=\"border:none;\" seamless=\"seamless\" src=\"https://plot.ly/~AkashMahalik/30.embed\" height=\"525px\" width=\"100%\"></iframe>"
      ],
      "text/plain": [
       "<plotly.tools.PlotlyDisplay object>"
      ]
     },
     "execution_count": 26,
     "metadata": {},
     "output_type": "execute_result"
    }
   ],
   "source": [
    "py.iplot(year_freq_graph)"
   ]
  },
  {
   "cell_type": "code",
   "execution_count": 374,
   "metadata": {},
   "outputs": [],
   "source": [
    "dateGroup = df.select('yelping_since').groupBy('yelping_since').count()"
   ]
  },
  {
   "cell_type": "code",
   "execution_count": 375,
   "metadata": {},
   "outputs": [],
   "source": [
    "from pyspark.sql.functions import *\n",
    "dateGroup=dateGroup.sort(col(\"yelping_since\"))"
   ]
  },
  {
   "cell_type": "code",
   "execution_count": 385,
   "metadata": {},
   "outputs": [],
   "source": [
    "# dateGroup.take(1)\n",
    "dateGroup = dateGroup.withColumn('class',lit('A'))"
   ]
  },
  {
   "cell_type": "code",
   "execution_count": 388,
   "metadata": {},
   "outputs": [
    {
     "ename": "AnalysisException",
     "evalue": "u\"grouping expressions sequence is empty, and '`yelping_since`' is not an aggregate function. Wrap '(sum(`count`) AS `cumsum`)' in windowing function(s) or wrap '`yelping_since`' in first() (or first_value) if you don't care which value you get.;;\\nAggregate [yelping_since#2784, count#5067L, class#5085, sum(count#5067L) AS cumsum#5094L]\\n+- Project [yelping_since#2784, count#5067L, A AS class#5085]\\n   +- Project [yelping_since#2784, count#5067L, A AS class#5081]\\n      +- Sort [yelping_since#2784 ASC NULLS FIRST], true\\n         +- Aggregate [yelping_since#2784], [yelping_since#2784, count(1) AS count#5067L]\\n            +- Project [yelping_since#2784]\\n               +- Project [average_stars#2763, compliment_cool#2764L, compliment_cute#2765L, compliment_funny#2766L, compliment_hot#2767L, compliment_list#2768L, compliment_more#2769L, compliment_note#2770L, compliment_photos#2771L, compliment_plain#2772L, compliment_profile#2773L, compliment_writer#2774L, cool#2775L, elite#2776, fans#2777L, friends#2778, funny#2779L, name#2780, review_count#2781L, useful#2782L, user_id#2783, yelping_since#2784, custom_timestamp(yelping_since#2784) AS yelping_since_new#2878]\\n                  +- Project [average_stars#2763, compliment_cool#2764L, compliment_cute#2765L, compliment_funny#2766L, compliment_hot#2767L, compliment_list#2768L, compliment_more#2769L, compliment_note#2770L, compliment_photos#2771L, compliment_plain#2772L, compliment_profile#2773L, compliment_writer#2774L, cool#2775L, elite#2776, fans#2777L, friends#2778, funny#2779L, name#2780, review_count#2781L, useful#2782L, user_id#2783, yelping_since#2784, custom_timestamp(yelping_since#2784) AS yelping_since_new#2830]\\n                     +- Relation[average_stars#2763,compliment_cool#2764L,compliment_cute#2765L,compliment_funny#2766L,compliment_hot#2767L,compliment_list#2768L,compliment_more#2769L,compliment_note#2770L,compliment_photos#2771L,compliment_plain#2772L,compliment_profile#2773L,compliment_writer#2774L,cool#2775L,elite#2776,fans#2777L,friends#2778,funny#2779L,name#2780,review_count#2781L,useful#2782L,user_id#2783,yelping_since#2784] json\\n\"",
     "output_type": "error",
     "traceback": [
      "\u001b[0;31m---------------------------------------------------------------------------\u001b[0m",
      "\u001b[0;31mAnalysisException\u001b[0m                         Traceback (most recent call last)",
      "\u001b[0;32m<ipython-input-388-eb1f2a34175d>\u001b[0m in \u001b[0;36m<module>\u001b[0;34m()\u001b[0m\n\u001b[1;32m      2\u001b[0m \u001b[0;34m\u001b[0m\u001b[0m\n\u001b[1;32m      3\u001b[0m \u001b[0mwindowval\u001b[0m \u001b[0;34m=\u001b[0m \u001b[0;34m(\u001b[0m\u001b[0mWindow\u001b[0m\u001b[0;34m.\u001b[0m\u001b[0mpartitionBy\u001b[0m\u001b[0;34m(\u001b[0m\u001b[0;34m'class'\u001b[0m\u001b[0;34m)\u001b[0m\u001b[0;34m.\u001b[0m\u001b[0mrangeBetween\u001b[0m\u001b[0;34m(\u001b[0m\u001b[0mWindow\u001b[0m\u001b[0;34m.\u001b[0m\u001b[0munboundedPreceding\u001b[0m\u001b[0;34m,\u001b[0m \u001b[0;36m0\u001b[0m\u001b[0;34m)\u001b[0m\u001b[0;34m)\u001b[0m\u001b[0;34m\u001b[0m\u001b[0m\n\u001b[0;32m----> 4\u001b[0;31m \u001b[0mcumsumDate\u001b[0m \u001b[0;34m=\u001b[0m \u001b[0mdateGroup\u001b[0m\u001b[0;34m.\u001b[0m\u001b[0mwithColumn\u001b[0m\u001b[0;34m(\u001b[0m\u001b[0;34m'cumsum'\u001b[0m\u001b[0;34m,\u001b[0m\u001b[0mF\u001b[0m\u001b[0;34m.\u001b[0m\u001b[0msum\u001b[0m\u001b[0;34m(\u001b[0m\u001b[0;34m'count'\u001b[0m\u001b[0;34m)\u001b[0m\u001b[0;34m)\u001b[0m\u001b[0;34m.\u001b[0m\u001b[0mover\u001b[0m\u001b[0;34m(\u001b[0m\u001b[0mwindowval\u001b[0m\u001b[0;34m)\u001b[0m\u001b[0;34m\u001b[0m\u001b[0m\n\u001b[0m",
      "\u001b[0;32m/home/akash/spark-2.3.2-bin-hadoop2.7/python/pyspark/sql/dataframe.pyc\u001b[0m in \u001b[0;36mwithColumn\u001b[0;34m(self, colName, col)\u001b[0m\n\u001b[1;32m   1847\u001b[0m         \"\"\"\n\u001b[1;32m   1848\u001b[0m         \u001b[0;32massert\u001b[0m \u001b[0misinstance\u001b[0m\u001b[0;34m(\u001b[0m\u001b[0mcol\u001b[0m\u001b[0;34m,\u001b[0m \u001b[0mColumn\u001b[0m\u001b[0;34m)\u001b[0m\u001b[0;34m,\u001b[0m \u001b[0;34m\"col should be Column\"\u001b[0m\u001b[0;34m\u001b[0m\u001b[0m\n\u001b[0;32m-> 1849\u001b[0;31m         \u001b[0;32mreturn\u001b[0m \u001b[0mDataFrame\u001b[0m\u001b[0;34m(\u001b[0m\u001b[0mself\u001b[0m\u001b[0;34m.\u001b[0m\u001b[0m_jdf\u001b[0m\u001b[0;34m.\u001b[0m\u001b[0mwithColumn\u001b[0m\u001b[0;34m(\u001b[0m\u001b[0mcolName\u001b[0m\u001b[0;34m,\u001b[0m \u001b[0mcol\u001b[0m\u001b[0;34m.\u001b[0m\u001b[0m_jc\u001b[0m\u001b[0;34m)\u001b[0m\u001b[0;34m,\u001b[0m \u001b[0mself\u001b[0m\u001b[0;34m.\u001b[0m\u001b[0msql_ctx\u001b[0m\u001b[0;34m)\u001b[0m\u001b[0;34m\u001b[0m\u001b[0m\n\u001b[0m\u001b[1;32m   1850\u001b[0m \u001b[0;34m\u001b[0m\u001b[0m\n\u001b[1;32m   1851\u001b[0m     \u001b[0;34m@\u001b[0m\u001b[0mignore_unicode_prefix\u001b[0m\u001b[0;34m\u001b[0m\u001b[0m\n",
      "\u001b[0;32m/home/akash/spark-2.3.2-bin-hadoop2.7/python/lib/py4j-0.10.7-src.zip/py4j/java_gateway.py\u001b[0m in \u001b[0;36m__call__\u001b[0;34m(self, *args)\u001b[0m\n\u001b[1;32m   1255\u001b[0m         \u001b[0manswer\u001b[0m \u001b[0;34m=\u001b[0m \u001b[0mself\u001b[0m\u001b[0;34m.\u001b[0m\u001b[0mgateway_client\u001b[0m\u001b[0;34m.\u001b[0m\u001b[0msend_command\u001b[0m\u001b[0;34m(\u001b[0m\u001b[0mcommand\u001b[0m\u001b[0;34m)\u001b[0m\u001b[0;34m\u001b[0m\u001b[0m\n\u001b[1;32m   1256\u001b[0m         return_value = get_return_value(\n\u001b[0;32m-> 1257\u001b[0;31m             answer, self.gateway_client, self.target_id, self.name)\n\u001b[0m\u001b[1;32m   1258\u001b[0m \u001b[0;34m\u001b[0m\u001b[0m\n\u001b[1;32m   1259\u001b[0m         \u001b[0;32mfor\u001b[0m \u001b[0mtemp_arg\u001b[0m \u001b[0;32min\u001b[0m \u001b[0mtemp_args\u001b[0m\u001b[0;34m:\u001b[0m\u001b[0;34m\u001b[0m\u001b[0m\n",
      "\u001b[0;32m/home/akash/spark-2.3.2-bin-hadoop2.7/python/pyspark/sql/utils.pyc\u001b[0m in \u001b[0;36mdeco\u001b[0;34m(*a, **kw)\u001b[0m\n\u001b[1;32m     67\u001b[0m                                              e.java_exception.getStackTrace()))\n\u001b[1;32m     68\u001b[0m             \u001b[0;32mif\u001b[0m \u001b[0ms\u001b[0m\u001b[0;34m.\u001b[0m\u001b[0mstartswith\u001b[0m\u001b[0;34m(\u001b[0m\u001b[0;34m'org.apache.spark.sql.AnalysisException: '\u001b[0m\u001b[0;34m)\u001b[0m\u001b[0;34m:\u001b[0m\u001b[0;34m\u001b[0m\u001b[0m\n\u001b[0;32m---> 69\u001b[0;31m                 \u001b[0;32mraise\u001b[0m \u001b[0mAnalysisException\u001b[0m\u001b[0;34m(\u001b[0m\u001b[0ms\u001b[0m\u001b[0;34m.\u001b[0m\u001b[0msplit\u001b[0m\u001b[0;34m(\u001b[0m\u001b[0;34m': '\u001b[0m\u001b[0;34m,\u001b[0m \u001b[0;36m1\u001b[0m\u001b[0;34m)\u001b[0m\u001b[0;34m[\u001b[0m\u001b[0;36m1\u001b[0m\u001b[0;34m]\u001b[0m\u001b[0;34m,\u001b[0m \u001b[0mstackTrace\u001b[0m\u001b[0;34m)\u001b[0m\u001b[0;34m\u001b[0m\u001b[0m\n\u001b[0m\u001b[1;32m     70\u001b[0m             \u001b[0;32mif\u001b[0m \u001b[0ms\u001b[0m\u001b[0;34m.\u001b[0m\u001b[0mstartswith\u001b[0m\u001b[0;34m(\u001b[0m\u001b[0;34m'org.apache.spark.sql.catalyst.analysis'\u001b[0m\u001b[0;34m)\u001b[0m\u001b[0;34m:\u001b[0m\u001b[0;34m\u001b[0m\u001b[0m\n\u001b[1;32m     71\u001b[0m                 \u001b[0;32mraise\u001b[0m \u001b[0mAnalysisException\u001b[0m\u001b[0;34m(\u001b[0m\u001b[0ms\u001b[0m\u001b[0;34m.\u001b[0m\u001b[0msplit\u001b[0m\u001b[0;34m(\u001b[0m\u001b[0;34m': '\u001b[0m\u001b[0;34m,\u001b[0m \u001b[0;36m1\u001b[0m\u001b[0;34m)\u001b[0m\u001b[0;34m[\u001b[0m\u001b[0;36m1\u001b[0m\u001b[0;34m]\u001b[0m\u001b[0;34m,\u001b[0m \u001b[0mstackTrace\u001b[0m\u001b[0;34m)\u001b[0m\u001b[0;34m\u001b[0m\u001b[0m\n",
      "\u001b[0;31mAnalysisException\u001b[0m: u\"grouping expressions sequence is empty, and '`yelping_since`' is not an aggregate function. Wrap '(sum(`count`) AS `cumsum`)' in windowing function(s) or wrap '`yelping_since`' in first() (or first_value) if you don't care which value you get.;;\\nAggregate [yelping_since#2784, count#5067L, class#5085, sum(count#5067L) AS cumsum#5094L]\\n+- Project [yelping_since#2784, count#5067L, A AS class#5085]\\n   +- Project [yelping_since#2784, count#5067L, A AS class#5081]\\n      +- Sort [yelping_since#2784 ASC NULLS FIRST], true\\n         +- Aggregate [yelping_since#2784], [yelping_since#2784, count(1) AS count#5067L]\\n            +- Project [yelping_since#2784]\\n               +- Project [average_stars#2763, compliment_cool#2764L, compliment_cute#2765L, compliment_funny#2766L, compliment_hot#2767L, compliment_list#2768L, compliment_more#2769L, compliment_note#2770L, compliment_photos#2771L, compliment_plain#2772L, compliment_profile#2773L, compliment_writer#2774L, cool#2775L, elite#2776, fans#2777L, friends#2778, funny#2779L, name#2780, review_count#2781L, useful#2782L, user_id#2783, yelping_since#2784, custom_timestamp(yelping_since#2784) AS yelping_since_new#2878]\\n                  +- Project [average_stars#2763, compliment_cool#2764L, compliment_cute#2765L, compliment_funny#2766L, compliment_hot#2767L, compliment_list#2768L, compliment_more#2769L, compliment_note#2770L, compliment_photos#2771L, compliment_plain#2772L, compliment_profile#2773L, compliment_writer#2774L, cool#2775L, elite#2776, fans#2777L, friends#2778, funny#2779L, name#2780, review_count#2781L, useful#2782L, user_id#2783, yelping_since#2784, custom_timestamp(yelping_since#2784) AS yelping_since_new#2830]\\n                     +- Relation[average_stars#2763,compliment_cool#2764L,compliment_cute#2765L,compliment_funny#2766L,compliment_hot#2767L,compliment_list#2768L,compliment_more#2769L,compliment_note#2770L,compliment_photos#2771L,compliment_plain#2772L,compliment_profile#2773L,compliment_writer#2774L,cool#2775L,elite#2776,fans#2777L,friends#2778,funny#2779L,name#2780,review_count#2781L,useful#2782L,user_id#2783,yelping_since#2784] json\\n\""
     ]
    }
   ],
   "source": [
    "from pyspark.sql import Window\n",
    "\n",
    "windowval = (Window.partitionBy('class').rangeBetween(Window.unboundedPreceding, 0))\n",
    "cumsumDate = dateGroup.withColumn('cumsum',F.sum('count')).over(windowval)"
   ]
  },
  {
   "cell_type": "code",
   "execution_count": 384,
   "metadata": {},
   "outputs": [
    {
     "name": "stdout",
     "output_type": "stream",
     "text": [
      "root\n",
      " |-- yelping_since: string (nullable = true)\n",
      " |-- count: long (nullable = false)\n",
      " |-- class: string (nullable = false)\n",
      "\n"
     ]
    }
   ],
   "source": []
  },
  {
   "cell_type": "code",
   "execution_count": 389,
   "metadata": {},
   "outputs": [],
   "source": [
    "def custom_timestamp_real(datetime):\n",
    "       return to_timestamp(datetime)\n",
    "\n",
    "customTimeStampReal = F.udf(custom_timestamp_real,TimestampType())"
   ]
  },
  {
   "cell_type": "code",
   "execution_count": 392,
   "metadata": {},
   "outputs": [],
   "source": [
    "\n",
    "timeStampGroup = dateGroup.withColumn('yelping_since',customTimeStampReal('yelping_since'))"
   ]
  },
  {
   "cell_type": "code",
   "execution_count": 393,
   "metadata": {},
   "outputs": [
    {
     "name": "stdout",
     "output_type": "stream",
     "text": [
      "root\n",
      " |-- yelping_since: timestamp (nullable = true)\n",
      " |-- count: long (nullable = false)\n",
      " |-- class: string (nullable = false)\n",
      "\n"
     ]
    }
   ],
   "source": [
    "timeStampGroup.printSchema()"
   ]
  },
  {
   "cell_type": "code",
   "execution_count": 395,
   "metadata": {},
   "outputs": [],
   "source": [
    "timeStampGroup = timeStampGroup.withColumn('class',lit('A'))"
   ]
  },
  {
   "cell_type": "code",
   "execution_count": 413,
   "metadata": {},
   "outputs": [],
   "source": [
    "check = timeStampGroup.selectExpr(   \"yelping_since\", \"count\",\"sum(count) over (order by yelping_since asc) as duration_cum_sum\")"
   ]
  },
  {
   "cell_type": "code",
   "execution_count": 398,
   "metadata": {},
   "outputs": [],
   "source": [
    "timeStampGroup=timeStampGroup.sort(col(\"yelping_since\"))"
   ]
  },
  {
   "cell_type": "code",
   "execution_count": 402,
   "metadata": {},
   "outputs": [
    {
     "name": "stdout",
     "output_type": "stream",
     "text": [
      "root\n",
      " |-- yelping_since: timestamp (nullable = true)\n",
      " |-- count: long (nullable = false)\n",
      " |-- class: string (nullable = false)\n",
      "\n"
     ]
    }
   ],
   "source": [
    "timeStampGroup.printSchema()"
   ]
  },
  {
   "cell_type": "code",
   "execution_count": 38,
   "metadata": {},
   "outputs": [],
   "source": [
    "scat_df_dummy = df.select(\"cool\",\"funny\",\"average_stars\",\"useful\").toPandas()"
   ]
  },
  {
   "cell_type": "code",
   "execution_count": 7,
   "metadata": {},
   "outputs": [],
   "source": [
    "scat_df = df.select(\"cool\",\"funny\",\"average_stars\",\"useful\").toPandas()"
   ]
  },
  {
   "cell_type": "code",
   "execution_count": 8,
   "metadata": {},
   "outputs": [],
   "source": [
    "import seaborn as sns"
   ]
  },
  {
   "cell_type": "code",
   "execution_count": 9,
   "metadata": {},
   "outputs": [
    {
     "data": {
      "text/plain": [
       "<seaborn.axisgrid.PairGrid at 0x7fd1817a5d10>"
      ]
     },
     "execution_count": 9,
     "metadata": {},
     "output_type": "execute_result"
    },
    {
     "data": {
      "image/png": "[encoded data removed]",
      "text/plain": [
       "<Figure size 720x720 with 20 Axes>"
      ]
     },
     "metadata": {
      "needs_background": "light"
     },
     "output_type": "display_data"
    }
   ],
   "source": [
    "sns.pairplot(scat_df)"
   ]
  },
  {
   "cell_type": "code",
   "execution_count": 34,
   "metadata": {},
   "outputs": [
    {
     "name": "stdout",
     "output_type": "stream",
     "text": [
      "root\n",
      " |-- average_stars: double (nullable = true)\n",
      " |-- compliment_cool: long (nullable = true)\n",
      " |-- compliment_cute: long (nullable = true)\n",
      " |-- compliment_funny: long (nullable = true)\n",
      " |-- compliment_hot: long (nullable = true)\n",
      " |-- compliment_list: long (nullable = true)\n",
      " |-- compliment_more: long (nullable = true)\n",
      " |-- compliment_note: long (nullable = true)\n",
      " |-- compliment_photos: long (nullable = true)\n",
      " |-- compliment_plain: long (nullable = true)\n",
      " |-- compliment_profile: long (nullable = true)\n",
      " |-- compliment_writer: long (nullable = true)\n",
      " |-- cool: long (nullable = true)\n",
      " |-- elite: string (nullable = true)\n",
      " |-- fans: long (nullable = true)\n",
      " |-- friends: string (nullable = true)\n",
      " |-- funny: long (nullable = true)\n",
      " |-- name: string (nullable = true)\n",
      " |-- review_count: long (nullable = true)\n",
      " |-- useful: long (nullable = true)\n",
      " |-- user_id: string (nullable = true)\n",
      " |-- yelping_since: string (nullable = true)\n",
      "\n"
     ]
    }
   ],
   "source": [
    "# sns.pairplot(scat_df,hue='average_stars')\n",
    "df.printSchema()"
   ]
  },
  {
   "cell_type": "code",
   "execution_count": null,
   "metadata": {},
   "outputs": [],
   "source": [
    "# from pandas.plotting import scatter_matrix\n",
    "# stuff = scatter_matrix(scat_df, alpha=0.7, figsize=(6, 6), diagonal='kde')"
   ]
  },
  {
   "cell_type": "code",
   "execution_count": 11,
   "metadata": {},
   "outputs": [],
   "source": [
    "reviewStars = scat_df[['average_stars']]"
   ]
  },
  {
   "cell_type": "code",
   "execution_count": 35,
   "metadata": {},
   "outputs": [],
   "source": [
    "# reviewStars = reviewStars.as_matrix()"
   ]
  },
  {
   "cell_type": "code",
   "execution_count": 14,
   "metadata": {},
   "outputs": [],
   "source": [
    "reviewStars = reviewStars.values"
   ]
  },
  {
   "cell_type": "code",
   "execution_count": 15,
   "metadata": {},
   "outputs": [],
   "source": [
    "from scipy.stats import norm\n",
    "mu,std = norm.fit(reviewStars)"
   ]
  },
  {
   "cell_type": "code",
   "execution_count": 16,
   "metadata": {},
   "outputs": [
    {
     "name": "stdout",
     "output_type": "stream",
     "text": [
      "3.7169405975224072 1.1339973070889102\n"
     ]
    }
   ],
   "source": [
    "print mu,std"
   ]
  },
  {
   "cell_type": "code",
   "execution_count": 142,
   "metadata": {},
   "outputs": [
    {
     "ename": "SyntaxError",
     "evalue": "invalid syntax (<ipython-input-142-ed7b53f92568>, line 1)",
     "output_type": "error",
     "traceback": [
      "\u001b[0;36m  File \u001b[0;32m\"<ipython-input-142-ed7b53f92568>\"\u001b[0;36m, line \u001b[0;32m1\u001b[0m\n\u001b[0;31m    bins change\u001b[0m\n\u001b[0m              ^\u001b[0m\n\u001b[0;31mSyntaxError\u001b[0m\u001b[0;31m:\u001b[0m invalid syntax\n"
     ]
    }
   ],
   "source": [
    "bins change"
   ]
  },
  {
   "cell_type": "code",
   "execution_count": 32,
   "metadata": {},
   "outputs": [
    {
     "data": {
      "image/png": "[encoded data removed]",
      "text/plain": [
       "<Figure size 576x432 with 1 Axes>"
      ]
     },
     "metadata": {
      "needs_background": "light"
     },
     "output_type": "display_data"
    }
   ],
   "source": [
    "import matplotlib.pyplot as plt\n",
    "import numpy as np\n",
    "%matplotlib inline\n",
    "plt.rcParams['figure.figsize'] = [8, 6]\n",
    "plt.hist(reviewStars, bins=20, density=True)\n",
    "xmin,xmax = plt.xlim()\n",
    "x = np.linspace(xmin,xmax,100)\n",
    "p = norm.pdf(x,mu,std)\n",
    "plt.plot(x,p,linewidth=2)\n",
    "plt.show()"
   ]
  },
  {
   "cell_type": "code",
   "execution_count": 43,
   "metadata": {},
   "outputs": [
    {
     "ename": "Py4JJavaError",
     "evalue": "An error occurred while calling o173.collectToPython.\n: org.apache.spark.SparkException: Job aborted due to stage failure: Total size of serialized results of 12 tasks (1067.8 MB) is bigger than spark.driver.maxResultSize (1024.0 MB)\n\tat org.apache.spark.scheduler.DAGScheduler.org$apache$spark$scheduler$DAGScheduler$$failJobAndIndependentStages(DAGScheduler.scala:1651)\n\tat org.apache.spark.scheduler.DAGScheduler$$anonfun$abortStage$1.apply(DAGScheduler.scala:1639)\n\tat org.apache.spark.scheduler.DAGScheduler$$anonfun$abortStage$1.apply(DAGScheduler.scala:1638)\n\tat scala.collection.mutable.ResizableArray$class.foreach(ResizableArray.scala:59)\n\tat scala.collection.mutable.ArrayBuffer.foreach(ArrayBuffer.scala:48)\n\tat org.apache.spark.scheduler.DAGScheduler.abortStage(DAGScheduler.scala:1638)\n\tat org.apache.spark.scheduler.DAGScheduler$$anonfun$handleTaskSetFailed$1.apply(DAGScheduler.scala:831)\n\tat org.apache.spark.scheduler.DAGScheduler$$anonfun$handleTaskSetFailed$1.apply(DAGScheduler.scala:831)\n\tat scala.Option.foreach(Option.scala:257)\n\tat org.apache.spark.scheduler.DAGScheduler.handleTaskSetFailed(DAGScheduler.scala:831)\n\tat org.apache.spark.scheduler.DAGSchedulerEventProcessLoop.doOnReceive(DAGScheduler.scala:1872)\n\tat org.apache.spark.scheduler.DAGSchedulerEventProcessLoop.onReceive(DAGScheduler.scala:1821)\n\tat org.apache.spark.scheduler.DAGSchedulerEventProcessLoop.onReceive(DAGScheduler.scala:1810)\n\tat org.apache.spark.util.EventLoop$$anon$1.run(EventLoop.scala:48)\n\tat org.apache.spark.scheduler.DAGScheduler.runJob(DAGScheduler.scala:642)\n\tat org.apache.spark.SparkContext.runJob(SparkContext.scala:2034)\n\tat org.apache.spark.SparkContext.runJob(SparkContext.scala:2055)\n\tat org.apache.spark.SparkContext.runJob(SparkContext.scala:2074)\n\tat org.apache.spark.SparkContext.runJob(SparkContext.scala:2099)\n\tat org.apache.spark.rdd.RDD$$anonfun$collect$1.apply(RDD.scala:945)\n\tat org.apache.spark.rdd.RDDOperationScope$.withScope(RDDOperationScope.scala:151)\n\tat org.apache.spark.rdd.RDDOperationScope$.withScope(RDDOperationScope.scala:112)\n\tat org.apache.spark.rdd.RDD.withScope(RDD.scala:363)\n\tat org.apache.spark.rdd.RDD.collect(RDD.scala:944)\n\tat org.apache.spark.sql.execution.SparkPlan.executeCollect(SparkPlan.scala:297)\n\tat org.apache.spark.sql.Dataset$$anonfun$collectToPython$1.apply(Dataset.scala:3200)\n\tat org.apache.spark.sql.Dataset$$anonfun$collectToPython$1.apply(Dataset.scala:3197)\n\tat org.apache.spark.sql.Dataset$$anonfun$52.apply(Dataset.scala:3259)\n\tat org.apache.spark.sql.execution.SQLExecution$.withNewExecutionId(SQLExecution.scala:77)\n\tat org.apache.spark.sql.Dataset.withAction(Dataset.scala:3258)\n\tat org.apache.spark.sql.Dataset.collectToPython(Dataset.scala:3197)\n\tat sun.reflect.NativeMethodAccessorImpl.invoke0(Native Method)\n\tat sun.reflect.NativeMethodAccessorImpl.invoke(NativeMethodAccessorImpl.java:62)\n\tat sun.reflect.DelegatingMethodAccessorImpl.invoke(DelegatingMethodAccessorImpl.java:43)\n\tat java.lang.reflect.Method.invoke(Method.java:498)\n\tat py4j.reflection.MethodInvoker.invoke(MethodInvoker.java:244)\n\tat py4j.reflection.ReflectionEngine.invoke(ReflectionEngine.java:357)\n\tat py4j.Gateway.invoke(Gateway.java:282)\n\tat py4j.commands.AbstractCommand.invokeMethod(AbstractCommand.java:132)\n\tat py4j.commands.CallCommand.execute(CallCommand.java:79)\n\tat py4j.GatewayConnection.run(GatewayConnection.java:238)\n\tat java.lang.Thread.run(Thread.java:748)\n",
     "output_type": "error",
     "traceback": [
      "\u001b[0;31m---------------------------------------------------------------------------\u001b[0m",
      "\u001b[0;31mPy4JJavaError\u001b[0m                             Traceback (most recent call last)",
      "\u001b[0;32m<ipython-input-43-0b1703e25e75>\u001b[0m in \u001b[0;36m<module>\u001b[0;34m()\u001b[0m\n\u001b[0;32m----> 1\u001b[0;31m \u001b[0mfriends_df\u001b[0m \u001b[0;34m=\u001b[0m \u001b[0mdf\u001b[0m\u001b[0;34m.\u001b[0m\u001b[0mselect\u001b[0m\u001b[0;34m(\u001b[0m\u001b[0;34m\"friends\"\u001b[0m\u001b[0;34m)\u001b[0m\u001b[0;34m.\u001b[0m\u001b[0mtoPandas\u001b[0m\u001b[0;34m(\u001b[0m\u001b[0;34m)\u001b[0m\u001b[0;34m\u001b[0m\u001b[0m\n\u001b[0m",
      "\u001b[0;32m/home/akash/spark-2.3.2-bin-hadoop2.7/python/pyspark/sql/dataframe.pyc\u001b[0m in \u001b[0;36mtoPandas\u001b[0;34m(self)\u001b[0m\n\u001b[1;32m   1966\u001b[0m                 \u001b[0;32mraise\u001b[0m \u001b[0mRuntimeError\u001b[0m\u001b[0;34m(\u001b[0m\u001b[0;34m\"%s\\n%s\"\u001b[0m \u001b[0;34m%\u001b[0m \u001b[0;34m(\u001b[0m\u001b[0m_exception_message\u001b[0m\u001b[0;34m(\u001b[0m\u001b[0me\u001b[0m\u001b[0;34m)\u001b[0m\u001b[0;34m,\u001b[0m \u001b[0mmsg\u001b[0m\u001b[0;34m)\u001b[0m\u001b[0;34m)\u001b[0m\u001b[0;34m\u001b[0m\u001b[0m\n\u001b[1;32m   1967\u001b[0m         \u001b[0;32melse\u001b[0m\u001b[0;34m:\u001b[0m\u001b[0;34m\u001b[0m\u001b[0m\n\u001b[0;32m-> 1968\u001b[0;31m             \u001b[0mpdf\u001b[0m \u001b[0;34m=\u001b[0m \u001b[0mpd\u001b[0m\u001b[0;34m.\u001b[0m\u001b[0mDataFrame\u001b[0m\u001b[0;34m.\u001b[0m\u001b[0mfrom_records\u001b[0m\u001b[0;34m(\u001b[0m\u001b[0mself\u001b[0m\u001b[0;34m.\u001b[0m\u001b[0mcollect\u001b[0m\u001b[0;34m(\u001b[0m\u001b[0;34m)\u001b[0m\u001b[0;34m,\u001b[0m \u001b[0mcolumns\u001b[0m\u001b[0;34m=\u001b[0m\u001b[0mself\u001b[0m\u001b[0;34m.\u001b[0m\u001b[0mcolumns\u001b[0m\u001b[0;34m)\u001b[0m\u001b[0;34m\u001b[0m\u001b[0m\n\u001b[0m\u001b[1;32m   1969\u001b[0m \u001b[0;34m\u001b[0m\u001b[0m\n\u001b[1;32m   1970\u001b[0m             \u001b[0mdtype\u001b[0m \u001b[0;34m=\u001b[0m \u001b[0;34m{\u001b[0m\u001b[0;34m}\u001b[0m\u001b[0;34m\u001b[0m\u001b[0m\n",
      "\u001b[0;32m/home/akash/spark-2.3.2-bin-hadoop2.7/python/pyspark/sql/dataframe.pyc\u001b[0m in \u001b[0;36mcollect\u001b[0;34m(self)\u001b[0m\n\u001b[1;32m    464\u001b[0m         \"\"\"\n\u001b[1;32m    465\u001b[0m         \u001b[0;32mwith\u001b[0m \u001b[0mSCCallSiteSync\u001b[0m\u001b[0;34m(\u001b[0m\u001b[0mself\u001b[0m\u001b[0;34m.\u001b[0m\u001b[0m_sc\u001b[0m\u001b[0;34m)\u001b[0m \u001b[0;32mas\u001b[0m \u001b[0mcss\u001b[0m\u001b[0;34m:\u001b[0m\u001b[0;34m\u001b[0m\u001b[0m\n\u001b[0;32m--> 466\u001b[0;31m             \u001b[0msock_info\u001b[0m \u001b[0;34m=\u001b[0m \u001b[0mself\u001b[0m\u001b[0;34m.\u001b[0m\u001b[0m_jdf\u001b[0m\u001b[0;34m.\u001b[0m\u001b[0mcollectToPython\u001b[0m\u001b[0;34m(\u001b[0m\u001b[0;34m)\u001b[0m\u001b[0;34m\u001b[0m\u001b[0m\n\u001b[0m\u001b[1;32m    467\u001b[0m         \u001b[0;32mreturn\u001b[0m \u001b[0mlist\u001b[0m\u001b[0;34m(\u001b[0m\u001b[0m_load_from_socket\u001b[0m\u001b[0;34m(\u001b[0m\u001b[0msock_info\u001b[0m\u001b[0;34m,\u001b[0m \u001b[0mBatchedSerializer\u001b[0m\u001b[0;34m(\u001b[0m\u001b[0mPickleSerializer\u001b[0m\u001b[0;34m(\u001b[0m\u001b[0;34m)\u001b[0m\u001b[0;34m)\u001b[0m\u001b[0;34m)\u001b[0m\u001b[0;34m)\u001b[0m\u001b[0;34m\u001b[0m\u001b[0m\n\u001b[1;32m    468\u001b[0m \u001b[0;34m\u001b[0m\u001b[0m\n",
      "\u001b[0;32m/home/akash/spark-2.3.2-bin-hadoop2.7/python/lib/py4j-0.10.7-src.zip/py4j/java_gateway.py\u001b[0m in \u001b[0;36m__call__\u001b[0;34m(self, *args)\u001b[0m\n\u001b[1;32m   1255\u001b[0m         \u001b[0manswer\u001b[0m \u001b[0;34m=\u001b[0m \u001b[0mself\u001b[0m\u001b[0;34m.\u001b[0m\u001b[0mgateway_client\u001b[0m\u001b[0;34m.\u001b[0m\u001b[0msend_command\u001b[0m\u001b[0;34m(\u001b[0m\u001b[0mcommand\u001b[0m\u001b[0;34m)\u001b[0m\u001b[0;34m\u001b[0m\u001b[0m\n\u001b[1;32m   1256\u001b[0m         return_value = get_return_value(\n\u001b[0;32m-> 1257\u001b[0;31m             answer, self.gateway_client, self.target_id, self.name)\n\u001b[0m\u001b[1;32m   1258\u001b[0m \u001b[0;34m\u001b[0m\u001b[0m\n\u001b[1;32m   1259\u001b[0m         \u001b[0;32mfor\u001b[0m \u001b[0mtemp_arg\u001b[0m \u001b[0;32min\u001b[0m \u001b[0mtemp_args\u001b[0m\u001b[0;34m:\u001b[0m\u001b[0;34m\u001b[0m\u001b[0m\n",
      "\u001b[0;32m/home/akash/spark-2.3.2-bin-hadoop2.7/python/pyspark/sql/utils.pyc\u001b[0m in \u001b[0;36mdeco\u001b[0;34m(*a, **kw)\u001b[0m\n\u001b[1;32m     61\u001b[0m     \u001b[0;32mdef\u001b[0m \u001b[0mdeco\u001b[0m\u001b[0;34m(\u001b[0m\u001b[0;34m*\u001b[0m\u001b[0ma\u001b[0m\u001b[0;34m,\u001b[0m \u001b[0;34m**\u001b[0m\u001b[0mkw\u001b[0m\u001b[0;34m)\u001b[0m\u001b[0;34m:\u001b[0m\u001b[0;34m\u001b[0m\u001b[0m\n\u001b[1;32m     62\u001b[0m         \u001b[0;32mtry\u001b[0m\u001b[0;34m:\u001b[0m\u001b[0;34m\u001b[0m\u001b[0m\n\u001b[0;32m---> 63\u001b[0;31m             \u001b[0;32mreturn\u001b[0m \u001b[0mf\u001b[0m\u001b[0;34m(\u001b[0m\u001b[0;34m*\u001b[0m\u001b[0ma\u001b[0m\u001b[0;34m,\u001b[0m \u001b[0;34m**\u001b[0m\u001b[0mkw\u001b[0m\u001b[0;34m)\u001b[0m\u001b[0;34m\u001b[0m\u001b[0m\n\u001b[0m\u001b[1;32m     64\u001b[0m         \u001b[0;32mexcept\u001b[0m \u001b[0mpy4j\u001b[0m\u001b[0;34m.\u001b[0m\u001b[0mprotocol\u001b[0m\u001b[0;34m.\u001b[0m\u001b[0mPy4JJavaError\u001b[0m \u001b[0;32mas\u001b[0m \u001b[0me\u001b[0m\u001b[0;34m:\u001b[0m\u001b[0;34m\u001b[0m\u001b[0m\n\u001b[1;32m     65\u001b[0m             \u001b[0ms\u001b[0m \u001b[0;34m=\u001b[0m \u001b[0me\u001b[0m\u001b[0;34m.\u001b[0m\u001b[0mjava_exception\u001b[0m\u001b[0;34m.\u001b[0m\u001b[0mtoString\u001b[0m\u001b[0;34m(\u001b[0m\u001b[0;34m)\u001b[0m\u001b[0;34m\u001b[0m\u001b[0m\n",
      "\u001b[0;32m/home/akash/spark-2.3.2-bin-hadoop2.7/python/lib/py4j-0.10.7-src.zip/py4j/protocol.py\u001b[0m in \u001b[0;36mget_return_value\u001b[0;34m(answer, gateway_client, target_id, name)\u001b[0m\n\u001b[1;32m    326\u001b[0m                 raise Py4JJavaError(\n\u001b[1;32m    327\u001b[0m                     \u001b[0;34m\"An error occurred while calling {0}{1}{2}.\\n\"\u001b[0m\u001b[0;34m.\u001b[0m\u001b[0;34m\u001b[0m\u001b[0m\n\u001b[0;32m--> 328\u001b[0;31m                     format(target_id, \".\", name), value)\n\u001b[0m\u001b[1;32m    329\u001b[0m             \u001b[0;32melse\u001b[0m\u001b[0;34m:\u001b[0m\u001b[0;34m\u001b[0m\u001b[0m\n\u001b[1;32m    330\u001b[0m                 raise Py4JError(\n",
      "\u001b[0;31mPy4JJavaError\u001b[0m: An error occurred while calling o173.collectToPython.\n: org.apache.spark.SparkException: Job aborted due to stage failure: Total size of serialized results of 12 tasks (1067.8 MB) is bigger than spark.driver.maxResultSize (1024.0 MB)\n\tat org.apache.spark.scheduler.DAGScheduler.org$apache$spark$scheduler$DAGScheduler$$failJobAndIndependentStages(DAGScheduler.scala:1651)\n\tat org.apache.spark.scheduler.DAGScheduler$$anonfun$abortStage$1.apply(DAGScheduler.scala:1639)\n\tat org.apache.spark.scheduler.DAGScheduler$$anonfun$abortStage$1.apply(DAGScheduler.scala:1638)\n\tat scala.collection.mutable.ResizableArray$class.foreach(ResizableArray.scala:59)\n\tat scala.collection.mutable.ArrayBuffer.foreach(ArrayBuffer.scala:48)\n\tat org.apache.spark.scheduler.DAGScheduler.abortStage(DAGScheduler.scala:1638)\n\tat org.apache.spark.scheduler.DAGScheduler$$anonfun$handleTaskSetFailed$1.apply(DAGScheduler.scala:831)\n\tat org.apache.spark.scheduler.DAGScheduler$$anonfun$handleTaskSetFailed$1.apply(DAGScheduler.scala:831)\n\tat scala.Option.foreach(Option.scala:257)\n\tat org.apache.spark.scheduler.DAGScheduler.handleTaskSetFailed(DAGScheduler.scala:831)\n\tat org.apache.spark.scheduler.DAGSchedulerEventProcessLoop.doOnReceive(DAGScheduler.scala:1872)\n\tat org.apache.spark.scheduler.DAGSchedulerEventProcessLoop.onReceive(DAGScheduler.scala:1821)\n\tat org.apache.spark.scheduler.DAGSchedulerEventProcessLoop.onReceive(DAGScheduler.scala:1810)\n\tat org.apache.spark.util.EventLoop$$anon$1.run(EventLoop.scala:48)\n\tat org.apache.spark.scheduler.DAGScheduler.runJob(DAGScheduler.scala:642)\n\tat org.apache.spark.SparkContext.runJob(SparkContext.scala:2034)\n\tat org.apache.spark.SparkContext.runJob(SparkContext.scala:2055)\n\tat org.apache.spark.SparkContext.runJob(SparkContext.scala:2074)\n\tat org.apache.spark.SparkContext.runJob(SparkContext.scala:2099)\n\tat org.apache.spark.rdd.RDD$$anonfun$collect$1.apply(RDD.scala:945)\n\tat org.apache.spark.rdd.RDDOperationScope$.withScope(RDDOperationScope.scala:151)\n\tat org.apache.spark.rdd.RDDOperationScope$.withScope(RDDOperationScope.scala:112)\n\tat org.apache.spark.rdd.RDD.withScope(RDD.scala:363)\n\tat org.apache.spark.rdd.RDD.collect(RDD.scala:944)\n\tat org.apache.spark.sql.execution.SparkPlan.executeCollect(SparkPlan.scala:297)\n\tat org.apache.spark.sql.Dataset$$anonfun$collectToPython$1.apply(Dataset.scala:3200)\n\tat org.apache.spark.sql.Dataset$$anonfun$collectToPython$1.apply(Dataset.scala:3197)\n\tat org.apache.spark.sql.Dataset$$anonfun$52.apply(Dataset.scala:3259)\n\tat org.apache.spark.sql.execution.SQLExecution$.withNewExecutionId(SQLExecution.scala:77)\n\tat org.apache.spark.sql.Dataset.withAction(Dataset.scala:3258)\n\tat org.apache.spark.sql.Dataset.collectToPython(Dataset.scala:3197)\n\tat sun.reflect.NativeMethodAccessorImpl.invoke0(Native Method)\n\tat sun.reflect.NativeMethodAccessorImpl.invoke(NativeMethodAccessorImpl.java:62)\n\tat sun.reflect.DelegatingMethodAccessorImpl.invoke(DelegatingMethodAccessorImpl.java:43)\n\tat java.lang.reflect.Method.invoke(Method.java:498)\n\tat py4j.reflection.MethodInvoker.invoke(MethodInvoker.java:244)\n\tat py4j.reflection.ReflectionEngine.invoke(ReflectionEngine.java:357)\n\tat py4j.Gateway.invoke(Gateway.java:282)\n\tat py4j.commands.AbstractCommand.invokeMethod(AbstractCommand.java:132)\n\tat py4j.commands.CallCommand.execute(CallCommand.java:79)\n\tat py4j.GatewayConnection.run(GatewayConnection.java:238)\n\tat java.lang.Thread.run(Thread.java:748)\n"
     ]
    }
   ],
   "source": [
    "friends_df = df.select(\"friends\").toPandas()"
   ]
  },
  {
   "cell_type": "code",
   "execution_count": 44,
   "metadata": {},
   "outputs": [
    {
     "ename": "NameError",
     "evalue": "name 'friends_df' is not defined",
     "output_type": "error",
     "traceback": [
      "\u001b[0;31m---------------------------------------------------------------------------\u001b[0m",
      "\u001b[0;31mNameError\u001b[0m                                 Traceback (most recent call last)",
      "\u001b[0;32m<ipython-input-44-d34a4c44255e>\u001b[0m in \u001b[0;36m<module>\u001b[0;34m()\u001b[0m\n\u001b[0;32m----> 1\u001b[0;31m \u001b[0mtype\u001b[0m\u001b[0;34m(\u001b[0m\u001b[0mfriends_df\u001b[0m\u001b[0;34m)\u001b[0m\u001b[0;34m\u001b[0m\u001b[0m\n\u001b[0m",
      "\u001b[0;31mNameError\u001b[0m: name 'friends_df' is not defined"
     ]
    }
   ],
   "source": [
    "type(friends_df)"
   ]
  },
  {
   "cell_type": "code",
   "execution_count": 9,
   "metadata": {},
   "outputs": [],
   "source": [
    "from pyspark.sql import functions as F\n",
    "from pyspark.sql.functions import udf\n",
    "from pyspark.sql.types import TimestampType\n",
    "import ast\n",
    "def custom_friends(x):\n",
    "        lol = x.count(\",\")\n",
    "        if lol==0:\n",
    "            return 0\n",
    "        else:\n",
    "            return lol+1\n",
    "            \n",
    "customFriend = F.udf(custom_friends,IntegerType())"
   ]
  },
  {
   "cell_type": "code",
   "execution_count": 10,
   "metadata": {},
   "outputs": [],
   "source": [
    "\n",
    "df = df.withColumn('no_friends',customFriend('friends'))"
   ]
  },
  {
   "cell_type": "code",
   "execution_count": 9,
   "metadata": {
    "scrolled": true
   },
   "outputs": [
    {
     "name": "stdout",
     "output_type": "stream",
     "text": [
      "root\n",
      " |-- average_stars: double (nullable = true)\n",
      " |-- compliment_cool: long (nullable = true)\n",
      " |-- compliment_cute: long (nullable = true)\n",
      " |-- compliment_funny: long (nullable = true)\n",
      " |-- compliment_hot: long (nullable = true)\n",
      " |-- compliment_list: long (nullable = true)\n",
      " |-- compliment_more: long (nullable = true)\n",
      " |-- compliment_note: long (nullable = true)\n",
      " |-- compliment_photos: long (nullable = true)\n",
      " |-- compliment_plain: long (nullable = true)\n",
      " |-- compliment_profile: long (nullable = true)\n",
      " |-- compliment_writer: long (nullable = true)\n",
      " |-- cool: long (nullable = true)\n",
      " |-- elite: string (nullable = true)\n",
      " |-- fans: long (nullable = true)\n",
      " |-- friends: string (nullable = true)\n",
      " |-- funny: long (nullable = true)\n",
      " |-- name: string (nullable = true)\n",
      " |-- review_count: long (nullable = true)\n",
      " |-- useful: long (nullable = true)\n",
      " |-- user_id: string (nullable = true)\n",
      " |-- yelping_since: string (nullable = true)\n",
      " |-- no_friends: integer (nullable = true)\n",
      "\n"
     ]
    }
   ],
   "source": [
    "df.printSchema()"
   ]
  },
  {
   "cell_type": "code",
   "execution_count": 40,
   "metadata": {},
   "outputs": [],
   "source": [
    "df_2=0"
   ]
  },
  {
   "cell_type": "code",
   "execution_count": 43,
   "metadata": {},
   "outputs": [
    {
     "data": {
      "text/plain": [
       "[Row(average_stars=2.0, compliment_cool=0, compliment_cute=0, compliment_funny=0, compliment_hot=0, compliment_list=0, compliment_more=0, compliment_note=0, compliment_photos=0, compliment_plain=0, compliment_profile=0, compliment_writer=0, cool=0, elite=u'None', fans=0, friends=u'None', funny=0, name=u'Susan', review_count=1, useful=0, user_id=u'lzlZwIpuSWXEnNS91wxjHw', yelping_since=u'2015-09-28', no_friends=0),\n",
       " Row(average_stars=5.0, compliment_cool=0, compliment_cute=0, compliment_funny=0, compliment_hot=0, compliment_list=0, compliment_more=0, compliment_note=0, compliment_photos=0, compliment_plain=0, compliment_profile=0, compliment_writer=0, cool=0, elite=u'None', fans=0, friends=u'None', funny=0, name=u'Daipayan', review_count=2, useful=0, user_id=u'XvLBr-9smbI0m_a7dXtB7w', yelping_since=u'2015-09-05', no_friends=0),\n",
       " Row(average_stars=4.0, compliment_cool=0, compliment_cute=0, compliment_funny=0, compliment_hot=0, compliment_list=0, compliment_more=0, compliment_note=0, compliment_photos=0, compliment_plain=0, compliment_profile=0, compliment_writer=0, cool=0, elite=u'None', fans=0, friends=u'None', funny=0, name=u'Andy', review_count=1, useful=0, user_id=u'QPT4Ud4H5sJVr68yXhoWFw', yelping_since=u'2016-07-21', no_friends=0),\n",
       " Row(average_stars=4.05, compliment_cool=0, compliment_cute=0, compliment_funny=0, compliment_hot=0, compliment_list=0, compliment_more=0, compliment_note=0, compliment_photos=0, compliment_plain=0, compliment_profile=0, compliment_writer=0, cool=0, elite=u'None', fans=0, friends=u'None', funny=0, name=u'Jonathan', review_count=19, useful=0, user_id=u'i5YitlHZpf0B3R0s_8NVuw', yelping_since=u'2014-08-04', no_friends=0),\n",
       " Row(average_stars=3.0, compliment_cool=0, compliment_cute=0, compliment_funny=0, compliment_hot=0, compliment_list=0, compliment_more=0, compliment_note=0, compliment_photos=0, compliment_plain=0, compliment_profile=0, compliment_writer=0, cool=0, elite=u'None', fans=0, friends=u'None', funny=0, name=u'Shashank', review_count=3, useful=0, user_id=u's4FoIXE_LSGviTHBe8dmcg', yelping_since=u'2017-06-18', no_friends=0),\n",
       " Row(average_stars=5.0, compliment_cool=0, compliment_cute=0, compliment_funny=0, compliment_hot=0, compliment_list=0, compliment_more=0, compliment_note=0, compliment_photos=0, compliment_plain=0, compliment_profile=0, compliment_writer=0, cool=0, elite=u'None', fans=0, friends=u'None', funny=0, name=u'Stacey X Joe', review_count=3, useful=0, user_id=u'ZcsZdHLiJGVvDHVjeTYYnQ', yelping_since=u'2014-08-27', no_friends=0),\n",
       " Row(average_stars=5.0, compliment_cool=0, compliment_cute=0, compliment_funny=0, compliment_hot=0, compliment_list=0, compliment_more=0, compliment_note=0, compliment_photos=0, compliment_plain=0, compliment_profile=0, compliment_writer=0, cool=0, elite=u'None', fans=0, friends=u'None', funny=0, name=u'Lindsay', review_count=2, useful=0, user_id=u'h3p6aeVL7vrafSOM50SsCg', yelping_since=u'2016-02-02', no_friends=0),\n",
       " Row(average_stars=5.0, compliment_cool=0, compliment_cute=0, compliment_funny=0, compliment_hot=0, compliment_list=0, compliment_more=0, compliment_note=0, compliment_photos=0, compliment_plain=0, compliment_profile=0, compliment_writer=0, cool=0, elite=u'None', fans=0, friends=u'None', funny=0, name=u'Joshua', review_count=1, useful=0, user_id=u'EbJMotYYkq-iq-v1u8wCYA', yelping_since=u'2013-03-20', no_friends=0),\n",
       " Row(average_stars=2.77, compliment_cool=0, compliment_cute=0, compliment_funny=0, compliment_hot=0, compliment_list=0, compliment_more=0, compliment_note=0, compliment_photos=0, compliment_plain=0, compliment_profile=0, compliment_writer=0, cool=0, elite=u'None', fans=1, friends=u'None', funny=0, name=u'Mike', review_count=11, useful=8, user_id=u'nnB0AE1Cxp_0154xkhXelw', yelping_since=u'2014-07-11', no_friends=0),\n",
       " Row(average_stars=4.0, compliment_cool=0, compliment_cute=0, compliment_funny=0, compliment_hot=0, compliment_list=0, compliment_more=0, compliment_note=0, compliment_photos=0, compliment_plain=0, compliment_profile=0, compliment_writer=0, cool=1, elite=u'None', fans=0, friends=u'None', funny=3, name=u'Mitch', review_count=4, useful=2, user_id=u'XoEnrhtJc2pcdlQ09d8Oug', yelping_since=u'2013-04-07', no_friends=0)]"
      ]
     },
     "execution_count": 43,
     "metadata": {},
     "output_type": "execute_result"
    }
   ],
   "source": [
    "df.take(10)"
   ]
  },
  {
   "cell_type": "code",
   "execution_count": 34,
   "metadata": {},
   "outputs": [],
   "source": [
    "lol = df.filter(df.friends!='None')"
   ]
  },
  {
   "cell_type": "code",
   "execution_count": 35,
   "metadata": {},
   "outputs": [
    {
     "data": {
      "text/plain": [
       "[Row(average_stars=3.89, compliment_cool=0, compliment_cute=0, compliment_funny=0, compliment_hot=0, compliment_list=0, compliment_more=0, compliment_note=0, compliment_photos=0, compliment_plain=0, compliment_profile=0, compliment_writer=0, cool=0, elite=u'None', fans=0, friends=u'YwaKGmRNnSa3R3N4Hf9jLw, NDjDKV7IWeqS_kvdlNS9zw, eArNPOynylyfcXxQqXag-g, 7NAKCkRMw8Qwke3BWOgE8A, syA7uYoDjohc7gWBWaEZmw, bvOicnFbku4B1mK12fIP6Q, wGcbKPOJYpnAB-Oi86_AtQ, ysvphNWLP0ZkXPOLrXw7Tg, gPnezUoB9AcxE_qeBR_Dsw, edJEj384w4_09sivk6VblA, rS91MRNTRGikL4_acEfdNQ, bMSePKFYwjslP18fFmeHnA, EOIrXIWKMFcdn_7CPBacDQ, SZTscGkXeemMSGz1hN369Q, 1H1Cn5utCE5jxI5BXfpxgw, qqx5YwBV8OlHlpU2yPFPnA, ZxYgNB6Nuj6R50gXewLw5w, OcpxS8U7evLWyfw1K2pwng, 3Ua7O424qU24smW7QcmFbw, sa4wUK8fbCLqiUq4rC0h9A, 4F0BijndBJDS0hQEmqfm_A, 44IPobgBDnZuFJoGD3LrUQ, ismGKdAF86dKAqMnrA9ehw, alUUlKTAKiNh-32E7k22eQ, RYkinABdGJ2t0zIEvyMtkg, Y9oNrUa4jWjAVVgDeEf43w, 9clBVewke08oNI85nZWqEg, R47JPwtASV1o6OOAkeyNPw, KcwRRhds7XQxYeWxVp4Azw, F4oZPZacaqhlXUDQl4xBHQ, Uwt1-D5elADZQcrMc1vrUw, y11itP1bR1vOPQO_AWtDdg, vpqgTC91x4LdXWtwlkMNXA, L4uxvvEuc146Qo8wRipp6Q, shYLM4g_3C5LU4Jb7KW0eQ, PmTaA51J5EItUIST-PGCgA, EEwZgv8HU54yu-uFQ8RLEw, 5DuZbOCtUECYoWX7HPfMoA, NsuHPkhUQDht1_JBBu1gtQ, lUTdfcu2YMGuYuvBv1aoNw, JKONHsq59h7haSOafAw8Pw, cf5MBGjn-oNlvDIE7lC7wA, 6BLQWXu_1Ab5MyHpIBdPXw, XdLQep9R3V7EHwW2fjgK-g, 9XQZ3rBx7IgsUZkvY-6X-w, 8knws-sivtjAnrdbXSy5Jg, 686rS4I2WN3fLIeO31CwdQ, BsOHtPtVWsPj3cfJJJShtA, p3OjUSV9ueh33BkZHhVlhQ, ZgtZoGSo9JqS0a5C8xrl2A, mFe__wm3YmrUKmBTDHqE7A, LOZTPW1E6bb2iyATrEP7hw, U50S7xOcJ3R007HnLme2oA, 2wu9uDIDJxrz4RuKo99KDw, EX0-svXSfdwDyWCDuH-2yA, itWMQYbL5UVccVHgTrMloQ, lRHKneipYlS2D87Qz-16aA, yP6Ubn-tRtmJWnyxOfyCbQ, QZleAB0LVYrim9kT8liFLg, crFFYb94H7LHwl75VQMqhw, l1BRmIVQqvzHS7G0Txo01A, yGii2g8t_Ozznr-Qzh2kHw, VIEmJc9r5bGg3OOJiZTZiw, jG0JWOmHLTdEg65TvqtrqQ, 2JDxKJRvkeePPOMy4k8q3g, oRB5MHOl3Elh7DZqm4_htQ, SQVq_HoU4C4FNwDoU2HEqw, J9GsaMkJ0IPnqmDM1iBlVA, p9P8B1cDy4svagBPuXsjUA, y8lWDU5yJetM4-4tObZY-w, RKxrUwZsW2Tm_4BiACvQUw, bzUGParP-Ni0R4jaCgtLmg, pTFH0iIHOtytKGlAxUlm3A, LTmt7jG8_LI5BHUnmAfl2w, hUNHMxt_5B5x8vN7TwXVDw, TnObNPw4-Yj_9vJ6LyiUog, sFrEFoAMUg4IaCqDxFCtCg, n4TZSTUWKfKNsFHMxpAtOQ, 9pbzuhA56lf7waTdh7Yyeg, _CoXUxu-hyx18k6COX-TkQ, LGiWb-5i-Sy138BovnBuFA, ddw3f2HvJpBfJXtYWNIGsg, bvTHByyhpmH3Vp4Nrk1sNw, --iNdHx-d8k8GXYTFxPvKg, kKyx3G4I2ejhLFcXKVZaUw, ZF-1QU2jweLa59a5gYQptA, UZd_TFUcSgO0gRzLPZ8eIg, 0MHru-F6FwqHsZKsuZ90xA, wlVV8Nv2fKtUJzPqrKHmKg, Q8gGSIRekib09y_tmxiKvw, 2EZWKjv9Jj9wpGHD-1XXcA, qRVhPlSg2IpgA49_U-UK5g, bh8Tji4pyXx-kgL5Xl0Tfw, FbaJ4QOm6pJH_8mfemnxcw, zm-s_qmf9frZ1BRBhjIzSA, 2jeUyneKVMVeuMCQfLwQfg, ABnWrv303wCbVQMM0IbsrA', funny=0, name=u'Yolie', review_count=8, useful=6, user_id=u'B3xwUPXMlCb7_5IEDlq4Uw', yelping_since=u'2012-01-02'),\n",
       " Row(average_stars=4.25, compliment_cool=0, compliment_cute=0, compliment_funny=0, compliment_hot=0, compliment_list=0, compliment_more=0, compliment_note=0, compliment_photos=0, compliment_plain=0, compliment_profile=0, compliment_writer=0, cool=0, elite=u'None', fans=0, friends=u'PhZlPdJsoaEX2SWKPnfTvw', funny=1, name=u'Anthony', review_count=8, useful=1, user_id=u'Pc5vc0RuoCa8YU6hD-y3Ow', yelping_since=u'2009-04-18')]"
      ]
     },
     "execution_count": 35,
     "metadata": {},
     "output_type": "execute_result"
    }
   ],
   "source": [
    "lol.take(2)"
   ]
  },
  {
   "cell_type": "code",
   "execution_count": 44,
   "metadata": {},
   "outputs": [],
   "source": [
    "frnds_stat=df.select(\"no_friends\").describe()"
   ]
  },
  {
   "cell_type": "code",
   "execution_count": 50,
   "metadata": {},
   "outputs": [
    {
     "data": {
      "text/plain": [
       "[Row(summary=u'count', no_friends=u'1518169'),\n",
       " Row(summary=u'mean', no_friends=u'42.67531546224432'),\n",
       " Row(summary=u'stddev', no_friends=u'133.7531160338224'),\n",
       " Row(summary=u'min', no_friends=u'0'),\n",
       " Row(summary=u'max', no_friends=u'14995')]"
      ]
     },
     "execution_count": 50,
     "metadata": {},
     "output_type": "execute_result"
    }
   ],
   "source": [
    "frnds_stat.collect()"
   ]
  },
  {
   "cell_type": "code",
   "execution_count": null,
   "metadata": {},
   "outputs": [],
   "source": [
    "# import matplotlib.pyplot as plt\n",
    "# %matplotlib inline\n",
    "# import pandas as pd\n",
    "# plt.hist(df.select(\"no_friends\").toPandas())"
   ]
  },
  {
   "cell_type": "code",
   "execution_count": 11,
   "metadata": {},
   "outputs": [],
   "source": [
    "sql_context.registerDataFrameAsTable(df,\"frnds\")"
   ]
  },
  {
   "cell_type": "code",
   "execution_count": 12,
   "metadata": {},
   "outputs": [],
   "source": [
    "r_query = sql_context.sql(\"SELECT no_friends FROM frnds\")"
   ]
  },
  {
   "cell_type": "code",
   "execution_count": 16,
   "metadata": {},
   "outputs": [],
   "source": [
    "data = [go.Histogram(x=r_query.toPandas()['no_friends'])]"
   ]
  },
  {
   "cell_type": "code",
   "execution_count": 61,
   "metadata": {},
   "outputs": [
    {
     "name": "stderr",
     "output_type": "stream",
     "text": [
      "/home/akash/.virtualenvs/data/local/lib/python2.7/site-packages/plotly/plotly/plotly.py:230: UserWarning:\n",
      "\n",
      "Woah there! Look at all those points! Due to browser limitations, the Plotly SVG drawing functions have a hard time graphing more than 500k data points for line charts, or 40k points for other types of charts. Here are some suggestions:\n",
      "(1) Use the `plotly.graph_objs.Scattergl` trace object to generate a WebGl graph.\n",
      "(2) Trying using the image API to return an image instead of a graph URL\n",
      "(3) Use matplotlib\n",
      "(4) See if you can create your visualization with fewer data points\n",
      "\n",
      "If the visualization you're using aggregates points (e.g., box plot, histogram, etc.) you can disregard this warning.\n",
      "\n"
     ]
    },
    {
     "data": {
      "text/html": [
       "<iframe id=\"igraph\" scrolling=\"no\" style=\"border:none;\" seamless=\"seamless\" src=\"https://plot.ly/~AkashMahalik/24.embed\" height=\"525px\" width=\"100%\"></iframe>"
      ],
      "text/plain": [
       "<plotly.tools.PlotlyDisplay object>"
      ]
     },
     "execution_count": 61,
     "metadata": {},
     "output_type": "execute_result"
    }
   ],
   "source": [
    "py.iplot(data)"
   ]
  },
  {
   "cell_type": "code",
   "execution_count": 17,
   "metadata": {},
   "outputs": [
    {
     "name": "stderr",
     "output_type": "stream",
     "text": [
      "/home/akash/.virtualenvs/data/local/lib/python2.7/site-packages/plotly/plotly/plotly.py:230: UserWarning:\n",
      "\n",
      "Woah there! Look at all those points! Due to browser limitations, the Plotly SVG drawing functions have a hard time graphing more than 500k data points for line charts, or 40k points for other types of charts. Here are some suggestions:\n",
      "(1) Use the `plotly.graph_objs.Scattergl` trace object to generate a WebGl graph.\n",
      "(2) Trying using the image API to return an image instead of a graph URL\n",
      "(3) Use matplotlib\n",
      "(4) See if you can create your visualization with fewer data points\n",
      "\n",
      "If the visualization you're using aggregates points (e.g., box plot, histogram, etc.) you can disregard this warning.\n",
      "\n"
     ]
    },
    {
     "data": {
      "text/html": [
       "<iframe id=\"igraph\" scrolling=\"no\" style=\"border:none;\" seamless=\"seamless\" src=\"https://plot.ly/~AkashMahalik/26.embed\" height=\"525px\" width=\"100%\"></iframe>"
      ],
      "text/plain": [
       "<plotly.tools.PlotlyDisplay object>"
      ]
     },
     "execution_count": 17,
     "metadata": {},
     "output_type": "execute_result"
    }
   ],
   "source": [
    "py.iplot(data)"
   ]
  },
  {
   "cell_type": "code",
   "execution_count": 11,
   "metadata": {},
   "outputs": [],
   "source": [
    "def custom_elite(x):\n",
    "    if(x!='None'):\n",
    "        return 1\n",
    "    return 0\n",
    "customElite = F.udf(custom_elite,IntegerType())\n",
    "elite_df  = df.withColumn('label',customElite('elite'))"
   ]
  },
  {
   "cell_type": "code",
   "execution_count": 12,
   "metadata": {},
   "outputs": [
    {
     "name": "stdout",
     "output_type": "stream",
     "text": [
      "root\n",
      " |-- average_stars: double (nullable = true)\n",
      " |-- compliment_cool: long (nullable = true)\n",
      " |-- compliment_cute: long (nullable = true)\n",
      " |-- compliment_funny: long (nullable = true)\n",
      " |-- compliment_hot: long (nullable = true)\n",
      " |-- compliment_list: long (nullable = true)\n",
      " |-- compliment_more: long (nullable = true)\n",
      " |-- compliment_note: long (nullable = true)\n",
      " |-- compliment_photos: long (nullable = true)\n",
      " |-- compliment_plain: long (nullable = true)\n",
      " |-- compliment_profile: long (nullable = true)\n",
      " |-- compliment_writer: long (nullable = true)\n",
      " |-- cool: long (nullable = true)\n",
      " |-- elite: string (nullable = true)\n",
      " |-- fans: long (nullable = true)\n",
      " |-- friends: string (nullable = true)\n",
      " |-- funny: long (nullable = true)\n",
      " |-- name: string (nullable = true)\n",
      " |-- review_count: long (nullable = true)\n",
      " |-- useful: long (nullable = true)\n",
      " |-- user_id: string (nullable = true)\n",
      " |-- yelping_since: string (nullable = true)\n",
      " |-- no_friends: integer (nullable = true)\n",
      " |-- label: integer (nullable = true)\n",
      "\n"
     ]
    }
   ],
   "source": [
    "# elite_df.take(1)\n",
    "elite_df.printSchema()"
   ]
  },
  {
   "cell_type": "code",
   "execution_count": 38,
   "metadata": {},
   "outputs": [],
   "source": [
    "from pyspark.ml.feature import OneHotEncoderEstimator, StringIndexer, VectorAssembler\n",
    "##### Feature Building\n",
    "numericCols = ['no_friends','fans','review_count']\n",
    "assemblerInputs =  numericCols\n",
    "assembler = VectorAssembler(inputCols=assemblerInputs,outputCol=\"features\")\n",
    "stages = [assembler]"
   ]
  },
  {
   "cell_type": "code",
   "execution_count": 39,
   "metadata": {},
   "outputs": [
    {
     "name": "stdout",
     "output_type": "stream",
     "text": [
      "root\n",
      " |-- features: vector (nullable = true)\n",
      " |-- average_stars: double (nullable = true)\n",
      " |-- compliment_cool: long (nullable = true)\n",
      " |-- compliment_cute: long (nullable = true)\n",
      " |-- compliment_funny: long (nullable = true)\n",
      " |-- compliment_hot: long (nullable = true)\n",
      " |-- compliment_list: long (nullable = true)\n",
      " |-- compliment_more: long (nullable = true)\n",
      " |-- compliment_note: long (nullable = true)\n",
      " |-- compliment_photos: long (nullable = true)\n",
      " |-- compliment_plain: long (nullable = true)\n",
      " |-- compliment_profile: long (nullable = true)\n",
      " |-- compliment_writer: long (nullable = true)\n",
      " |-- cool: long (nullable = true)\n",
      " |-- elite: string (nullable = true)\n",
      " |-- fans: long (nullable = true)\n",
      " |-- friends: string (nullable = true)\n",
      " |-- funny: long (nullable = true)\n",
      " |-- name: string (nullable = true)\n",
      " |-- review_count: long (nullable = true)\n",
      " |-- useful: long (nullable = true)\n",
      " |-- user_id: string (nullable = true)\n",
      " |-- yelping_since: string (nullable = true)\n",
      " |-- no_friends: integer (nullable = true)\n",
      " |-- label: integer (nullable = true)\n",
      "\n"
     ]
    }
   ],
   "source": [
    "from pyspark.ml import Pipeline\n",
    "cols = elite_df.columns\n",
    "pipeline = Pipeline(stages = stages)\n",
    "pipelineModel = pipeline.fit(elite_df)\n",
    "temp_df = pipelineModel.transform(elite_df)\n",
    "selectedCols = [ 'features'] + cols\n",
    "temp_df = temp_df.select(selectedCols)\n",
    "temp_df.printSchema()"
   ]
  },
  {
   "cell_type": "code",
   "execution_count": 40,
   "metadata": {},
   "outputs": [
    {
     "data": {
      "text/html": [
       "<div>\n",
       "<style scoped>\n",
       "    .dataframe tbody tr th:only-of-type {\n",
       "        vertical-align: middle;\n",
       "    }\n",
       "\n",
       "    .dataframe tbody tr th {\n",
       "        vertical-align: top;\n",
       "    }\n",
       "\n",
       "    .dataframe thead th {\n",
       "        text-align: right;\n",
       "    }\n",
       "</style>\n",
       "<table border=\"1\" class=\"dataframe\">\n",
       "  <thead>\n",
       "    <tr style=\"text-align: right;\">\n",
       "      <th></th>\n",
       "      <th>0</th>\n",
       "      <th>1</th>\n",
       "      <th>2</th>\n",
       "    </tr>\n",
       "  </thead>\n",
       "  <tbody>\n",
       "    <tr>\n",
       "      <th>features</th>\n",
       "      <td>[0.0, 0.0, 1.0]</td>\n",
       "      <td>[0.0, 0.0, 2.0]</td>\n",
       "      <td>[0.0, 0.0, 1.0]</td>\n",
       "    </tr>\n",
       "    <tr>\n",
       "      <th>average_stars</th>\n",
       "      <td>2</td>\n",
       "      <td>5</td>\n",
       "      <td>4</td>\n",
       "    </tr>\n",
       "    <tr>\n",
       "      <th>compliment_cool</th>\n",
       "      <td>0</td>\n",
       "      <td>0</td>\n",
       "      <td>0</td>\n",
       "    </tr>\n",
       "    <tr>\n",
       "      <th>compliment_cute</th>\n",
       "      <td>0</td>\n",
       "      <td>0</td>\n",
       "      <td>0</td>\n",
       "    </tr>\n",
       "    <tr>\n",
       "      <th>compliment_funny</th>\n",
       "      <td>0</td>\n",
       "      <td>0</td>\n",
       "      <td>0</td>\n",
       "    </tr>\n",
       "    <tr>\n",
       "      <th>compliment_hot</th>\n",
       "      <td>0</td>\n",
       "      <td>0</td>\n",
       "      <td>0</td>\n",
       "    </tr>\n",
       "    <tr>\n",
       "      <th>compliment_list</th>\n",
       "      <td>0</td>\n",
       "      <td>0</td>\n",
       "      <td>0</td>\n",
       "    </tr>\n",
       "    <tr>\n",
       "      <th>compliment_more</th>\n",
       "      <td>0</td>\n",
       "      <td>0</td>\n",
       "      <td>0</td>\n",
       "    </tr>\n",
       "    <tr>\n",
       "      <th>compliment_note</th>\n",
       "      <td>0</td>\n",
       "      <td>0</td>\n",
       "      <td>0</td>\n",
       "    </tr>\n",
       "    <tr>\n",
       "      <th>compliment_photos</th>\n",
       "      <td>0</td>\n",
       "      <td>0</td>\n",
       "      <td>0</td>\n",
       "    </tr>\n",
       "    <tr>\n",
       "      <th>compliment_plain</th>\n",
       "      <td>0</td>\n",
       "      <td>0</td>\n",
       "      <td>0</td>\n",
       "    </tr>\n",
       "    <tr>\n",
       "      <th>compliment_profile</th>\n",
       "      <td>0</td>\n",
       "      <td>0</td>\n",
       "      <td>0</td>\n",
       "    </tr>\n",
       "    <tr>\n",
       "      <th>compliment_writer</th>\n",
       "      <td>0</td>\n",
       "      <td>0</td>\n",
       "      <td>0</td>\n",
       "    </tr>\n",
       "    <tr>\n",
       "      <th>cool</th>\n",
       "      <td>0</td>\n",
       "      <td>0</td>\n",
       "      <td>0</td>\n",
       "    </tr>\n",
       "    <tr>\n",
       "      <th>elite</th>\n",
       "      <td>None</td>\n",
       "      <td>None</td>\n",
       "      <td>None</td>\n",
       "    </tr>\n",
       "    <tr>\n",
       "      <th>fans</th>\n",
       "      <td>0</td>\n",
       "      <td>0</td>\n",
       "      <td>0</td>\n",
       "    </tr>\n",
       "    <tr>\n",
       "      <th>friends</th>\n",
       "      <td>None</td>\n",
       "      <td>None</td>\n",
       "      <td>None</td>\n",
       "    </tr>\n",
       "    <tr>\n",
       "      <th>funny</th>\n",
       "      <td>0</td>\n",
       "      <td>0</td>\n",
       "      <td>0</td>\n",
       "    </tr>\n",
       "    <tr>\n",
       "      <th>name</th>\n",
       "      <td>Susan</td>\n",
       "      <td>Daipayan</td>\n",
       "      <td>Andy</td>\n",
       "    </tr>\n",
       "    <tr>\n",
       "      <th>review_count</th>\n",
       "      <td>1</td>\n",
       "      <td>2</td>\n",
       "      <td>1</td>\n",
       "    </tr>\n",
       "    <tr>\n",
       "      <th>useful</th>\n",
       "      <td>0</td>\n",
       "      <td>0</td>\n",
       "      <td>0</td>\n",
       "    </tr>\n",
       "    <tr>\n",
       "      <th>user_id</th>\n",
       "      <td>lzlZwIpuSWXEnNS91wxjHw</td>\n",
       "      <td>XvLBr-9smbI0m_a7dXtB7w</td>\n",
       "      <td>QPT4Ud4H5sJVr68yXhoWFw</td>\n",
       "    </tr>\n",
       "    <tr>\n",
       "      <th>yelping_since</th>\n",
       "      <td>2015-09-28</td>\n",
       "      <td>2015-09-05</td>\n",
       "      <td>2016-07-21</td>\n",
       "    </tr>\n",
       "    <tr>\n",
       "      <th>no_friends</th>\n",
       "      <td>0</td>\n",
       "      <td>0</td>\n",
       "      <td>0</td>\n",
       "    </tr>\n",
       "    <tr>\n",
       "      <th>label</th>\n",
       "      <td>0</td>\n",
       "      <td>0</td>\n",
       "      <td>0</td>\n",
       "    </tr>\n",
       "  </tbody>\n",
       "</table>\n",
       "</div>"
      ],
      "text/plain": [
       "                                         0                       1  \\\n",
       "features                   [0.0, 0.0, 1.0]         [0.0, 0.0, 2.0]   \n",
       "average_stars                            2                       5   \n",
       "compliment_cool                          0                       0   \n",
       "compliment_cute                          0                       0   \n",
       "compliment_funny                         0                       0   \n",
       "compliment_hot                           0                       0   \n",
       "compliment_list                          0                       0   \n",
       "compliment_more                          0                       0   \n",
       "compliment_note                          0                       0   \n",
       "compliment_photos                        0                       0   \n",
       "compliment_plain                         0                       0   \n",
       "compliment_profile                       0                       0   \n",
       "compliment_writer                        0                       0   \n",
       "cool                                     0                       0   \n",
       "elite                                 None                    None   \n",
       "fans                                     0                       0   \n",
       "friends                               None                    None   \n",
       "funny                                    0                       0   \n",
       "name                                 Susan                Daipayan   \n",
       "review_count                             1                       2   \n",
       "useful                                   0                       0   \n",
       "user_id             lzlZwIpuSWXEnNS91wxjHw  XvLBr-9smbI0m_a7dXtB7w   \n",
       "yelping_since                   2015-09-28              2015-09-05   \n",
       "no_friends                               0                       0   \n",
       "label                                    0                       0   \n",
       "\n",
       "                                         2  \n",
       "features                   [0.0, 0.0, 1.0]  \n",
       "average_stars                            4  \n",
       "compliment_cool                          0  \n",
       "compliment_cute                          0  \n",
       "compliment_funny                         0  \n",
       "compliment_hot                           0  \n",
       "compliment_list                          0  \n",
       "compliment_more                          0  \n",
       "compliment_note                          0  \n",
       "compliment_photos                        0  \n",
       "compliment_plain                         0  \n",
       "compliment_profile                       0  \n",
       "compliment_writer                        0  \n",
       "cool                                     0  \n",
       "elite                                 None  \n",
       "fans                                     0  \n",
       "friends                               None  \n",
       "funny                                    0  \n",
       "name                                  Andy  \n",
       "review_count                             1  \n",
       "useful                                   0  \n",
       "user_id             QPT4Ud4H5sJVr68yXhoWFw  \n",
       "yelping_since                   2016-07-21  \n",
       "no_friends                               0  \n",
       "label                                    0  "
      ]
     },
     "execution_count": 40,
     "metadata": {},
     "output_type": "execute_result"
    }
   ],
   "source": [
    "pd.DataFrame(temp_df.take(3), columns=temp_df.columns).transpose()\n"
   ]
  },
  {
   "cell_type": "code",
   "execution_count": 41,
   "metadata": {},
   "outputs": [],
   "source": [
    "train, test = temp_df.randomSplit([0.7, 0.3], seed = 2018)\n",
    "# print(\"Training Dataset Count: \" + str(train.count()))\n",
    "# print(\"Test Dataset Count: \" + str(test.count()))"
   ]
  },
  {
   "cell_type": "code",
   "execution_count": 43,
   "metadata": {},
   "outputs": [],
   "source": [
    "from pyspark.ml.classification import LogisticRegression\n",
    "lr = LogisticRegression(featuresCol = 'features', labelCol = 'label', maxIter=5)\n",
    "lrModel = lr.fit(train)\n"
   ]
  },
  {
   "cell_type": "code",
   "execution_count": 44,
   "metadata": {},
   "outputs": [
    {
     "data": {
      "image/png": "[encoded data removed]",
      "text/plain": [
       "<Figure size 432x288 with 1 Axes>"
      ]
     },
     "metadata": {
      "needs_background": "light"
     },
     "output_type": "display_data"
    },
    {
     "name": "stdout",
     "output_type": "stream",
     "text": [
      "Training set areaUnderROC: 0.985342999525\n"
     ]
    }
   ],
   "source": [
    "trainingSummary = lrModel.summary\n",
    "roc = trainingSummary.roc.toPandas()\n",
    "plt.plot(roc['FPR'],roc['TPR'])\n",
    "plt.ylabel('False Positive Rate')\n",
    "plt.xlabel('True Positive Rate')\n",
    "plt.title('ROC Curve')\n",
    "plt.show()\n",
    "print('Training set areaUnderROC: ' + str(trainingSummary.areaUnderROC))"
   ]
  },
  {
   "cell_type": "code",
   "execution_count": 45,
   "metadata": {},
   "outputs": [
    {
     "data": {
      "text/plain": [
       "Param(parent=u'LogisticRegression_4be9a5339efb6b23a879', name='probabilityCol', doc='Column name for predicted class conditional probabilities. Note: Not all models output well-calibrated probability estimates! These probabilities should be treated as confidences, not precise probabilities')"
      ]
     },
     "execution_count": 45,
     "metadata": {},
     "output_type": "execute_result"
    }
   ],
   "source": [
    "lrModel.probabilityCol"
   ]
  },
  {
   "cell_type": "code",
   "execution_count": 46,
   "metadata": {},
   "outputs": [
    {
     "data": {
      "image/png": "[encoded data removed]",
      "text/plain": [
       "<Figure size 432x288 with 1 Axes>"
      ]
     },
     "metadata": {
      "needs_background": "light"
     },
     "output_type": "display_data"
    }
   ],
   "source": [
    "pr = trainingSummary.pr.toPandas()\n",
    "plt.plot(pr['recall'],pr['precision'])\n",
    "plt.ylabel('Precision')\n",
    "plt.xlabel('Recall')\n",
    "plt.show()"
   ]
  },
  {
   "cell_type": "code",
   "execution_count": 47,
   "metadata": {},
   "outputs": [],
   "source": [
    "predictions = lrModel.transform(test)\n"
   ]
  },
  {
   "cell_type": "code",
   "execution_count": 48,
   "metadata": {},
   "outputs": [
    {
     "name": "stdout",
     "output_type": "stream",
     "text": [
      "+----------+----+------------+-----+--------------------+----------+--------------------+\n",
      "|no_friends|fans|review_count|label|       rawPrediction|prediction|         probability|\n",
      "+----------+----+------------+-----+--------------------+----------+--------------------+\n",
      "|         0|   0|           0|    0|[4.64262834501559...|       0.0|[0.99045954973381...|\n",
      "|         0|   0|           0|    0|[4.64262834501559...|       0.0|[0.99045954973381...|\n",
      "|         0|   0|           0|    0|[4.64262834501559...|       0.0|[0.99045954973381...|\n",
      "|         0|   0|           0|    0|[4.64262834501559...|       0.0|[0.99045954973381...|\n",
      "|         0|   0|           0|    0|[4.64262834501559...|       0.0|[0.99045954973381...|\n",
      "|         0|   0|           0|    0|[4.64262834501559...|       0.0|[0.99045954973381...|\n",
      "|         0|   0|           0|    0|[4.64262834501559...|       0.0|[0.99045954973381...|\n",
      "|         0|   0|           0|    0|[4.64262834501559...|       0.0|[0.99045954973381...|\n",
      "|         0|   0|           0|    0|[4.64262834501559...|       0.0|[0.99045954973381...|\n",
      "|         0|   0|           0|    0|[4.64262834501559...|       0.0|[0.99045954973381...|\n",
      "+----------+----+------------+-----+--------------------+----------+--------------------+\n",
      "only showing top 10 rows\n",
      "\n"
     ]
    }
   ],
   "source": [
    "predictions.select('no_friends','fans','review_count','label','rawPrediction','prediction','probability').show(10)"
   ]
  },
  {
   "cell_type": "code",
   "execution_count": 52,
   "metadata": {},
   "outputs": [
    {
     "data": {
      "text/plain": [
       "9893"
      ]
     },
     "execution_count": 52,
     "metadata": {},
     "output_type": "execute_result"
    }
   ],
   "source": [
    "predictions.select('no_friends','fans','review_count','label','rawPrediction','prediction','probability').filter((predictions.label!=0) & (predictions.prediction!=0)).count()"
   ]
  },
  {
   "cell_type": "code",
   "execution_count": 55,
   "metadata": {},
   "outputs": [
    {
     "data": {
      "text/plain": [
       "443753"
      ]
     },
     "execution_count": 55,
     "metadata": {},
     "output_type": "execute_result"
    }
   ],
   "source": [
    "predictions.select('no_friends','fans','review_count','label','rawPrediction','prediction','probability').filter( (predictions.prediction==0)).count()"
   ]
  },
  {
   "cell_type": "code",
   "execution_count": 56,
   "metadata": {},
   "outputs": [
    {
     "data": {
      "text/plain": [
       "12387"
      ]
     },
     "execution_count": 56,
     "metadata": {},
     "output_type": "execute_result"
    }
   ],
   "source": [
    "predictions.select('no_friends','fans','review_count','label','rawPrediction','prediction','probability').filter( (predictions.prediction==1)).count()"
   ]
  },
  {
   "cell_type": "code",
   "execution_count": 57,
   "metadata": {},
   "outputs": [
    {
     "data": {
      "text/plain": [
       "1518169"
      ]
     },
     "execution_count": 57,
     "metadata": {},
     "output_type": "execute_result"
    }
   ],
   "source": [
    "df.count()"
   ]
  },
  {
   "cell_type": "code",
   "execution_count": 50,
   "metadata": {},
   "outputs": [
    {
     "name": "stdout",
     "output_type": "stream",
     "text": [
      "('Test Area Under ROC', 0.9849002526337289)\n"
     ]
    }
   ],
   "source": [
    "from pyspark.ml.evaluation import BinaryClassificationEvaluator\n",
    "evaluator = BinaryClassificationEvaluator()\n",
    "print('Test Area Under ROC', evaluator.evaluate(predictions))"
   ]
  },
  {
   "cell_type": "code",
   "execution_count": 62,
   "metadata": {},
   "outputs": [
    {
     "name": "stdout",
     "output_type": "stream",
     "text": [
      "root\n",
      " |-- average_stars: double (nullable = true)\n",
      " |-- compliment_cool: long (nullable = true)\n",
      " |-- compliment_cute: long (nullable = true)\n",
      " |-- compliment_funny: long (nullable = true)\n",
      " |-- compliment_hot: long (nullable = true)\n",
      " |-- compliment_list: long (nullable = true)\n",
      " |-- compliment_more: long (nullable = true)\n",
      " |-- compliment_note: long (nullable = true)\n",
      " |-- compliment_photos: long (nullable = true)\n",
      " |-- compliment_plain: long (nullable = true)\n",
      " |-- compliment_profile: long (nullable = true)\n",
      " |-- compliment_writer: long (nullable = true)\n",
      " |-- cool: long (nullable = true)\n",
      " |-- elite: string (nullable = true)\n",
      " |-- fans: long (nullable = true)\n",
      " |-- friends: string (nullable = true)\n",
      " |-- funny: long (nullable = true)\n",
      " |-- name: string (nullable = true)\n",
      " |-- review_count: long (nullable = true)\n",
      " |-- useful: long (nullable = true)\n",
      " |-- user_id: string (nullable = true)\n",
      " |-- yelping_since: string (nullable = true)\n",
      " |-- no_friends: integer (nullable = true)\n",
      " |-- label: integer (nullable = true)\n",
      "\n"
     ]
    }
   ],
   "source": [
    "elite_df.printSchema()"
   ]
  },
  {
   "cell_type": "code",
   "execution_count": 15,
   "metadata": {},
   "outputs": [],
   "source": [
    "### Random Forest\n",
    "from pyspark.ml.feature import OneHotEncoderEstimator, StringIndexer, VectorAssembler\n",
    "\n",
    "numericColsFor = ['no_friends','fans','review_count','average_stars','compliment_cool','compliment_cute','compliment_funny','compliment_list','compliment_profile','compliment_writer','compliment_note','compliment_photos','compliment_hot','compliment_plain','cool','funny','useful']\n",
    "assemblerInputsFor =  numericColsFor\n",
    "assemblerFor = VectorAssembler(inputCols=assemblerInputsFor,outputCol=\"features\")\n",
    "stagesFor = [assemblerFor]"
   ]
  },
  {
   "cell_type": "code",
   "execution_count": 16,
   "metadata": {},
   "outputs": [
    {
     "name": "stdout",
     "output_type": "stream",
     "text": [
      "root\n",
      " |-- features: vector (nullable = true)\n",
      " |-- average_stars: double (nullable = true)\n",
      " |-- compliment_cool: long (nullable = true)\n",
      " |-- compliment_cute: long (nullable = true)\n",
      " |-- compliment_funny: long (nullable = true)\n",
      " |-- compliment_hot: long (nullable = true)\n",
      " |-- compliment_list: long (nullable = true)\n",
      " |-- compliment_more: long (nullable = true)\n",
      " |-- compliment_note: long (nullable = true)\n",
      " |-- compliment_photos: long (nullable = true)\n",
      " |-- compliment_plain: long (nullable = true)\n",
      " |-- compliment_profile: long (nullable = true)\n",
      " |-- compliment_writer: long (nullable = true)\n",
      " |-- cool: long (nullable = true)\n",
      " |-- elite: string (nullable = true)\n",
      " |-- fans: long (nullable = true)\n",
      " |-- friends: string (nullable = true)\n",
      " |-- funny: long (nullable = true)\n",
      " |-- name: string (nullable = true)\n",
      " |-- review_count: long (nullable = true)\n",
      " |-- useful: long (nullable = true)\n",
      " |-- user_id: string (nullable = true)\n",
      " |-- yelping_since: string (nullable = true)\n",
      " |-- yelping_since_new: integer (nullable = true)\n",
      " |-- no_friends: integer (nullable = true)\n",
      " |-- label: integer (nullable = true)\n",
      "\n"
     ]
    }
   ],
   "source": [
    "from pyspark.ml import Pipeline\n",
    "cols = elite_df.columns\n",
    "pipelineFor = Pipeline(stages = stagesFor)\n",
    "pipelineModelFor = pipelineFor.fit(elite_df)\n",
    "temp_dfFor = pipelineModelFor.transform(elite_df)\n",
    "selectedColsFor = [ 'features'] + cols\n",
    "temp_dfFor = temp_dfFor.select(selectedColsFor)\n",
    "temp_dfFor.printSchema()"
   ]
  },
  {
   "cell_type": "code",
   "execution_count": 17,
   "metadata": {},
   "outputs": [
    {
     "data": {
      "text/html": [
       "<div>\n",
       "<style scoped>\n",
       "    .dataframe tbody tr th:only-of-type {\n",
       "        vertical-align: middle;\n",
       "    }\n",
       "\n",
       "    .dataframe tbody tr th {\n",
       "        vertical-align: top;\n",
       "    }\n",
       "\n",
       "    .dataframe thead th {\n",
       "        text-align: right;\n",
       "    }\n",
       "</style>\n",
       "<table border=\"1\" class=\"dataframe\">\n",
       "  <thead>\n",
       "    <tr style=\"text-align: right;\">\n",
       "      <th></th>\n",
       "      <th>0</th>\n",
       "      <th>1</th>\n",
       "      <th>2</th>\n",
       "    </tr>\n",
       "  </thead>\n",
       "  <tbody>\n",
       "    <tr>\n",
       "      <th>features</th>\n",
       "      <td>(0.0, 0.0, 1.0, 2.0, 0.0, 0.0, 0.0, 0.0, 0.0, ...</td>\n",
       "      <td>(0.0, 0.0, 2.0, 5.0, 0.0, 0.0, 0.0, 0.0, 0.0, ...</td>\n",
       "      <td>(0.0, 0.0, 1.0, 4.0, 0.0, 0.0, 0.0, 0.0, 0.0, ...</td>\n",
       "    </tr>\n",
       "    <tr>\n",
       "      <th>average_stars</th>\n",
       "      <td>2</td>\n",
       "      <td>5</td>\n",
       "      <td>4</td>\n",
       "    </tr>\n",
       "    <tr>\n",
       "      <th>compliment_cool</th>\n",
       "      <td>0</td>\n",
       "      <td>0</td>\n",
       "      <td>0</td>\n",
       "    </tr>\n",
       "    <tr>\n",
       "      <th>compliment_cute</th>\n",
       "      <td>0</td>\n",
       "      <td>0</td>\n",
       "      <td>0</td>\n",
       "    </tr>\n",
       "    <tr>\n",
       "      <th>compliment_funny</th>\n",
       "      <td>0</td>\n",
       "      <td>0</td>\n",
       "      <td>0</td>\n",
       "    </tr>\n",
       "    <tr>\n",
       "      <th>compliment_hot</th>\n",
       "      <td>0</td>\n",
       "      <td>0</td>\n",
       "      <td>0</td>\n",
       "    </tr>\n",
       "    <tr>\n",
       "      <th>compliment_list</th>\n",
       "      <td>0</td>\n",
       "      <td>0</td>\n",
       "      <td>0</td>\n",
       "    </tr>\n",
       "    <tr>\n",
       "      <th>compliment_more</th>\n",
       "      <td>0</td>\n",
       "      <td>0</td>\n",
       "      <td>0</td>\n",
       "    </tr>\n",
       "    <tr>\n",
       "      <th>compliment_note</th>\n",
       "      <td>0</td>\n",
       "      <td>0</td>\n",
       "      <td>0</td>\n",
       "    </tr>\n",
       "    <tr>\n",
       "      <th>compliment_photos</th>\n",
       "      <td>0</td>\n",
       "      <td>0</td>\n",
       "      <td>0</td>\n",
       "    </tr>\n",
       "    <tr>\n",
       "      <th>compliment_plain</th>\n",
       "      <td>0</td>\n",
       "      <td>0</td>\n",
       "      <td>0</td>\n",
       "    </tr>\n",
       "    <tr>\n",
       "      <th>compliment_profile</th>\n",
       "      <td>0</td>\n",
       "      <td>0</td>\n",
       "      <td>0</td>\n",
       "    </tr>\n",
       "    <tr>\n",
       "      <th>compliment_writer</th>\n",
       "      <td>0</td>\n",
       "      <td>0</td>\n",
       "      <td>0</td>\n",
       "    </tr>\n",
       "    <tr>\n",
       "      <th>cool</th>\n",
       "      <td>0</td>\n",
       "      <td>0</td>\n",
       "      <td>0</td>\n",
       "    </tr>\n",
       "    <tr>\n",
       "      <th>elite</th>\n",
       "      <td>None</td>\n",
       "      <td>None</td>\n",
       "      <td>None</td>\n",
       "    </tr>\n",
       "    <tr>\n",
       "      <th>fans</th>\n",
       "      <td>0</td>\n",
       "      <td>0</td>\n",
       "      <td>0</td>\n",
       "    </tr>\n",
       "    <tr>\n",
       "      <th>friends</th>\n",
       "      <td>None</td>\n",
       "      <td>None</td>\n",
       "      <td>None</td>\n",
       "    </tr>\n",
       "    <tr>\n",
       "      <th>funny</th>\n",
       "      <td>0</td>\n",
       "      <td>0</td>\n",
       "      <td>0</td>\n",
       "    </tr>\n",
       "    <tr>\n",
       "      <th>name</th>\n",
       "      <td>Susan</td>\n",
       "      <td>Daipayan</td>\n",
       "      <td>Andy</td>\n",
       "    </tr>\n",
       "    <tr>\n",
       "      <th>review_count</th>\n",
       "      <td>1</td>\n",
       "      <td>2</td>\n",
       "      <td>1</td>\n",
       "    </tr>\n",
       "    <tr>\n",
       "      <th>useful</th>\n",
       "      <td>0</td>\n",
       "      <td>0</td>\n",
       "      <td>0</td>\n",
       "    </tr>\n",
       "    <tr>\n",
       "      <th>user_id</th>\n",
       "      <td>lzlZwIpuSWXEnNS91wxjHw</td>\n",
       "      <td>XvLBr-9smbI0m_a7dXtB7w</td>\n",
       "      <td>QPT4Ud4H5sJVr68yXhoWFw</td>\n",
       "    </tr>\n",
       "    <tr>\n",
       "      <th>yelping_since</th>\n",
       "      <td>2015-09-28</td>\n",
       "      <td>2015-09-05</td>\n",
       "      <td>2016-07-21</td>\n",
       "    </tr>\n",
       "    <tr>\n",
       "      <th>yelping_since_new</th>\n",
       "      <td>2015</td>\n",
       "      <td>2015</td>\n",
       "      <td>2016</td>\n",
       "    </tr>\n",
       "    <tr>\n",
       "      <th>no_friends</th>\n",
       "      <td>0</td>\n",
       "      <td>0</td>\n",
       "      <td>0</td>\n",
       "    </tr>\n",
       "    <tr>\n",
       "      <th>label</th>\n",
       "      <td>0</td>\n",
       "      <td>0</td>\n",
       "      <td>0</td>\n",
       "    </tr>\n",
       "  </tbody>\n",
       "</table>\n",
       "</div>"
      ],
      "text/plain": [
       "                                                                    0  \\\n",
       "features            (0.0, 0.0, 1.0, 2.0, 0.0, 0.0, 0.0, 0.0, 0.0, ...   \n",
       "average_stars                                                       2   \n",
       "compliment_cool                                                     0   \n",
       "compliment_cute                                                     0   \n",
       "compliment_funny                                                    0   \n",
       "compliment_hot                                                      0   \n",
       "compliment_list                                                     0   \n",
       "compliment_more                                                     0   \n",
       "compliment_note                                                     0   \n",
       "compliment_photos                                                   0   \n",
       "compliment_plain                                                    0   \n",
       "compliment_profile                                                  0   \n",
       "compliment_writer                                                   0   \n",
       "cool                                                                0   \n",
       "elite                                                            None   \n",
       "fans                                                                0   \n",
       "friends                                                          None   \n",
       "funny                                                               0   \n",
       "name                                                            Susan   \n",
       "review_count                                                        1   \n",
       "useful                                                              0   \n",
       "user_id                                        lzlZwIpuSWXEnNS91wxjHw   \n",
       "yelping_since                                              2015-09-28   \n",
       "yelping_since_new                                                2015   \n",
       "no_friends                                                          0   \n",
       "label                                                               0   \n",
       "\n",
       "                                                                    1  \\\n",
       "features            (0.0, 0.0, 2.0, 5.0, 0.0, 0.0, 0.0, 0.0, 0.0, ...   \n",
       "average_stars                                                       5   \n",
       "compliment_cool                                                     0   \n",
       "compliment_cute                                                     0   \n",
       "compliment_funny                                                    0   \n",
       "compliment_hot                                                      0   \n",
       "compliment_list                                                     0   \n",
       "compliment_more                                                     0   \n",
       "compliment_note                                                     0   \n",
       "compliment_photos                                                   0   \n",
       "compliment_plain                                                    0   \n",
       "compliment_profile                                                  0   \n",
       "compliment_writer                                                   0   \n",
       "cool                                                                0   \n",
       "elite                                                            None   \n",
       "fans                                                                0   \n",
       "friends                                                          None   \n",
       "funny                                                               0   \n",
       "name                                                         Daipayan   \n",
       "review_count                                                        2   \n",
       "useful                                                              0   \n",
       "user_id                                        XvLBr-9smbI0m_a7dXtB7w   \n",
       "yelping_since                                              2015-09-05   \n",
       "yelping_since_new                                                2015   \n",
       "no_friends                                                          0   \n",
       "label                                                               0   \n",
       "\n",
       "                                                                    2  \n",
       "features            (0.0, 0.0, 1.0, 4.0, 0.0, 0.0, 0.0, 0.0, 0.0, ...  \n",
       "average_stars                                                       4  \n",
       "compliment_cool                                                     0  \n",
       "compliment_cute                                                     0  \n",
       "compliment_funny                                                    0  \n",
       "compliment_hot                                                      0  \n",
       "compliment_list                                                     0  \n",
       "compliment_more                                                     0  \n",
       "compliment_note                                                     0  \n",
       "compliment_photos                                                   0  \n",
       "compliment_plain                                                    0  \n",
       "compliment_profile                                                  0  \n",
       "compliment_writer                                                   0  \n",
       "cool                                                                0  \n",
       "elite                                                            None  \n",
       "fans                                                                0  \n",
       "friends                                                          None  \n",
       "funny                                                               0  \n",
       "name                                                             Andy  \n",
       "review_count                                                        1  \n",
       "useful                                                              0  \n",
       "user_id                                        QPT4Ud4H5sJVr68yXhoWFw  \n",
       "yelping_since                                              2016-07-21  \n",
       "yelping_since_new                                                2016  \n",
       "no_friends                                                          0  \n",
       "label                                                               0  "
      ]
     },
     "execution_count": 17,
     "metadata": {},
     "output_type": "execute_result"
    }
   ],
   "source": [
    "import pandas as pd\n",
    "pd.DataFrame(temp_dfFor.take(3), columns=temp_dfFor.columns).transpose()\n"
   ]
  },
  {
   "cell_type": "code",
   "execution_count": 66,
   "metadata": {
    "scrolled": true
   },
   "outputs": [
    {
     "data": {
      "text/plain": [
       "[Row(features=SparseVector(17, {2: 1.0, 3: 2.0}), average_stars=2.0, compliment_cool=0, compliment_cute=0, compliment_funny=0, compliment_hot=0, compliment_list=0, compliment_more=0, compliment_note=0, compliment_photos=0, compliment_plain=0, compliment_profile=0, compliment_writer=0, cool=0, elite=u'None', fans=0, friends=u'None', funny=0, name=u'Susan', review_count=1, useful=0, user_id=u'lzlZwIpuSWXEnNS91wxjHw', yelping_since=u'2015-09-28', no_friends=0, label=0)]"
      ]
     },
     "execution_count": 66,
     "metadata": {},
     "output_type": "execute_result"
    }
   ],
   "source": [
    "temp_dfFor.take(1)"
   ]
  },
  {
   "cell_type": "code",
   "execution_count": 74,
   "metadata": {},
   "outputs": [],
   "source": [
    "train, test = temp_dfFor.randomSplit([0.7, 0.3], seed = 2018)\n",
    "# print(\"Training Dataset Count: \" + str(train.count()))\n",
    "# print(\"Test Dataset Count: \" + str(test.count()))"
   ]
  },
  {
   "cell_type": "code",
   "execution_count": 75,
   "metadata": {},
   "outputs": [],
   "source": [
    "from pyspark.ml.classification import RandomForestClassifier\n",
    "rf = RandomForestClassifier(featuresCol = 'features', labelCol = 'label')\n",
    "rfModel = rf.fit(train)\n"
   ]
  },
  {
   "cell_type": "code",
   "execution_count": 76,
   "metadata": {},
   "outputs": [],
   "source": [
    "predictions = rfModel.transform(test)\n"
   ]
  },
  {
   "cell_type": "code",
   "execution_count": 77,
   "metadata": {},
   "outputs": [
    {
     "name": "stdout",
     "output_type": "stream",
     "text": [
      "Test Area Under ROC: 0.988966360974\n"
     ]
    }
   ],
   "source": [
    "evaluator = BinaryClassificationEvaluator()\n",
    "print(\"Test Area Under ROC: \" + str(evaluator.evaluate(predictions, {evaluator.metricName: \"areaUnderROC\"})))\n"
   ]
  },
  {
   "cell_type": "code",
   "execution_count": 78,
   "metadata": {},
   "outputs": [
    {
     "data": {
      "text/plain": [
       "13535"
      ]
     },
     "execution_count": 78,
     "metadata": {},
     "output_type": "execute_result"
    }
   ],
   "source": [
    "predictions.select('no_friends','fans','review_count','label','rawPrediction','prediction','probability').filter((predictions.label!=0) & (predictions.prediction!=0)).count()"
   ]
  },
  {
   "cell_type": "code",
   "execution_count": 79,
   "metadata": {},
   "outputs": [
    {
     "data": {
      "text/plain": [
       "6709"
      ]
     },
     "execution_count": 79,
     "metadata": {},
     "output_type": "execute_result"
    }
   ],
   "source": [
    "predictions.select('no_friends','fans','review_count','label','rawPrediction','prediction','probability').filter((predictions.label!=0) & (predictions.prediction==0)).count()"
   ]
  },
  {
   "cell_type": "code",
   "execution_count": 72,
   "metadata": {},
   "outputs": [
    {
     "name": "stdout",
     "output_type": "stream",
     "text": [
      "root\n",
      " |-- average_stars: double (nullable = true)\n",
      " |-- compliment_cool: long (nullable = true)\n",
      " |-- compliment_cute: long (nullable = true)\n",
      " |-- compliment_funny: long (nullable = true)\n",
      " |-- compliment_hot: long (nullable = true)\n",
      " |-- compliment_list: long (nullable = true)\n",
      " |-- compliment_more: long (nullable = true)\n",
      " |-- compliment_note: long (nullable = true)\n",
      " |-- compliment_photos: long (nullable = true)\n",
      " |-- compliment_plain: long (nullable = true)\n",
      " |-- compliment_profile: long (nullable = true)\n",
      " |-- compliment_writer: long (nullable = true)\n",
      " |-- cool: long (nullable = true)\n",
      " |-- elite: string (nullable = true)\n",
      " |-- fans: long (nullable = true)\n",
      " |-- friends: string (nullable = true)\n",
      " |-- funny: long (nullable = true)\n",
      " |-- name: string (nullable = true)\n",
      " |-- review_count: long (nullable = true)\n",
      " |-- useful: long (nullable = true)\n",
      " |-- user_id: string (nullable = true)\n",
      " |-- yelping_since: string (nullable = true)\n",
      " |-- no_friends: integer (nullable = true)\n",
      " |-- label: integer (nullable = true)\n",
      "\n"
     ]
    }
   ],
   "source": [
    "elite_df.printSchema()"
   ]
  },
  {
   "cell_type": "code",
   "execution_count": 73,
   "metadata": {},
   "outputs": [],
   "source": [
    "elite_df_check = elite_df.filter(elite_df.label!=0)"
   ]
  },
  {
   "cell_type": "code",
   "execution_count": 85,
   "metadata": {},
   "outputs": [
    {
     "name": "stdout",
     "output_type": "stream",
     "text": [
      "root\n",
      " |-- features: vector (nullable = true)\n",
      " |-- average_stars: double (nullable = true)\n",
      " |-- compliment_cool: long (nullable = true)\n",
      " |-- compliment_cute: long (nullable = true)\n",
      " |-- compliment_funny: long (nullable = true)\n",
      " |-- compliment_hot: long (nullable = true)\n",
      " |-- compliment_list: long (nullable = true)\n",
      " |-- compliment_more: long (nullable = true)\n",
      " |-- compliment_note: long (nullable = true)\n",
      " |-- compliment_photos: long (nullable = true)\n",
      " |-- compliment_plain: long (nullable = true)\n",
      " |-- compliment_profile: long (nullable = true)\n",
      " |-- compliment_writer: long (nullable = true)\n",
      " |-- cool: long (nullable = true)\n",
      " |-- elite: string (nullable = true)\n",
      " |-- fans: long (nullable = true)\n",
      " |-- friends: string (nullable = true)\n",
      " |-- funny: long (nullable = true)\n",
      " |-- name: string (nullable = true)\n",
      " |-- review_count: long (nullable = true)\n",
      " |-- useful: long (nullable = true)\n",
      " |-- user_id: string (nullable = true)\n",
      " |-- yelping_since: string (nullable = true)\n",
      " |-- no_friends: integer (nullable = true)\n",
      " |-- label: integer (nullable = true)\n",
      "\n"
     ]
    }
   ],
   "source": [
    "from pyspark.ml import Pipeline\n",
    "cols = elite_df_check.columns\n",
    "pipelineFor = Pipeline(stages = stagesFor)\n",
    "pipelineModelFor = pipelineFor.fit(elite_df_check)\n",
    "temp_dfFor = pipelineModelFor.transform(elite_df_check)\n",
    "selectedColsFor = [ 'features'] + cols\n",
    "temp_dfFor = temp_dfFor.select(selectedColsFor)\n",
    "temp_dfFor.printSchema()"
   ]
  },
  {
   "cell_type": "code",
   "execution_count": 87,
   "metadata": {},
   "outputs": [],
   "source": [
    "predictions = rfModel.transform(temp_dfFor)\n"
   ]
  },
  {
   "cell_type": "code",
   "execution_count": 18,
   "metadata": {},
   "outputs": [],
   "source": [
    "from pyspark.ml.tuning import CrossValidator, ParamGridBuilder\n",
    "from pyspark.ml.feature import OneHotEncoderEstimator, StringIndexer, VectorAssembler\n",
    "from pyspark.ml.classification import LogisticRegression\n",
    "from pyspark.ml import Pipeline\n",
    "from pyspark.ml.classification import RandomForestClassifier\n",
    "from pyspark.ml.evaluation import BinaryClassificationEvaluator\n",
    "evaluator = BinaryClassificationEvaluator()"
   ]
  },
  {
   "cell_type": "code",
   "execution_count": 19,
   "metadata": {},
   "outputs": [],
   "source": [
    "numericColsFor = ['no_friends','fans','review_count','average_stars','compliment_cool','compliment_cute','compliment_funny','compliment_list','compliment_profile','compliment_writer','compliment_note','compliment_photos','compliment_hot','compliment_plain','cool','funny','useful']\n",
    "assemblerInputsFor =  numericColsFor\n",
    "assemblerFor = VectorAssembler(inputCols=assemblerInputsFor,outputCol=\"features\")\n",
    "rf = RandomForestClassifier(featuresCol = 'features', labelCol = 'label')\n",
    "\n",
    "stagesFor = [assemblerFor,rf]\n",
    "pipelineFor = Pipeline(stages = stagesFor)\n",
    "estimatorParam = ParamGridBuilder().build()\n",
    "\n",
    "crossval = CrossValidator(\n",
    "                          estimator = pipelineFor,\n",
    "                          estimatorParamMaps = estimatorParam,  \n",
    "                          evaluator = evaluator,\n",
    "                          numFolds = 3\n",
    "                         )"
   ]
  },
  {
   "cell_type": "code",
   "execution_count": 20,
   "metadata": {},
   "outputs": [],
   "source": [
    "model = crossval.fit(elite_df)"
   ]
  },
  {
   "cell_type": "code",
   "execution_count": 16,
   "metadata": {},
   "outputs": [
    {
     "data": {
      "text/html": [
       "<div>\n",
       "<style scoped>\n",
       "    .dataframe tbody tr th:only-of-type {\n",
       "        vertical-align: middle;\n",
       "    }\n",
       "\n",
       "    .dataframe tbody tr th {\n",
       "        vertical-align: top;\n",
       "    }\n",
       "\n",
       "    .dataframe thead th {\n",
       "        text-align: right;\n",
       "    }\n",
       "</style>\n",
       "<table border=\"1\" class=\"dataframe\">\n",
       "  <thead>\n",
       "    <tr style=\"text-align: right;\">\n",
       "      <th></th>\n",
       "      <th>values</th>\n",
       "      <th>features</th>\n",
       "    </tr>\n",
       "  </thead>\n",
       "  <tbody>\n",
       "    <tr>\n",
       "      <th>0</th>\n",
       "      <td>0.005229</td>\n",
       "      <td>no_friends</td>\n",
       "    </tr>\n",
       "    <tr>\n",
       "      <th>1</th>\n",
       "      <td>0.184797</td>\n",
       "      <td>fans</td>\n",
       "    </tr>\n",
       "    <tr>\n",
       "      <th>2</th>\n",
       "      <td>0.197840</td>\n",
       "      <td>review_count</td>\n",
       "    </tr>\n",
       "    <tr>\n",
       "      <th>3</th>\n",
       "      <td>0.004107</td>\n",
       "      <td>average_stars</td>\n",
       "    </tr>\n",
       "    <tr>\n",
       "      <th>4</th>\n",
       "      <td>0.186067</td>\n",
       "      <td>compliment_cool</td>\n",
       "    </tr>\n",
       "    <tr>\n",
       "      <th>5</th>\n",
       "      <td>0.000220</td>\n",
       "      <td>compliment_cute</td>\n",
       "    </tr>\n",
       "    <tr>\n",
       "      <th>6</th>\n",
       "      <td>0.073070</td>\n",
       "      <td>compliment_funny</td>\n",
       "    </tr>\n",
       "    <tr>\n",
       "      <th>7</th>\n",
       "      <td>0.000000</td>\n",
       "      <td>compliment_list</td>\n",
       "    </tr>\n",
       "    <tr>\n",
       "      <th>8</th>\n",
       "      <td>0.000100</td>\n",
       "      <td>compliment_profile</td>\n",
       "    </tr>\n",
       "    <tr>\n",
       "      <th>9</th>\n",
       "      <td>0.240596</td>\n",
       "      <td>compliment_writer</td>\n",
       "    </tr>\n",
       "    <tr>\n",
       "      <th>10</th>\n",
       "      <td>0.036393</td>\n",
       "      <td>compliment_note</td>\n",
       "    </tr>\n",
       "    <tr>\n",
       "      <th>11</th>\n",
       "      <td>0.001780</td>\n",
       "      <td>compliment_photos</td>\n",
       "    </tr>\n",
       "    <tr>\n",
       "      <th>12</th>\n",
       "      <td>0.049027</td>\n",
       "      <td>compliment_hot</td>\n",
       "    </tr>\n",
       "    <tr>\n",
       "      <th>13</th>\n",
       "      <td>0.001138</td>\n",
       "      <td>compliment_plain</td>\n",
       "    </tr>\n",
       "    <tr>\n",
       "      <th>14</th>\n",
       "      <td>0.019467</td>\n",
       "      <td>cool</td>\n",
       "    </tr>\n",
       "    <tr>\n",
       "      <th>15</th>\n",
       "      <td>0.000105</td>\n",
       "      <td>funny</td>\n",
       "    </tr>\n",
       "    <tr>\n",
       "      <th>16</th>\n",
       "      <td>0.000064</td>\n",
       "      <td>useful</td>\n",
       "    </tr>\n",
       "  </tbody>\n",
       "</table>\n",
       "</div>"
      ],
      "text/plain": [
       "      values            features\n",
       "0   0.005229          no_friends\n",
       "1   0.184797                fans\n",
       "2   0.197840        review_count\n",
       "3   0.004107       average_stars\n",
       "4   0.186067     compliment_cool\n",
       "5   0.000220     compliment_cute\n",
       "6   0.073070    compliment_funny\n",
       "7   0.000000     compliment_list\n",
       "8   0.000100  compliment_profile\n",
       "9   0.240596   compliment_writer\n",
       "10  0.036393     compliment_note\n",
       "11  0.001780   compliment_photos\n",
       "12  0.049027      compliment_hot\n",
       "13  0.001138    compliment_plain\n",
       "14  0.019467                cool\n",
       "15  0.000105               funny\n",
       "16  0.000064              useful"
      ]
     },
     "execution_count": 16,
     "metadata": {},
     "output_type": "execute_result"
    }
   ],
   "source": [
    "import pandas as pd\n",
    "cvmodel = pd.DataFrame(model.bestModel.stages[-1].featureImportances.toArray(), columns=[\"values\"])\n",
    "features_col = pd.Series(features)\n",
    "cvmodel[\"features\"] = numericColsFor\n",
    "cvmodel"
   ]
  },
  {
   "cell_type": "code",
   "execution_count": 17,
   "metadata": {},
   "outputs": [
    {
     "data": {
      "text/plain": [
       "DataFrame[values: double, features: string]"
      ]
     },
     "metadata": {},
     "output_type": "display_data"
    }
   ],
   "source": [
    "from pyspark.sql.types import StructType, StructField, DoubleType, StringType\n",
    "\n",
    "new_schema = StructType([\n",
    "  StructField(\"values\", DoubleType(), False),\n",
    "  StructField(\"features\", StringType(), False)\n",
    "])\n",
    "\n",
    "feature_importance = spark.createDataFrame(cvmodel, schema=new_schema)\n",
    "\n",
    "display(feature_importance.orderBy(\"values\", ascending=False))"
   ]
  },
  {
   "cell_type": "code",
   "execution_count": 18,
   "metadata": {
    "scrolled": true
   },
   "outputs": [
    {
     "data": {
      "text/plain": [
       "DataFrame[values: double, features: string]"
      ]
     },
     "metadata": {},
     "output_type": "display_data"
    }
   ],
   "source": [
    "display(feature_importance.orderBy(\"values\", ascending=False))"
   ]
  },
  {
   "cell_type": "code",
   "execution_count": 19,
   "metadata": {},
   "outputs": [],
   "source": [
    "lol = feature_importance.orderBy(\"values\", ascending=False)"
   ]
  },
  {
   "cell_type": "code",
   "execution_count": 21,
   "metadata": {},
   "outputs": [],
   "source": [
    "lol = lol.collect()"
   ]
  },
  {
   "cell_type": "code",
   "execution_count": 22,
   "metadata": {},
   "outputs": [
    {
     "data": {
      "text/plain": [
       "[Row(values=0.2405962474797167, features=u'compliment_writer'),\n",
       " Row(values=0.19784030677245734, features=u'review_count'),\n",
       " Row(values=0.18606658148983246, features=u'compliment_cool'),\n",
       " Row(values=0.18479673211425818, features=u'fans'),\n",
       " Row(values=0.0730695239668296, features=u'compliment_funny'),\n",
       " Row(values=0.04902706738035228, features=u'compliment_hot'),\n",
       " Row(values=0.036393304867313354, features=u'compliment_note'),\n",
       " Row(values=0.019467182527168125, features=u'cool'),\n",
       " Row(values=0.005228965764738328, features=u'no_friends'),\n",
       " Row(values=0.004107109694106154, features=u'average_stars'),\n",
       " Row(values=0.0017801297006891793, features=u'compliment_photos'),\n",
       " Row(values=0.001138033739772681, features=u'compliment_plain'),\n",
       " Row(values=0.0002201597090095708, features=u'compliment_cute'),\n",
       " Row(values=0.00010507580620849552, features=u'funny'),\n",
       " Row(values=9.971741978326233e-05, features=u'compliment_profile'),\n",
       " Row(values=6.386156776409555e-05, features=u'useful'),\n",
       " Row(values=0.0, features=u'compliment_list')]"
      ]
     },
     "execution_count": 22,
     "metadata": {},
     "output_type": "execute_result"
    }
   ],
   "source": [
    "lol"
   ]
  },
  {
   "cell_type": "code",
   "execution_count": 15,
   "metadata": {},
   "outputs": [],
   "source": [
    "from pyspark.ml.feature import StandardScaler, StandardScalerModel\n",
    "numericColsFor = ['no_friends','fans','review_count','average_stars','compliment_cool','compliment_cute','compliment_funny','compliment_list','compliment_profile','compliment_writer','compliment_note','compliment_photos','compliment_hot','compliment_plain','cool','funny','useful']\n",
    "assemblerInputsFor =  numericColsFor\n",
    "assemblerFor = VectorAssembler(inputCols=assemblerInputsFor,outputCol=\"feat\")\n",
    "scaler = StandardScaler(inputCol=\"feat\", outputCol=\"features\")\n",
    "rf = RandomForestClassifier(featuresCol = 'features', labelCol = 'label')\n",
    "\n",
    "stagesFor = [assemblerFor,scaler,rf]\n",
    "pipelinestd = Pipeline(stages = stagesFor)"
   ]
  },
  {
   "cell_type": "code",
   "execution_count": 14,
   "metadata": {},
   "outputs": [],
   "source": [
    "(training, test) = elite_df.randomSplit([.7, .3],seed=2018)\n",
    "# lolmodel = pipelinestd.fit(training)"
   ]
  },
  {
   "cell_type": "code",
   "execution_count": 95,
   "metadata": {},
   "outputs": [
    {
     "data": {
      "text/plain": [
       "[Row(average_stars=2.0, compliment_cool=0, compliment_cute=0, compliment_funny=0, compliment_hot=0, compliment_list=0, compliment_more=0, compliment_note=0, compliment_photos=0, compliment_plain=0, compliment_profile=0, compliment_writer=0, cool=0, elite=u'None', fans=0, friends=u'None', funny=0, name=u'Susan', review_count=1, useful=0, user_id=u'lzlZwIpuSWXEnNS91wxjHw', yelping_since=u'2015-09-28', no_friends=0, label=0),\n",
       " Row(average_stars=5.0, compliment_cool=0, compliment_cute=0, compliment_funny=0, compliment_hot=0, compliment_list=0, compliment_more=0, compliment_note=0, compliment_photos=0, compliment_plain=0, compliment_profile=0, compliment_writer=0, cool=0, elite=u'None', fans=0, friends=u'None', funny=0, name=u'Daipayan', review_count=2, useful=0, user_id=u'XvLBr-9smbI0m_a7dXtB7w', yelping_since=u'2015-09-05', no_friends=0, label=0)]"
      ]
     },
     "execution_count": 95,
     "metadata": {},
     "output_type": "execute_result"
    }
   ],
   "source": [
    "elite_df.take(2)"
   ]
  },
  {
   "cell_type": "code",
   "execution_count": 15,
   "metadata": {},
   "outputs": [],
   "source": [
    "predictions = lolmodel.transform(test)"
   ]
  },
  {
   "cell_type": "code",
   "execution_count": 21,
   "metadata": {},
   "outputs": [
    {
     "data": {
      "text/plain": [
       "13775"
      ]
     },
     "execution_count": 21,
     "metadata": {},
     "output_type": "execute_result"
    }
   ],
   "source": [
    "predictions.select('label','rawPrediction','prediction','probability').filter((predictions.label!=0) & (predictions.prediction!=0)).count()"
   ]
  },
  {
   "cell_type": "code",
   "execution_count": 22,
   "metadata": {},
   "outputs": [
    {
     "data": {
      "text/plain": [
       "6586"
      ]
     },
     "execution_count": 22,
     "metadata": {},
     "output_type": "execute_result"
    }
   ],
   "source": [
    "predictions.select('label','rawPrediction','prediction','probability').filter((predictions.label!=0) & (predictions.prediction==0)).count()"
   ]
  },
  {
   "cell_type": "code",
   "execution_count": 29,
   "metadata": {},
   "outputs": [
    {
     "data": {
      "text/plain": [
       "array([4.90028168e-03, 1.84319397e-01, 1.95235849e-01, 4.34765450e-03,\n",
       "       1.86909389e-01, 2.80532560e-04, 7.18657840e-02, 5.74375822e-05,\n",
       "       5.09032847e-06, 2.42482135e-01, 3.78908627e-02, 1.83334253e-03,\n",
       "       4.94231365e-02, 9.47102620e-04, 1.92943905e-02, 1.59106253e-04,\n",
       "       4.85091373e-05])"
      ]
     },
     "execution_count": 29,
     "metadata": {},
     "output_type": "execute_result"
    }
   ],
   "source": [
    "lolmodel.stages[2].featureImportances.toArray()"
   ]
  },
  {
   "cell_type": "code",
   "execution_count": 36,
   "metadata": {},
   "outputs": [
    {
     "data": {
      "text/html": [
       "<div>\n",
       "<style scoped>\n",
       "    .dataframe tbody tr th:only-of-type {\n",
       "        vertical-align: middle;\n",
       "    }\n",
       "\n",
       "    .dataframe tbody tr th {\n",
       "        vertical-align: top;\n",
       "    }\n",
       "\n",
       "    .dataframe thead th {\n",
       "        text-align: right;\n",
       "    }\n",
       "</style>\n",
       "<table border=\"1\" class=\"dataframe\">\n",
       "  <thead>\n",
       "    <tr style=\"text-align: right;\">\n",
       "      <th></th>\n",
       "      <th>values</th>\n",
       "      <th>features</th>\n",
       "    </tr>\n",
       "  </thead>\n",
       "  <tbody>\n",
       "    <tr>\n",
       "      <th>0</th>\n",
       "      <td>0.004900</td>\n",
       "      <td>no_friends</td>\n",
       "    </tr>\n",
       "    <tr>\n",
       "      <th>1</th>\n",
       "      <td>0.184319</td>\n",
       "      <td>fans</td>\n",
       "    </tr>\n",
       "    <tr>\n",
       "      <th>2</th>\n",
       "      <td>0.195236</td>\n",
       "      <td>review_count</td>\n",
       "    </tr>\n",
       "    <tr>\n",
       "      <th>3</th>\n",
       "      <td>0.004348</td>\n",
       "      <td>average_stars</td>\n",
       "    </tr>\n",
       "    <tr>\n",
       "      <th>4</th>\n",
       "      <td>0.186909</td>\n",
       "      <td>compliment_cool</td>\n",
       "    </tr>\n",
       "    <tr>\n",
       "      <th>5</th>\n",
       "      <td>0.000281</td>\n",
       "      <td>compliment_cute</td>\n",
       "    </tr>\n",
       "    <tr>\n",
       "      <th>6</th>\n",
       "      <td>0.071866</td>\n",
       "      <td>compliment_funny</td>\n",
       "    </tr>\n",
       "    <tr>\n",
       "      <th>7</th>\n",
       "      <td>0.000057</td>\n",
       "      <td>compliment_list</td>\n",
       "    </tr>\n",
       "    <tr>\n",
       "      <th>8</th>\n",
       "      <td>0.000005</td>\n",
       "      <td>compliment_profile</td>\n",
       "    </tr>\n",
       "    <tr>\n",
       "      <th>9</th>\n",
       "      <td>0.242482</td>\n",
       "      <td>compliment_writer</td>\n",
       "    </tr>\n",
       "    <tr>\n",
       "      <th>10</th>\n",
       "      <td>0.037891</td>\n",
       "      <td>compliment_note</td>\n",
       "    </tr>\n",
       "    <tr>\n",
       "      <th>11</th>\n",
       "      <td>0.001833</td>\n",
       "      <td>compliment_photos</td>\n",
       "    </tr>\n",
       "    <tr>\n",
       "      <th>12</th>\n",
       "      <td>0.049423</td>\n",
       "      <td>compliment_hot</td>\n",
       "    </tr>\n",
       "    <tr>\n",
       "      <th>13</th>\n",
       "      <td>0.000947</td>\n",
       "      <td>compliment_plain</td>\n",
       "    </tr>\n",
       "    <tr>\n",
       "      <th>14</th>\n",
       "      <td>0.019294</td>\n",
       "      <td>cool</td>\n",
       "    </tr>\n",
       "    <tr>\n",
       "      <th>15</th>\n",
       "      <td>0.000159</td>\n",
       "      <td>funny</td>\n",
       "    </tr>\n",
       "    <tr>\n",
       "      <th>16</th>\n",
       "      <td>0.000049</td>\n",
       "      <td>useful</td>\n",
       "    </tr>\n",
       "  </tbody>\n",
       "</table>\n",
       "</div>"
      ],
      "text/plain": [
       "      values            features\n",
       "0   0.004900          no_friends\n",
       "1   0.184319                fans\n",
       "2   0.195236        review_count\n",
       "3   0.004348       average_stars\n",
       "4   0.186909     compliment_cool\n",
       "5   0.000281     compliment_cute\n",
       "6   0.071866    compliment_funny\n",
       "7   0.000057     compliment_list\n",
       "8   0.000005  compliment_profile\n",
       "9   0.242482   compliment_writer\n",
       "10  0.037891     compliment_note\n",
       "11  0.001833   compliment_photos\n",
       "12  0.049423      compliment_hot\n",
       "13  0.000947    compliment_plain\n",
       "14  0.019294                cool\n",
       "15  0.000159               funny\n",
       "16  0.000049              useful"
      ]
     },
     "execution_count": 36,
     "metadata": {},
     "output_type": "execute_result"
    }
   ],
   "source": [
    "import pandas as pd\n",
    "cvmodel = pd.DataFrame(lolmodel.stages[-1].featureImportances.toArray(), columns=[\"values\"])\n",
    "features_col = pd.Series(numericColsFor)\n",
    "cvmodel[\"features\"] = features_col\n",
    "cvmodel"
   ]
  },
  {
   "cell_type": "code",
   "execution_count": 38,
   "metadata": {
    "scrolled": false
   },
   "outputs": [
    {
     "data": {
      "text/html": [
       "<div>\n",
       "<style scoped>\n",
       "    .dataframe tbody tr th:only-of-type {\n",
       "        vertical-align: middle;\n",
       "    }\n",
       "\n",
       "    .dataframe tbody tr th {\n",
       "        vertical-align: top;\n",
       "    }\n",
       "\n",
       "    .dataframe thead th {\n",
       "        text-align: right;\n",
       "    }\n",
       "</style>\n",
       "<table border=\"1\" class=\"dataframe\">\n",
       "  <thead>\n",
       "    <tr style=\"text-align: right;\">\n",
       "      <th></th>\n",
       "      <th>values</th>\n",
       "      <th>features</th>\n",
       "    </tr>\n",
       "  </thead>\n",
       "  <tbody>\n",
       "    <tr>\n",
       "      <th>9</th>\n",
       "      <td>0.242482</td>\n",
       "      <td>compliment_writer</td>\n",
       "    </tr>\n",
       "    <tr>\n",
       "      <th>2</th>\n",
       "      <td>0.195236</td>\n",
       "      <td>review_count</td>\n",
       "    </tr>\n",
       "    <tr>\n",
       "      <th>4</th>\n",
       "      <td>0.186909</td>\n",
       "      <td>compliment_cool</td>\n",
       "    </tr>\n",
       "    <tr>\n",
       "      <th>1</th>\n",
       "      <td>0.184319</td>\n",
       "      <td>fans</td>\n",
       "    </tr>\n",
       "    <tr>\n",
       "      <th>6</th>\n",
       "      <td>0.071866</td>\n",
       "      <td>compliment_funny</td>\n",
       "    </tr>\n",
       "    <tr>\n",
       "      <th>12</th>\n",
       "      <td>0.049423</td>\n",
       "      <td>compliment_hot</td>\n",
       "    </tr>\n",
       "    <tr>\n",
       "      <th>10</th>\n",
       "      <td>0.037891</td>\n",
       "      <td>compliment_note</td>\n",
       "    </tr>\n",
       "    <tr>\n",
       "      <th>14</th>\n",
       "      <td>0.019294</td>\n",
       "      <td>cool</td>\n",
       "    </tr>\n",
       "    <tr>\n",
       "      <th>0</th>\n",
       "      <td>0.004900</td>\n",
       "      <td>no_friends</td>\n",
       "    </tr>\n",
       "    <tr>\n",
       "      <th>3</th>\n",
       "      <td>0.004348</td>\n",
       "      <td>average_stars</td>\n",
       "    </tr>\n",
       "    <tr>\n",
       "      <th>11</th>\n",
       "      <td>0.001833</td>\n",
       "      <td>compliment_photos</td>\n",
       "    </tr>\n",
       "    <tr>\n",
       "      <th>13</th>\n",
       "      <td>0.000947</td>\n",
       "      <td>compliment_plain</td>\n",
       "    </tr>\n",
       "    <tr>\n",
       "      <th>5</th>\n",
       "      <td>0.000281</td>\n",
       "      <td>compliment_cute</td>\n",
       "    </tr>\n",
       "    <tr>\n",
       "      <th>15</th>\n",
       "      <td>0.000159</td>\n",
       "      <td>funny</td>\n",
       "    </tr>\n",
       "    <tr>\n",
       "      <th>7</th>\n",
       "      <td>0.000057</td>\n",
       "      <td>compliment_list</td>\n",
       "    </tr>\n",
       "    <tr>\n",
       "      <th>16</th>\n",
       "      <td>0.000049</td>\n",
       "      <td>useful</td>\n",
       "    </tr>\n",
       "    <tr>\n",
       "      <th>8</th>\n",
       "      <td>0.000005</td>\n",
       "      <td>compliment_profile</td>\n",
       "    </tr>\n",
       "  </tbody>\n",
       "</table>\n",
       "</div>"
      ],
      "text/plain": [
       "      values            features\n",
       "9   0.242482   compliment_writer\n",
       "2   0.195236        review_count\n",
       "4   0.186909     compliment_cool\n",
       "1   0.184319                fans\n",
       "6   0.071866    compliment_funny\n",
       "12  0.049423      compliment_hot\n",
       "10  0.037891     compliment_note\n",
       "14  0.019294                cool\n",
       "0   0.004900          no_friends\n",
       "3   0.004348       average_stars\n",
       "11  0.001833   compliment_photos\n",
       "13  0.000947    compliment_plain\n",
       "5   0.000281     compliment_cute\n",
       "15  0.000159               funny\n",
       "7   0.000057     compliment_list\n",
       "16  0.000049              useful\n",
       "8   0.000005  compliment_profile"
      ]
     },
     "execution_count": 38,
     "metadata": {},
     "output_type": "execute_result"
    }
   ],
   "source": [
    "cvmodel = cvmodel.sort_values(by=['values'],ascending=False)\n",
    "cvmodel"
   ]
  },
  {
   "cell_type": "code",
   "execution_count": 40,
   "metadata": {},
   "outputs": [],
   "source": [
    "lolmodel.save(\"/home/akash/btpPhase_I/lolmodel\")"
   ]
  },
  {
   "cell_type": "code",
   "execution_count": 42,
   "metadata": {},
   "outputs": [],
   "source": [
    "cvmodel.to_pickle(\"/home/akash/btpPhase_I/cvmodel.pkl\")"
   ]
  },
  {
   "cell_type": "code",
   "execution_count": 1,
   "metadata": {},
   "outputs": [
    {
     "ename": "Py4JJavaError",
     "evalue": "An error occurred while calling o36.load.\n: org.apache.hadoop.mapred.InvalidInputException: Input path does not exist: file:/home/akash/btpPhase_I/cvmodel.pkl/metadata\n\tat org.apache.hadoop.mapred.FileInputFormat.singleThreadedListStatus(FileInputFormat.java:287)\n\tat org.apache.hadoop.mapred.FileInputFormat.listStatus(FileInputFormat.java:229)\n\tat org.apache.hadoop.mapred.FileInputFormat.getSplits(FileInputFormat.java:315)\n\tat org.apache.spark.rdd.HadoopRDD.getPartitions(HadoopRDD.scala:200)\n\tat org.apache.spark.rdd.RDD$$anonfun$partitions$2.apply(RDD.scala:253)\n\tat org.apache.spark.rdd.RDD$$anonfun$partitions$2.apply(RDD.scala:251)\n\tat scala.Option.getOrElse(Option.scala:121)\n\tat org.apache.spark.rdd.RDD.partitions(RDD.scala:251)\n\tat org.apache.spark.rdd.MapPartitionsRDD.getPartitions(MapPartitionsRDD.scala:46)\n\tat org.apache.spark.rdd.RDD$$anonfun$partitions$2.apply(RDD.scala:253)\n\tat org.apache.spark.rdd.RDD$$anonfun$partitions$2.apply(RDD.scala:251)\n\tat scala.Option.getOrElse(Option.scala:121)\n\tat org.apache.spark.rdd.RDD.partitions(RDD.scala:251)\n\tat org.apache.spark.rdd.RDD$$anonfun$take$1.apply(RDD.scala:1343)\n\tat org.apache.spark.rdd.RDDOperationScope$.withScope(RDDOperationScope.scala:151)\n\tat org.apache.spark.rdd.RDDOperationScope$.withScope(RDDOperationScope.scala:112)\n\tat org.apache.spark.rdd.RDD.withScope(RDD.scala:363)\n\tat org.apache.spark.rdd.RDD.take(RDD.scala:1337)\n\tat org.apache.spark.rdd.RDD$$anonfun$first$1.apply(RDD.scala:1378)\n\tat org.apache.spark.rdd.RDDOperationScope$.withScope(RDDOperationScope.scala:151)\n\tat org.apache.spark.rdd.RDDOperationScope$.withScope(RDDOperationScope.scala:112)\n\tat org.apache.spark.rdd.RDD.withScope(RDD.scala:363)\n\tat org.apache.spark.rdd.RDD.first(RDD.scala:1377)\n\tat org.apache.spark.ml.util.DefaultParamsReader$.loadMetadata(ReadWrite.scala:387)\n\tat org.apache.spark.ml.tuning.ValidatorParams$.loadImpl(ValidatorParams.scala:180)\n\tat org.apache.spark.ml.tuning.CrossValidatorModel$CrossValidatorModelReader.load(CrossValidator.scala:388)\n\tat sun.reflect.NativeMethodAccessorImpl.invoke0(Native Method)\n\tat sun.reflect.NativeMethodAccessorImpl.invoke(NativeMethodAccessorImpl.java:62)\n\tat sun.reflect.DelegatingMethodAccessorImpl.invoke(DelegatingMethodAccessorImpl.java:43)\n\tat java.lang.reflect.Method.invoke(Method.java:498)\n\tat py4j.reflection.MethodInvoker.invoke(MethodInvoker.java:244)\n\tat py4j.reflection.ReflectionEngine.invoke(ReflectionEngine.java:357)\n\tat py4j.Gateway.invoke(Gateway.java:282)\n\tat py4j.commands.AbstractCommand.invokeMethod(AbstractCommand.java:132)\n\tat py4j.commands.CallCommand.execute(CallCommand.java:79)\n\tat py4j.GatewayConnection.run(GatewayConnection.java:238)\n\tat java.lang.Thread.run(Thread.java:748)\n",
     "output_type": "error",
     "traceback": [
      "\u001b[0;31m---------------------------------------------------------------------------\u001b[0m",
      "\u001b[0;31mPy4JJavaError\u001b[0m                             Traceback (most recent call last)",
      "\u001b[0;32m<ipython-input-1-9af1608b767c>\u001b[0m in \u001b[0;36m<module>\u001b[0;34m()\u001b[0m\n\u001b[1;32m      1\u001b[0m \u001b[0;32mfrom\u001b[0m \u001b[0mpyspark\u001b[0m\u001b[0;34m.\u001b[0m\u001b[0mml\u001b[0m\u001b[0;34m.\u001b[0m\u001b[0mtuning\u001b[0m \u001b[0;32mimport\u001b[0m \u001b[0mCrossValidatorModel\u001b[0m\u001b[0;34m\u001b[0m\u001b[0m\n\u001b[1;32m      2\u001b[0m \u001b[0;34m\u001b[0m\u001b[0m\n\u001b[0;32m----> 3\u001b[0;31m \u001b[0mpickleRdd\u001b[0m \u001b[0;34m=\u001b[0m \u001b[0mCrossValidatorModel\u001b[0m\u001b[0;34m.\u001b[0m\u001b[0mload\u001b[0m\u001b[0;34m(\u001b[0m\u001b[0;34m\"/home/akash/btpPhase_I/cvmodel.pkl\"\u001b[0m\u001b[0;34m)\u001b[0m\u001b[0;34m\u001b[0m\u001b[0m\n\u001b[0m\u001b[1;32m      4\u001b[0m \u001b[0;31m# cvmodel = spark.createDataFrame(pickleRdd)\u001b[0m\u001b[0;34m\u001b[0m\u001b[0;34m\u001b[0m\u001b[0m\n",
      "\u001b[0;32m/home/akash/spark-2.3.2-bin-hadoop2.7/python/pyspark/ml/util.pyc\u001b[0m in \u001b[0;36mload\u001b[0;34m(cls, path)\u001b[0m\n\u001b[1;32m    309\u001b[0m     \u001b[0;32mdef\u001b[0m \u001b[0mload\u001b[0m\u001b[0;34m(\u001b[0m\u001b[0mcls\u001b[0m\u001b[0;34m,\u001b[0m \u001b[0mpath\u001b[0m\u001b[0;34m)\u001b[0m\u001b[0;34m:\u001b[0m\u001b[0;34m\u001b[0m\u001b[0m\n\u001b[1;32m    310\u001b[0m         \u001b[0;34m\"\"\"Reads an ML instance from the input path, a shortcut of `read().load(path)`.\"\"\"\u001b[0m\u001b[0;34m\u001b[0m\u001b[0m\n\u001b[0;32m--> 311\u001b[0;31m         \u001b[0;32mreturn\u001b[0m \u001b[0mcls\u001b[0m\u001b[0;34m.\u001b[0m\u001b[0mread\u001b[0m\u001b[0;34m(\u001b[0m\u001b[0;34m)\u001b[0m\u001b[0;34m.\u001b[0m\u001b[0mload\u001b[0m\u001b[0;34m(\u001b[0m\u001b[0mpath\u001b[0m\u001b[0;34m)\u001b[0m\u001b[0;34m\u001b[0m\u001b[0m\n\u001b[0m\u001b[1;32m    312\u001b[0m \u001b[0;34m\u001b[0m\u001b[0m\n\u001b[1;32m    313\u001b[0m \u001b[0;34m\u001b[0m\u001b[0m\n",
      "\u001b[0;32m/home/akash/spark-2.3.2-bin-hadoop2.7/python/pyspark/ml/util.pyc\u001b[0m in \u001b[0;36mload\u001b[0;34m(self, path)\u001b[0m\n\u001b[1;32m    247\u001b[0m         \u001b[0;32mif\u001b[0m \u001b[0;32mnot\u001b[0m \u001b[0misinstance\u001b[0m\u001b[0;34m(\u001b[0m\u001b[0mpath\u001b[0m\u001b[0;34m,\u001b[0m \u001b[0mbasestring\u001b[0m\u001b[0;34m)\u001b[0m\u001b[0;34m:\u001b[0m\u001b[0;34m\u001b[0m\u001b[0m\n\u001b[1;32m    248\u001b[0m             \u001b[0;32mraise\u001b[0m \u001b[0mTypeError\u001b[0m\u001b[0;34m(\u001b[0m\u001b[0;34m\"path should be a basestring, got type %s\"\u001b[0m \u001b[0;34m%\u001b[0m \u001b[0mtype\u001b[0m\u001b[0;34m(\u001b[0m\u001b[0mpath\u001b[0m\u001b[0;34m)\u001b[0m\u001b[0;34m)\u001b[0m\u001b[0;34m\u001b[0m\u001b[0m\n\u001b[0;32m--> 249\u001b[0;31m         \u001b[0mjava_obj\u001b[0m \u001b[0;34m=\u001b[0m \u001b[0mself\u001b[0m\u001b[0;34m.\u001b[0m\u001b[0m_jread\u001b[0m\u001b[0;34m.\u001b[0m\u001b[0mload\u001b[0m\u001b[0;34m(\u001b[0m\u001b[0mpath\u001b[0m\u001b[0;34m)\u001b[0m\u001b[0;34m\u001b[0m\u001b[0m\n\u001b[0m\u001b[1;32m    250\u001b[0m         \u001b[0;32mif\u001b[0m \u001b[0;32mnot\u001b[0m \u001b[0mhasattr\u001b[0m\u001b[0;34m(\u001b[0m\u001b[0mself\u001b[0m\u001b[0;34m.\u001b[0m\u001b[0m_clazz\u001b[0m\u001b[0;34m,\u001b[0m \u001b[0;34m\"_from_java\"\u001b[0m\u001b[0;34m)\u001b[0m\u001b[0;34m:\u001b[0m\u001b[0;34m\u001b[0m\u001b[0m\n\u001b[1;32m    251\u001b[0m             raise NotImplementedError(\"This Java ML type cannot be loaded into Python currently: %r\"\n",
      "\u001b[0;32m/home/akash/spark-2.3.2-bin-hadoop2.7/python/lib/py4j-0.10.7-src.zip/py4j/java_gateway.py\u001b[0m in \u001b[0;36m__call__\u001b[0;34m(self, *args)\u001b[0m\n\u001b[1;32m   1255\u001b[0m         \u001b[0manswer\u001b[0m \u001b[0;34m=\u001b[0m \u001b[0mself\u001b[0m\u001b[0;34m.\u001b[0m\u001b[0mgateway_client\u001b[0m\u001b[0;34m.\u001b[0m\u001b[0msend_command\u001b[0m\u001b[0;34m(\u001b[0m\u001b[0mcommand\u001b[0m\u001b[0;34m)\u001b[0m\u001b[0;34m\u001b[0m\u001b[0m\n\u001b[1;32m   1256\u001b[0m         return_value = get_return_value(\n\u001b[0;32m-> 1257\u001b[0;31m             answer, self.gateway_client, self.target_id, self.name)\n\u001b[0m\u001b[1;32m   1258\u001b[0m \u001b[0;34m\u001b[0m\u001b[0m\n\u001b[1;32m   1259\u001b[0m         \u001b[0;32mfor\u001b[0m \u001b[0mtemp_arg\u001b[0m \u001b[0;32min\u001b[0m \u001b[0mtemp_args\u001b[0m\u001b[0;34m:\u001b[0m\u001b[0;34m\u001b[0m\u001b[0m\n",
      "\u001b[0;32m/home/akash/spark-2.3.2-bin-hadoop2.7/python/pyspark/sql/utils.pyc\u001b[0m in \u001b[0;36mdeco\u001b[0;34m(*a, **kw)\u001b[0m\n\u001b[1;32m     61\u001b[0m     \u001b[0;32mdef\u001b[0m \u001b[0mdeco\u001b[0m\u001b[0;34m(\u001b[0m\u001b[0;34m*\u001b[0m\u001b[0ma\u001b[0m\u001b[0;34m,\u001b[0m \u001b[0;34m**\u001b[0m\u001b[0mkw\u001b[0m\u001b[0;34m)\u001b[0m\u001b[0;34m:\u001b[0m\u001b[0;34m\u001b[0m\u001b[0m\n\u001b[1;32m     62\u001b[0m         \u001b[0;32mtry\u001b[0m\u001b[0;34m:\u001b[0m\u001b[0;34m\u001b[0m\u001b[0m\n\u001b[0;32m---> 63\u001b[0;31m             \u001b[0;32mreturn\u001b[0m \u001b[0mf\u001b[0m\u001b[0;34m(\u001b[0m\u001b[0;34m*\u001b[0m\u001b[0ma\u001b[0m\u001b[0;34m,\u001b[0m \u001b[0;34m**\u001b[0m\u001b[0mkw\u001b[0m\u001b[0;34m)\u001b[0m\u001b[0;34m\u001b[0m\u001b[0m\n\u001b[0m\u001b[1;32m     64\u001b[0m         \u001b[0;32mexcept\u001b[0m \u001b[0mpy4j\u001b[0m\u001b[0;34m.\u001b[0m\u001b[0mprotocol\u001b[0m\u001b[0;34m.\u001b[0m\u001b[0mPy4JJavaError\u001b[0m \u001b[0;32mas\u001b[0m \u001b[0me\u001b[0m\u001b[0;34m:\u001b[0m\u001b[0;34m\u001b[0m\u001b[0m\n\u001b[1;32m     65\u001b[0m             \u001b[0ms\u001b[0m \u001b[0;34m=\u001b[0m \u001b[0me\u001b[0m\u001b[0;34m.\u001b[0m\u001b[0mjava_exception\u001b[0m\u001b[0;34m.\u001b[0m\u001b[0mtoString\u001b[0m\u001b[0;34m(\u001b[0m\u001b[0;34m)\u001b[0m\u001b[0;34m\u001b[0m\u001b[0m\n",
      "\u001b[0;32m/home/akash/spark-2.3.2-bin-hadoop2.7/python/lib/py4j-0.10.7-src.zip/py4j/protocol.py\u001b[0m in \u001b[0;36mget_return_value\u001b[0;34m(answer, gateway_client, target_id, name)\u001b[0m\n\u001b[1;32m    326\u001b[0m                 raise Py4JJavaError(\n\u001b[1;32m    327\u001b[0m                     \u001b[0;34m\"An error occurred while calling {0}{1}{2}.\\n\"\u001b[0m\u001b[0;34m.\u001b[0m\u001b[0;34m\u001b[0m\u001b[0m\n\u001b[0;32m--> 328\u001b[0;31m                     format(target_id, \".\", name), value)\n\u001b[0m\u001b[1;32m    329\u001b[0m             \u001b[0;32melse\u001b[0m\u001b[0;34m:\u001b[0m\u001b[0;34m\u001b[0m\u001b[0m\n\u001b[1;32m    330\u001b[0m                 raise Py4JError(\n",
      "\u001b[0;31mPy4JJavaError\u001b[0m: An error occurred while calling o36.load.\n: org.apache.hadoop.mapred.InvalidInputException: Input path does not exist: file:/home/akash/btpPhase_I/cvmodel.pkl/metadata\n\tat org.apache.hadoop.mapred.FileInputFormat.singleThreadedListStatus(FileInputFormat.java:287)\n\tat org.apache.hadoop.mapred.FileInputFormat.listStatus(FileInputFormat.java:229)\n\tat org.apache.hadoop.mapred.FileInputFormat.getSplits(FileInputFormat.java:315)\n\tat org.apache.spark.rdd.HadoopRDD.getPartitions(HadoopRDD.scala:200)\n\tat org.apache.spark.rdd.RDD$$anonfun$partitions$2.apply(RDD.scala:253)\n\tat org.apache.spark.rdd.RDD$$anonfun$partitions$2.apply(RDD.scala:251)\n\tat scala.Option.getOrElse(Option.scala:121)\n\tat org.apache.spark.rdd.RDD.partitions(RDD.scala:251)\n\tat org.apache.spark.rdd.MapPartitionsRDD.getPartitions(MapPartitionsRDD.scala:46)\n\tat org.apache.spark.rdd.RDD$$anonfun$partitions$2.apply(RDD.scala:253)\n\tat org.apache.spark.rdd.RDD$$anonfun$partitions$2.apply(RDD.scala:251)\n\tat scala.Option.getOrElse(Option.scala:121)\n\tat org.apache.spark.rdd.RDD.partitions(RDD.scala:251)\n\tat org.apache.spark.rdd.RDD$$anonfun$take$1.apply(RDD.scala:1343)\n\tat org.apache.spark.rdd.RDDOperationScope$.withScope(RDDOperationScope.scala:151)\n\tat org.apache.spark.rdd.RDDOperationScope$.withScope(RDDOperationScope.scala:112)\n\tat org.apache.spark.rdd.RDD.withScope(RDD.scala:363)\n\tat org.apache.spark.rdd.RDD.take(RDD.scala:1337)\n\tat org.apache.spark.rdd.RDD$$anonfun$first$1.apply(RDD.scala:1378)\n\tat org.apache.spark.rdd.RDDOperationScope$.withScope(RDDOperationScope.scala:151)\n\tat org.apache.spark.rdd.RDDOperationScope$.withScope(RDDOperationScope.scala:112)\n\tat org.apache.spark.rdd.RDD.withScope(RDD.scala:363)\n\tat org.apache.spark.rdd.RDD.first(RDD.scala:1377)\n\tat org.apache.spark.ml.util.DefaultParamsReader$.loadMetadata(ReadWrite.scala:387)\n\tat org.apache.spark.ml.tuning.ValidatorParams$.loadImpl(ValidatorParams.scala:180)\n\tat org.apache.spark.ml.tuning.CrossValidatorModel$CrossValidatorModelReader.load(CrossValidator.scala:388)\n\tat sun.reflect.NativeMethodAccessorImpl.invoke0(Native Method)\n\tat sun.reflect.NativeMethodAccessorImpl.invoke(NativeMethodAccessorImpl.java:62)\n\tat sun.reflect.DelegatingMethodAccessorImpl.invoke(DelegatingMethodAccessorImpl.java:43)\n\tat java.lang.reflect.Method.invoke(Method.java:498)\n\tat py4j.reflection.MethodInvoker.invoke(MethodInvoker.java:244)\n\tat py4j.reflection.ReflectionEngine.invoke(ReflectionEngine.java:357)\n\tat py4j.Gateway.invoke(Gateway.java:282)\n\tat py4j.commands.AbstractCommand.invokeMethod(AbstractCommand.java:132)\n\tat py4j.commands.CallCommand.execute(CallCommand.java:79)\n\tat py4j.GatewayConnection.run(GatewayConnection.java:238)\n\tat java.lang.Thread.run(Thread.java:748)\n"
     ]
    }
   ],
   "source": [
    "from pyspark.ml.tuning import CrossValidatorModel\n",
    "\n",
    "pickleRdd = CrossValidatorModel.load(\"/home/akash/btpPhase_I/cvmodel.pkl\")\n",
    "# cvmodel = spark.createDataFrame(pickleRdd)"
   ]
  },
  {
   "cell_type": "code",
   "execution_count": 20,
   "metadata": {},
   "outputs": [
    {
     "ename": "Py4JJavaError",
     "evalue": "An error occurred while calling z:org.apache.spark.api.python.PythonRDD.runJob.\n: org.apache.spark.SparkException: Job aborted due to stage failure: Task 0 in stage 24.0 failed 4 times, most recent failure: Lost task 0.3 in stage 24.0 (TID 88, 192.168.0.106, executor 0): java.io.IOException: file:/home/akash/btpPhase_I/cvmodel.pkl not a SequenceFile\n\tat org.apache.hadoop.io.SequenceFile$Reader.init(SequenceFile.java:1920)\n\tat org.apache.hadoop.io.SequenceFile$Reader.initialize(SequenceFile.java:1880)\n\tat org.apache.hadoop.io.SequenceFile$Reader.<init>(SequenceFile.java:1829)\n\tat org.apache.hadoop.io.SequenceFile$Reader.<init>(SequenceFile.java:1843)\n\tat org.apache.hadoop.mapred.SequenceFileRecordReader.<init>(SequenceFileRecordReader.java:49)\n\tat org.apache.hadoop.mapred.SequenceFileInputFormat.getRecordReader(SequenceFileInputFormat.java:64)\n\tat org.apache.spark.rdd.HadoopRDD$$anon$1.liftedTree1$1(HadoopRDD.scala:257)\n\tat org.apache.spark.rdd.HadoopRDD$$anon$1.<init>(HadoopRDD.scala:256)\n\tat org.apache.spark.rdd.HadoopRDD.compute(HadoopRDD.scala:214)\n\tat org.apache.spark.rdd.HadoopRDD.compute(HadoopRDD.scala:94)\n\tat org.apache.spark.rdd.RDD.computeOrReadCheckpoint(RDD.scala:324)\n\tat org.apache.spark.rdd.RDD.iterator(RDD.scala:288)\n\tat org.apache.spark.rdd.MapPartitionsRDD.compute(MapPartitionsRDD.scala:49)\n\tat org.apache.spark.rdd.RDD.computeOrReadCheckpoint(RDD.scala:324)\n\tat org.apache.spark.rdd.RDD.iterator(RDD.scala:288)\n\tat org.apache.spark.api.python.PythonRDD.compute(PythonRDD.scala:67)\n\tat org.apache.spark.rdd.RDD.computeOrReadCheckpoint(RDD.scala:324)\n\tat org.apache.spark.rdd.RDD.iterator(RDD.scala:288)\n\tat org.apache.spark.scheduler.ResultTask.runTask(ResultTask.scala:87)\n\tat org.apache.spark.scheduler.Task.run(Task.scala:109)\n\tat org.apache.spark.executor.Executor$TaskRunner.run(Executor.scala:345)\n\tat java.util.concurrent.ThreadPoolExecutor.runWorker(ThreadPoolExecutor.java:1149)\n\tat java.util.concurrent.ThreadPoolExecutor$Worker.run(ThreadPoolExecutor.java:624)\n\tat java.lang.Thread.run(Thread.java:748)\n\nDriver stacktrace:\n\tat org.apache.spark.scheduler.DAGScheduler.org$apache$spark$scheduler$DAGScheduler$$failJobAndIndependentStages(DAGScheduler.scala:1651)\n\tat org.apache.spark.scheduler.DAGScheduler$$anonfun$abortStage$1.apply(DAGScheduler.scala:1639)\n\tat org.apache.spark.scheduler.DAGScheduler$$anonfun$abortStage$1.apply(DAGScheduler.scala:1638)\n\tat scala.collection.mutable.ResizableArray$class.foreach(ResizableArray.scala:59)\n\tat scala.collection.mutable.ArrayBuffer.foreach(ArrayBuffer.scala:48)\n\tat org.apache.spark.scheduler.DAGScheduler.abortStage(DAGScheduler.scala:1638)\n\tat org.apache.spark.scheduler.DAGScheduler$$anonfun$handleTaskSetFailed$1.apply(DAGScheduler.scala:831)\n\tat org.apache.spark.scheduler.DAGScheduler$$anonfun$handleTaskSetFailed$1.apply(DAGScheduler.scala:831)\n\tat scala.Option.foreach(Option.scala:257)\n\tat org.apache.spark.scheduler.DAGScheduler.handleTaskSetFailed(DAGScheduler.scala:831)\n\tat org.apache.spark.scheduler.DAGSchedulerEventProcessLoop.doOnReceive(DAGScheduler.scala:1872)\n\tat org.apache.spark.scheduler.DAGSchedulerEventProcessLoop.onReceive(DAGScheduler.scala:1821)\n\tat org.apache.spark.scheduler.DAGSchedulerEventProcessLoop.onReceive(DAGScheduler.scala:1810)\n\tat org.apache.spark.util.EventLoop$$anon$1.run(EventLoop.scala:48)\n\tat org.apache.spark.scheduler.DAGScheduler.runJob(DAGScheduler.scala:642)\n\tat org.apache.spark.SparkContext.runJob(SparkContext.scala:2034)\n\tat org.apache.spark.SparkContext.runJob(SparkContext.scala:2055)\n\tat org.apache.spark.SparkContext.runJob(SparkContext.scala:2074)\n\tat org.apache.spark.api.python.PythonRDD$.runJob(PythonRDD.scala:152)\n\tat org.apache.spark.api.python.PythonRDD.runJob(PythonRDD.scala)\n\tat sun.reflect.NativeMethodAccessorImpl.invoke0(Native Method)\n\tat sun.reflect.NativeMethodAccessorImpl.invoke(NativeMethodAccessorImpl.java:62)\n\tat sun.reflect.DelegatingMethodAccessorImpl.invoke(DelegatingMethodAccessorImpl.java:43)\n\tat java.lang.reflect.Method.invoke(Method.java:498)\n\tat py4j.reflection.MethodInvoker.invoke(MethodInvoker.java:244)\n\tat py4j.reflection.ReflectionEngine.invoke(ReflectionEngine.java:357)\n\tat py4j.Gateway.invoke(Gateway.java:282)\n\tat py4j.commands.AbstractCommand.invokeMethod(AbstractCommand.java:132)\n\tat py4j.commands.CallCommand.execute(CallCommand.java:79)\n\tat py4j.GatewayConnection.run(GatewayConnection.java:238)\n\tat java.lang.Thread.run(Thread.java:748)\nCaused by: java.io.IOException: file:/home/akash/btpPhase_I/cvmodel.pkl not a SequenceFile\n\tat org.apache.hadoop.io.SequenceFile$Reader.init(SequenceFile.java:1920)\n\tat org.apache.hadoop.io.SequenceFile$Reader.initialize(SequenceFile.java:1880)\n\tat org.apache.hadoop.io.SequenceFile$Reader.<init>(SequenceFile.java:1829)\n\tat org.apache.hadoop.io.SequenceFile$Reader.<init>(SequenceFile.java:1843)\n\tat org.apache.hadoop.mapred.SequenceFileRecordReader.<init>(SequenceFileRecordReader.java:49)\n\tat org.apache.hadoop.mapred.SequenceFileInputFormat.getRecordReader(SequenceFileInputFormat.java:64)\n\tat org.apache.spark.rdd.HadoopRDD$$anon$1.liftedTree1$1(HadoopRDD.scala:257)\n\tat org.apache.spark.rdd.HadoopRDD$$anon$1.<init>(HadoopRDD.scala:256)\n\tat org.apache.spark.rdd.HadoopRDD.compute(HadoopRDD.scala:214)\n\tat org.apache.spark.rdd.HadoopRDD.compute(HadoopRDD.scala:94)\n\tat org.apache.spark.rdd.RDD.computeOrReadCheckpoint(RDD.scala:324)\n\tat org.apache.spark.rdd.RDD.iterator(RDD.scala:288)\n\tat org.apache.spark.rdd.MapPartitionsRDD.compute(MapPartitionsRDD.scala:49)\n\tat org.apache.spark.rdd.RDD.computeOrReadCheckpoint(RDD.scala:324)\n\tat org.apache.spark.rdd.RDD.iterator(RDD.scala:288)\n\tat org.apache.spark.api.python.PythonRDD.compute(PythonRDD.scala:67)\n\tat org.apache.spark.rdd.RDD.computeOrReadCheckpoint(RDD.scala:324)\n\tat org.apache.spark.rdd.RDD.iterator(RDD.scala:288)\n\tat org.apache.spark.scheduler.ResultTask.runTask(ResultTask.scala:87)\n\tat org.apache.spark.scheduler.Task.run(Task.scala:109)\n\tat org.apache.spark.executor.Executor$TaskRunner.run(Executor.scala:345)\n\tat java.util.concurrent.ThreadPoolExecutor.runWorker(ThreadPoolExecutor.java:1149)\n\tat java.util.concurrent.ThreadPoolExecutor$Worker.run(ThreadPoolExecutor.java:624)\n\t... 1 more\n",
     "output_type": "error",
     "traceback": [
      "\u001b[0;31m---------------------------------------------------------------------------\u001b[0m",
      "\u001b[0;31mPy4JJavaError\u001b[0m                             Traceback (most recent call last)",
      "\u001b[0;32m<ipython-input-20-a222a202767c>\u001b[0m in \u001b[0;36m<module>\u001b[0;34m()\u001b[0m\n\u001b[0;32m----> 1\u001b[0;31m \u001b[0mcvmodel\u001b[0m \u001b[0;34m=\u001b[0m \u001b[0mpickleRdd\u001b[0m\u001b[0;34m.\u001b[0m\u001b[0mtoDF\u001b[0m\u001b[0;34m(\u001b[0m\u001b[0;34m)\u001b[0m\u001b[0;34m\u001b[0m\u001b[0m\n\u001b[0m",
      "\u001b[0;32m/home/akash/spark-2.3.2-bin-hadoop2.7/python/pyspark/sql/session.pyc\u001b[0m in \u001b[0;36mtoDF\u001b[0;34m(self, schema, sampleRatio)\u001b[0m\n\u001b[1;32m     56\u001b[0m         \u001b[0;34m[\u001b[0m\u001b[0mRow\u001b[0m\u001b[0;34m(\u001b[0m\u001b[0mname\u001b[0m\u001b[0;34m=\u001b[0m\u001b[0;34mu'Alice'\u001b[0m\u001b[0;34m,\u001b[0m \u001b[0mage\u001b[0m\u001b[0;34m=\u001b[0m\u001b[0;36m1\u001b[0m\u001b[0;34m)\u001b[0m\u001b[0;34m]\u001b[0m\u001b[0;34m\u001b[0m\u001b[0m\n\u001b[1;32m     57\u001b[0m         \"\"\"\n\u001b[0;32m---> 58\u001b[0;31m         \u001b[0;32mreturn\u001b[0m \u001b[0msparkSession\u001b[0m\u001b[0;34m.\u001b[0m\u001b[0mcreateDataFrame\u001b[0m\u001b[0;34m(\u001b[0m\u001b[0mself\u001b[0m\u001b[0;34m,\u001b[0m \u001b[0mschema\u001b[0m\u001b[0;34m,\u001b[0m \u001b[0msampleRatio\u001b[0m\u001b[0;34m)\u001b[0m\u001b[0;34m\u001b[0m\u001b[0m\n\u001b[0m\u001b[1;32m     59\u001b[0m \u001b[0;34m\u001b[0m\u001b[0m\n\u001b[1;32m     60\u001b[0m     \u001b[0mRDD\u001b[0m\u001b[0;34m.\u001b[0m\u001b[0mtoDF\u001b[0m \u001b[0;34m=\u001b[0m \u001b[0mtoDF\u001b[0m\u001b[0;34m\u001b[0m\u001b[0m\n",
      "\u001b[0;32m/home/akash/spark-2.3.2-bin-hadoop2.7/python/pyspark/sql/session.pyc\u001b[0m in \u001b[0;36mcreateDataFrame\u001b[0;34m(self, data, schema, samplingRatio, verifySchema)\u001b[0m\n\u001b[1;32m    687\u001b[0m \u001b[0;34m\u001b[0m\u001b[0m\n\u001b[1;32m    688\u001b[0m         \u001b[0;32mif\u001b[0m \u001b[0misinstance\u001b[0m\u001b[0;34m(\u001b[0m\u001b[0mdata\u001b[0m\u001b[0;34m,\u001b[0m \u001b[0mRDD\u001b[0m\u001b[0;34m)\u001b[0m\u001b[0;34m:\u001b[0m\u001b[0;34m\u001b[0m\u001b[0m\n\u001b[0;32m--> 689\u001b[0;31m             \u001b[0mrdd\u001b[0m\u001b[0;34m,\u001b[0m \u001b[0mschema\u001b[0m \u001b[0;34m=\u001b[0m \u001b[0mself\u001b[0m\u001b[0;34m.\u001b[0m\u001b[0m_createFromRDD\u001b[0m\u001b[0;34m(\u001b[0m\u001b[0mdata\u001b[0m\u001b[0;34m.\u001b[0m\u001b[0mmap\u001b[0m\u001b[0;34m(\u001b[0m\u001b[0mprepare\u001b[0m\u001b[0;34m)\u001b[0m\u001b[0;34m,\u001b[0m \u001b[0mschema\u001b[0m\u001b[0;34m,\u001b[0m \u001b[0msamplingRatio\u001b[0m\u001b[0;34m)\u001b[0m\u001b[0;34m\u001b[0m\u001b[0m\n\u001b[0m\u001b[1;32m    690\u001b[0m         \u001b[0;32melse\u001b[0m\u001b[0;34m:\u001b[0m\u001b[0;34m\u001b[0m\u001b[0m\n\u001b[1;32m    691\u001b[0m             \u001b[0mrdd\u001b[0m\u001b[0;34m,\u001b[0m \u001b[0mschema\u001b[0m \u001b[0;34m=\u001b[0m \u001b[0mself\u001b[0m\u001b[0;34m.\u001b[0m\u001b[0m_createFromLocal\u001b[0m\u001b[0;34m(\u001b[0m\u001b[0mmap\u001b[0m\u001b[0;34m(\u001b[0m\u001b[0mprepare\u001b[0m\u001b[0;34m,\u001b[0m \u001b[0mdata\u001b[0m\u001b[0;34m)\u001b[0m\u001b[0;34m,\u001b[0m \u001b[0mschema\u001b[0m\u001b[0;34m)\u001b[0m\u001b[0;34m\u001b[0m\u001b[0m\n",
      "\u001b[0;32m/home/akash/spark-2.3.2-bin-hadoop2.7/python/pyspark/sql/session.pyc\u001b[0m in \u001b[0;36m_createFromRDD\u001b[0;34m(self, rdd, schema, samplingRatio)\u001b[0m\n\u001b[1;32m    382\u001b[0m         \"\"\"\n\u001b[1;32m    383\u001b[0m         \u001b[0;32mif\u001b[0m \u001b[0mschema\u001b[0m \u001b[0;32mis\u001b[0m \u001b[0mNone\u001b[0m \u001b[0;32mor\u001b[0m \u001b[0misinstance\u001b[0m\u001b[0;34m(\u001b[0m\u001b[0mschema\u001b[0m\u001b[0;34m,\u001b[0m \u001b[0;34m(\u001b[0m\u001b[0mlist\u001b[0m\u001b[0;34m,\u001b[0m \u001b[0mtuple\u001b[0m\u001b[0;34m)\u001b[0m\u001b[0;34m)\u001b[0m\u001b[0;34m:\u001b[0m\u001b[0;34m\u001b[0m\u001b[0m\n\u001b[0;32m--> 384\u001b[0;31m             \u001b[0mstruct\u001b[0m \u001b[0;34m=\u001b[0m \u001b[0mself\u001b[0m\u001b[0;34m.\u001b[0m\u001b[0m_inferSchema\u001b[0m\u001b[0;34m(\u001b[0m\u001b[0mrdd\u001b[0m\u001b[0;34m,\u001b[0m \u001b[0msamplingRatio\u001b[0m\u001b[0;34m,\u001b[0m \u001b[0mnames\u001b[0m\u001b[0;34m=\u001b[0m\u001b[0mschema\u001b[0m\u001b[0;34m)\u001b[0m\u001b[0;34m\u001b[0m\u001b[0m\n\u001b[0m\u001b[1;32m    385\u001b[0m             \u001b[0mconverter\u001b[0m \u001b[0;34m=\u001b[0m \u001b[0m_create_converter\u001b[0m\u001b[0;34m(\u001b[0m\u001b[0mstruct\u001b[0m\u001b[0;34m)\u001b[0m\u001b[0;34m\u001b[0m\u001b[0m\n\u001b[1;32m    386\u001b[0m             \u001b[0mrdd\u001b[0m \u001b[0;34m=\u001b[0m \u001b[0mrdd\u001b[0m\u001b[0;34m.\u001b[0m\u001b[0mmap\u001b[0m\u001b[0;34m(\u001b[0m\u001b[0mconverter\u001b[0m\u001b[0;34m)\u001b[0m\u001b[0;34m\u001b[0m\u001b[0m\n",
      "\u001b[0;32m/home/akash/spark-2.3.2-bin-hadoop2.7/python/pyspark/sql/session.pyc\u001b[0m in \u001b[0;36m_inferSchema\u001b[0;34m(self, rdd, samplingRatio, names)\u001b[0m\n\u001b[1;32m    353\u001b[0m         \u001b[0;34m:\u001b[0m\u001b[0;32mreturn\u001b[0m\u001b[0;34m:\u001b[0m \u001b[0;34m:\u001b[0m\u001b[0;32mclass\u001b[0m\u001b[0;34m:\u001b[0m\u001b[0;34m`\u001b[0m\u001b[0mpyspark\u001b[0m\u001b[0;34m.\u001b[0m\u001b[0msql\u001b[0m\u001b[0;34m.\u001b[0m\u001b[0mtypes\u001b[0m\u001b[0;34m.\u001b[0m\u001b[0mStructType\u001b[0m\u001b[0;34m`\u001b[0m\u001b[0;34m\u001b[0m\u001b[0m\n\u001b[1;32m    354\u001b[0m         \"\"\"\n\u001b[0;32m--> 355\u001b[0;31m         \u001b[0mfirst\u001b[0m \u001b[0;34m=\u001b[0m \u001b[0mrdd\u001b[0m\u001b[0;34m.\u001b[0m\u001b[0mfirst\u001b[0m\u001b[0;34m(\u001b[0m\u001b[0;34m)\u001b[0m\u001b[0;34m\u001b[0m\u001b[0m\n\u001b[0m\u001b[1;32m    356\u001b[0m         \u001b[0;32mif\u001b[0m \u001b[0;32mnot\u001b[0m \u001b[0mfirst\u001b[0m\u001b[0;34m:\u001b[0m\u001b[0;34m\u001b[0m\u001b[0m\n\u001b[1;32m    357\u001b[0m             raise ValueError(\"The first row in RDD is empty, \"\n",
      "\u001b[0;32m/home/akash/spark-2.3.2-bin-hadoop2.7/python/pyspark/rdd.pyc\u001b[0m in \u001b[0;36mfirst\u001b[0;34m(self)\u001b[0m\n\u001b[1;32m   1374\u001b[0m         \u001b[0mValueError\u001b[0m\u001b[0;34m:\u001b[0m \u001b[0mRDD\u001b[0m \u001b[0;32mis\u001b[0m \u001b[0mempty\u001b[0m\u001b[0;34m\u001b[0m\u001b[0m\n\u001b[1;32m   1375\u001b[0m         \"\"\"\n\u001b[0;32m-> 1376\u001b[0;31m         \u001b[0mrs\u001b[0m \u001b[0;34m=\u001b[0m \u001b[0mself\u001b[0m\u001b[0;34m.\u001b[0m\u001b[0mtake\u001b[0m\u001b[0;34m(\u001b[0m\u001b[0;36m1\u001b[0m\u001b[0;34m)\u001b[0m\u001b[0;34m\u001b[0m\u001b[0m\n\u001b[0m\u001b[1;32m   1377\u001b[0m         \u001b[0;32mif\u001b[0m \u001b[0mrs\u001b[0m\u001b[0;34m:\u001b[0m\u001b[0;34m\u001b[0m\u001b[0m\n\u001b[1;32m   1378\u001b[0m             \u001b[0;32mreturn\u001b[0m \u001b[0mrs\u001b[0m\u001b[0;34m[\u001b[0m\u001b[0;36m0\u001b[0m\u001b[0;34m]\u001b[0m\u001b[0;34m\u001b[0m\u001b[0m\n",
      "\u001b[0;32m/home/akash/spark-2.3.2-bin-hadoop2.7/python/pyspark/rdd.pyc\u001b[0m in \u001b[0;36mtake\u001b[0;34m(self, num)\u001b[0m\n\u001b[1;32m   1356\u001b[0m \u001b[0;34m\u001b[0m\u001b[0m\n\u001b[1;32m   1357\u001b[0m             \u001b[0mp\u001b[0m \u001b[0;34m=\u001b[0m \u001b[0mrange\u001b[0m\u001b[0;34m(\u001b[0m\u001b[0mpartsScanned\u001b[0m\u001b[0;34m,\u001b[0m \u001b[0mmin\u001b[0m\u001b[0;34m(\u001b[0m\u001b[0mpartsScanned\u001b[0m \u001b[0;34m+\u001b[0m \u001b[0mnumPartsToTry\u001b[0m\u001b[0;34m,\u001b[0m \u001b[0mtotalParts\u001b[0m\u001b[0;34m)\u001b[0m\u001b[0;34m)\u001b[0m\u001b[0;34m\u001b[0m\u001b[0m\n\u001b[0;32m-> 1358\u001b[0;31m             \u001b[0mres\u001b[0m \u001b[0;34m=\u001b[0m \u001b[0mself\u001b[0m\u001b[0;34m.\u001b[0m\u001b[0mcontext\u001b[0m\u001b[0;34m.\u001b[0m\u001b[0mrunJob\u001b[0m\u001b[0;34m(\u001b[0m\u001b[0mself\u001b[0m\u001b[0;34m,\u001b[0m \u001b[0mtakeUpToNumLeft\u001b[0m\u001b[0;34m,\u001b[0m \u001b[0mp\u001b[0m\u001b[0;34m)\u001b[0m\u001b[0;34m\u001b[0m\u001b[0m\n\u001b[0m\u001b[1;32m   1359\u001b[0m \u001b[0;34m\u001b[0m\u001b[0m\n\u001b[1;32m   1360\u001b[0m             \u001b[0mitems\u001b[0m \u001b[0;34m+=\u001b[0m \u001b[0mres\u001b[0m\u001b[0;34m\u001b[0m\u001b[0m\n",
      "\u001b[0;32m/home/akash/spark-2.3.2-bin-hadoop2.7/python/pyspark/context.pyc\u001b[0m in \u001b[0;36mrunJob\u001b[0;34m(self, rdd, partitionFunc, partitions, allowLocal)\u001b[0m\n\u001b[1;32m   1031\u001b[0m         \u001b[0;31m# SparkContext#runJob.\u001b[0m\u001b[0;34m\u001b[0m\u001b[0;34m\u001b[0m\u001b[0m\n\u001b[1;32m   1032\u001b[0m         \u001b[0mmappedRDD\u001b[0m \u001b[0;34m=\u001b[0m \u001b[0mrdd\u001b[0m\u001b[0;34m.\u001b[0m\u001b[0mmapPartitions\u001b[0m\u001b[0;34m(\u001b[0m\u001b[0mpartitionFunc\u001b[0m\u001b[0;34m)\u001b[0m\u001b[0;34m\u001b[0m\u001b[0m\n\u001b[0;32m-> 1033\u001b[0;31m         \u001b[0msock_info\u001b[0m \u001b[0;34m=\u001b[0m \u001b[0mself\u001b[0m\u001b[0;34m.\u001b[0m\u001b[0m_jvm\u001b[0m\u001b[0;34m.\u001b[0m\u001b[0mPythonRDD\u001b[0m\u001b[0;34m.\u001b[0m\u001b[0mrunJob\u001b[0m\u001b[0;34m(\u001b[0m\u001b[0mself\u001b[0m\u001b[0;34m.\u001b[0m\u001b[0m_jsc\u001b[0m\u001b[0;34m.\u001b[0m\u001b[0msc\u001b[0m\u001b[0;34m(\u001b[0m\u001b[0;34m)\u001b[0m\u001b[0;34m,\u001b[0m \u001b[0mmappedRDD\u001b[0m\u001b[0;34m.\u001b[0m\u001b[0m_jrdd\u001b[0m\u001b[0;34m,\u001b[0m \u001b[0mpartitions\u001b[0m\u001b[0;34m)\u001b[0m\u001b[0;34m\u001b[0m\u001b[0m\n\u001b[0m\u001b[1;32m   1034\u001b[0m         \u001b[0;32mreturn\u001b[0m \u001b[0mlist\u001b[0m\u001b[0;34m(\u001b[0m\u001b[0m_load_from_socket\u001b[0m\u001b[0;34m(\u001b[0m\u001b[0msock_info\u001b[0m\u001b[0;34m,\u001b[0m \u001b[0mmappedRDD\u001b[0m\u001b[0;34m.\u001b[0m\u001b[0m_jrdd_deserializer\u001b[0m\u001b[0;34m)\u001b[0m\u001b[0;34m)\u001b[0m\u001b[0;34m\u001b[0m\u001b[0m\n\u001b[1;32m   1035\u001b[0m \u001b[0;34m\u001b[0m\u001b[0m\n",
      "\u001b[0;32m/home/akash/spark-2.3.2-bin-hadoop2.7/python/lib/py4j-0.10.7-src.zip/py4j/java_gateway.py\u001b[0m in \u001b[0;36m__call__\u001b[0;34m(self, *args)\u001b[0m\n\u001b[1;32m   1255\u001b[0m         \u001b[0manswer\u001b[0m \u001b[0;34m=\u001b[0m \u001b[0mself\u001b[0m\u001b[0;34m.\u001b[0m\u001b[0mgateway_client\u001b[0m\u001b[0;34m.\u001b[0m\u001b[0msend_command\u001b[0m\u001b[0;34m(\u001b[0m\u001b[0mcommand\u001b[0m\u001b[0;34m)\u001b[0m\u001b[0;34m\u001b[0m\u001b[0m\n\u001b[1;32m   1256\u001b[0m         return_value = get_return_value(\n\u001b[0;32m-> 1257\u001b[0;31m             answer, self.gateway_client, self.target_id, self.name)\n\u001b[0m\u001b[1;32m   1258\u001b[0m \u001b[0;34m\u001b[0m\u001b[0m\n\u001b[1;32m   1259\u001b[0m         \u001b[0;32mfor\u001b[0m \u001b[0mtemp_arg\u001b[0m \u001b[0;32min\u001b[0m \u001b[0mtemp_args\u001b[0m\u001b[0;34m:\u001b[0m\u001b[0;34m\u001b[0m\u001b[0m\n",
      "\u001b[0;32m/home/akash/spark-2.3.2-bin-hadoop2.7/python/pyspark/sql/utils.pyc\u001b[0m in \u001b[0;36mdeco\u001b[0;34m(*a, **kw)\u001b[0m\n\u001b[1;32m     61\u001b[0m     \u001b[0;32mdef\u001b[0m \u001b[0mdeco\u001b[0m\u001b[0;34m(\u001b[0m\u001b[0;34m*\u001b[0m\u001b[0ma\u001b[0m\u001b[0;34m,\u001b[0m \u001b[0;34m**\u001b[0m\u001b[0mkw\u001b[0m\u001b[0;34m)\u001b[0m\u001b[0;34m:\u001b[0m\u001b[0;34m\u001b[0m\u001b[0m\n\u001b[1;32m     62\u001b[0m         \u001b[0;32mtry\u001b[0m\u001b[0;34m:\u001b[0m\u001b[0;34m\u001b[0m\u001b[0m\n\u001b[0;32m---> 63\u001b[0;31m             \u001b[0;32mreturn\u001b[0m \u001b[0mf\u001b[0m\u001b[0;34m(\u001b[0m\u001b[0;34m*\u001b[0m\u001b[0ma\u001b[0m\u001b[0;34m,\u001b[0m \u001b[0;34m**\u001b[0m\u001b[0mkw\u001b[0m\u001b[0;34m)\u001b[0m\u001b[0;34m\u001b[0m\u001b[0m\n\u001b[0m\u001b[1;32m     64\u001b[0m         \u001b[0;32mexcept\u001b[0m \u001b[0mpy4j\u001b[0m\u001b[0;34m.\u001b[0m\u001b[0mprotocol\u001b[0m\u001b[0;34m.\u001b[0m\u001b[0mPy4JJavaError\u001b[0m \u001b[0;32mas\u001b[0m \u001b[0me\u001b[0m\u001b[0;34m:\u001b[0m\u001b[0;34m\u001b[0m\u001b[0m\n\u001b[1;32m     65\u001b[0m             \u001b[0ms\u001b[0m \u001b[0;34m=\u001b[0m \u001b[0me\u001b[0m\u001b[0;34m.\u001b[0m\u001b[0mjava_exception\u001b[0m\u001b[0;34m.\u001b[0m\u001b[0mtoString\u001b[0m\u001b[0;34m(\u001b[0m\u001b[0;34m)\u001b[0m\u001b[0;34m\u001b[0m\u001b[0m\n",
      "\u001b[0;32m/home/akash/spark-2.3.2-bin-hadoop2.7/python/lib/py4j-0.10.7-src.zip/py4j/protocol.py\u001b[0m in \u001b[0;36mget_return_value\u001b[0;34m(answer, gateway_client, target_id, name)\u001b[0m\n\u001b[1;32m    326\u001b[0m                 raise Py4JJavaError(\n\u001b[1;32m    327\u001b[0m                     \u001b[0;34m\"An error occurred while calling {0}{1}{2}.\\n\"\u001b[0m\u001b[0;34m.\u001b[0m\u001b[0;34m\u001b[0m\u001b[0m\n\u001b[0;32m--> 328\u001b[0;31m                     format(target_id, \".\", name), value)\n\u001b[0m\u001b[1;32m    329\u001b[0m             \u001b[0;32melse\u001b[0m\u001b[0;34m:\u001b[0m\u001b[0;34m\u001b[0m\u001b[0m\n\u001b[1;32m    330\u001b[0m                 raise Py4JError(\n",
      "\u001b[0;31mPy4JJavaError\u001b[0m: An error occurred while calling z:org.apache.spark.api.python.PythonRDD.runJob.\n: org.apache.spark.SparkException: Job aborted due to stage failure: Task 0 in stage 24.0 failed 4 times, most recent failure: Lost task 0.3 in stage 24.0 (TID 88, 192.168.0.106, executor 0): java.io.IOException: file:/home/akash/btpPhase_I/cvmodel.pkl not a SequenceFile\n\tat org.apache.hadoop.io.SequenceFile$Reader.init(SequenceFile.java:1920)\n\tat org.apache.hadoop.io.SequenceFile$Reader.initialize(SequenceFile.java:1880)\n\tat org.apache.hadoop.io.SequenceFile$Reader.<init>(SequenceFile.java:1829)\n\tat org.apache.hadoop.io.SequenceFile$Reader.<init>(SequenceFile.java:1843)\n\tat org.apache.hadoop.mapred.SequenceFileRecordReader.<init>(SequenceFileRecordReader.java:49)\n\tat org.apache.hadoop.mapred.SequenceFileInputFormat.getRecordReader(SequenceFileInputFormat.java:64)\n\tat org.apache.spark.rdd.HadoopRDD$$anon$1.liftedTree1$1(HadoopRDD.scala:257)\n\tat org.apache.spark.rdd.HadoopRDD$$anon$1.<init>(HadoopRDD.scala:256)\n\tat org.apache.spark.rdd.HadoopRDD.compute(HadoopRDD.scala:214)\n\tat org.apache.spark.rdd.HadoopRDD.compute(HadoopRDD.scala:94)\n\tat org.apache.spark.rdd.RDD.computeOrReadCheckpoint(RDD.scala:324)\n\tat org.apache.spark.rdd.RDD.iterator(RDD.scala:288)\n\tat org.apache.spark.rdd.MapPartitionsRDD.compute(MapPartitionsRDD.scala:49)\n\tat org.apache.spark.rdd.RDD.computeOrReadCheckpoint(RDD.scala:324)\n\tat org.apache.spark.rdd.RDD.iterator(RDD.scala:288)\n\tat org.apache.spark.api.python.PythonRDD.compute(PythonRDD.scala:67)\n\tat org.apache.spark.rdd.RDD.computeOrReadCheckpoint(RDD.scala:324)\n\tat org.apache.spark.rdd.RDD.iterator(RDD.scala:288)\n\tat org.apache.spark.scheduler.ResultTask.runTask(ResultTask.scala:87)\n\tat org.apache.spark.scheduler.Task.run(Task.scala:109)\n\tat org.apache.spark.executor.Executor$TaskRunner.run(Executor.scala:345)\n\tat java.util.concurrent.ThreadPoolExecutor.runWorker(ThreadPoolExecutor.java:1149)\n\tat java.util.concurrent.ThreadPoolExecutor$Worker.run(ThreadPoolExecutor.java:624)\n\tat java.lang.Thread.run(Thread.java:748)\n\nDriver stacktrace:\n\tat org.apache.spark.scheduler.DAGScheduler.org$apache$spark$scheduler$DAGScheduler$$failJobAndIndependentStages(DAGScheduler.scala:1651)\n\tat org.apache.spark.scheduler.DAGScheduler$$anonfun$abortStage$1.apply(DAGScheduler.scala:1639)\n\tat org.apache.spark.scheduler.DAGScheduler$$anonfun$abortStage$1.apply(DAGScheduler.scala:1638)\n\tat scala.collection.mutable.ResizableArray$class.foreach(ResizableArray.scala:59)\n\tat scala.collection.mutable.ArrayBuffer.foreach(ArrayBuffer.scala:48)\n\tat org.apache.spark.scheduler.DAGScheduler.abortStage(DAGScheduler.scala:1638)\n\tat org.apache.spark.scheduler.DAGScheduler$$anonfun$handleTaskSetFailed$1.apply(DAGScheduler.scala:831)\n\tat org.apache.spark.scheduler.DAGScheduler$$anonfun$handleTaskSetFailed$1.apply(DAGScheduler.scala:831)\n\tat scala.Option.foreach(Option.scala:257)\n\tat org.apache.spark.scheduler.DAGScheduler.handleTaskSetFailed(DAGScheduler.scala:831)\n\tat org.apache.spark.scheduler.DAGSchedulerEventProcessLoop.doOnReceive(DAGScheduler.scala:1872)\n\tat org.apache.spark.scheduler.DAGSchedulerEventProcessLoop.onReceive(DAGScheduler.scala:1821)\n\tat org.apache.spark.scheduler.DAGSchedulerEventProcessLoop.onReceive(DAGScheduler.scala:1810)\n\tat org.apache.spark.util.EventLoop$$anon$1.run(EventLoop.scala:48)\n\tat org.apache.spark.scheduler.DAGScheduler.runJob(DAGScheduler.scala:642)\n\tat org.apache.spark.SparkContext.runJob(SparkContext.scala:2034)\n\tat org.apache.spark.SparkContext.runJob(SparkContext.scala:2055)\n\tat org.apache.spark.SparkContext.runJob(SparkContext.scala:2074)\n\tat org.apache.spark.api.python.PythonRDD$.runJob(PythonRDD.scala:152)\n\tat org.apache.spark.api.python.PythonRDD.runJob(PythonRDD.scala)\n\tat sun.reflect.NativeMethodAccessorImpl.invoke0(Native Method)\n\tat sun.reflect.NativeMethodAccessorImpl.invoke(NativeMethodAccessorImpl.java:62)\n\tat sun.reflect.DelegatingMethodAccessorImpl.invoke(DelegatingMethodAccessorImpl.java:43)\n\tat java.lang.reflect.Method.invoke(Method.java:498)\n\tat py4j.reflection.MethodInvoker.invoke(MethodInvoker.java:244)\n\tat py4j.reflection.ReflectionEngine.invoke(ReflectionEngine.java:357)\n\tat py4j.Gateway.invoke(Gateway.java:282)\n\tat py4j.commands.AbstractCommand.invokeMethod(AbstractCommand.java:132)\n\tat py4j.commands.CallCommand.execute(CallCommand.java:79)\n\tat py4j.GatewayConnection.run(GatewayConnection.java:238)\n\tat java.lang.Thread.run(Thread.java:748)\nCaused by: java.io.IOException: file:/home/akash/btpPhase_I/cvmodel.pkl not a SequenceFile\n\tat org.apache.hadoop.io.SequenceFile$Reader.init(SequenceFile.java:1920)\n\tat org.apache.hadoop.io.SequenceFile$Reader.initialize(SequenceFile.java:1880)\n\tat org.apache.hadoop.io.SequenceFile$Reader.<init>(SequenceFile.java:1829)\n\tat org.apache.hadoop.io.SequenceFile$Reader.<init>(SequenceFile.java:1843)\n\tat org.apache.hadoop.mapred.SequenceFileRecordReader.<init>(SequenceFileRecordReader.java:49)\n\tat org.apache.hadoop.mapred.SequenceFileInputFormat.getRecordReader(SequenceFileInputFormat.java:64)\n\tat org.apache.spark.rdd.HadoopRDD$$anon$1.liftedTree1$1(HadoopRDD.scala:257)\n\tat org.apache.spark.rdd.HadoopRDD$$anon$1.<init>(HadoopRDD.scala:256)\n\tat org.apache.spark.rdd.HadoopRDD.compute(HadoopRDD.scala:214)\n\tat org.apache.spark.rdd.HadoopRDD.compute(HadoopRDD.scala:94)\n\tat org.apache.spark.rdd.RDD.computeOrReadCheckpoint(RDD.scala:324)\n\tat org.apache.spark.rdd.RDD.iterator(RDD.scala:288)\n\tat org.apache.spark.rdd.MapPartitionsRDD.compute(MapPartitionsRDD.scala:49)\n\tat org.apache.spark.rdd.RDD.computeOrReadCheckpoint(RDD.scala:324)\n\tat org.apache.spark.rdd.RDD.iterator(RDD.scala:288)\n\tat org.apache.spark.api.python.PythonRDD.compute(PythonRDD.scala:67)\n\tat org.apache.spark.rdd.RDD.computeOrReadCheckpoint(RDD.scala:324)\n\tat org.apache.spark.rdd.RDD.iterator(RDD.scala:288)\n\tat org.apache.spark.scheduler.ResultTask.runTask(ResultTask.scala:87)\n\tat org.apache.spark.scheduler.Task.run(Task.scala:109)\n\tat org.apache.spark.executor.Executor$TaskRunner.run(Executor.scala:345)\n\tat java.util.concurrent.ThreadPoolExecutor.runWorker(ThreadPoolExecutor.java:1149)\n\tat java.util.concurrent.ThreadPoolExecutor$Worker.run(ThreadPoolExecutor.java:624)\n\t... 1 more\n"
     ]
    }
   ],
   "source": [
    "cvmodel = pickleRdd.toDF()"
   ]
  },
  {
   "cell_type": "code",
   "execution_count": 20,
   "metadata": {
    "scrolled": true
   },
   "outputs": [],
   "source": [
    "factors = dict()\n",
    "for i in cvmodel.iterrows():\n",
    "    factors[i[1][1]] = i[1][0]"
   ]
  },
  {
   "cell_type": "code",
   "execution_count": 21,
   "metadata": {},
   "outputs": [],
   "source": [
    "li = ['no_friends',\n",
    " 'review_count',\n",
    " 'useful',\n",
    " 'compliment_plain',\n",
    " 'compliment_cute',\n",
    " 'compliment_profile',\n",
    " 'funny',\n",
    " 'fans',\n",
    " 'compliment_writer',\n",
    " 'compliment_photos',\n",
    " 'average_stars',\n",
    " 'compliment_cool',\n",
    " 'compliment_list',\n",
    " 'compliment_note',\n",
    " 'compliment_funny',\n",
    " 'compliment_hot',\n",
    " 'cool']\n"
   ]
  },
  {
   "cell_type": "code",
   "execution_count": 22,
   "metadata": {},
   "outputs": [],
   "source": [
    "liz = [0.004900281675318903,\n",
    " 0.19523584889249468,\n",
    " 4.850913727451274e-05,\n",
    " 0.000947102619644252,\n",
    " 0.00028053256034565746,\n",
    " 5.090328470384911e-06,\n",
    " 0.00015910625271163924,\n",
    " 0.18431939708106015,\n",
    " 0.24248213456964055,\n",
    " 0.001833342533683222,\n",
    " 0.004347654498480881,\n",
    " 0.1869093886617428,\n",
    " 5.7437582221829165e-05,\n",
    " 0.03789086266007345,\n",
    " 0.07186578396885587,\n",
    " 0.049423136489631946,\n",
    " 0.019294390488349425]"
   ]
  },
  {
   "cell_type": "code",
   "execution_count": 26,
   "metadata": {
    "scrolled": true
   },
   "outputs": [
    {
     "data": {
      "text/plain": [
       "['no_friends',\n",
       " 'review_count',\n",
       " 'compliment_plain',\n",
       " 'compliment_profile',\n",
       " 'funny',\n",
       " 'fans',\n",
       " 'compliment_writer',\n",
       " 'compliment_cute',\n",
       " 'average_stars',\n",
       " 'compliment_cool',\n",
       " 'compliment_list',\n",
       " 'useful',\n",
       " 'cool',\n",
       " 'compliment_note',\n",
       " 'compliment_funny',\n",
       " 'compliment_hot',\n",
       " 'compliment_photos']"
      ]
     },
     "execution_count": 26,
     "metadata": {},
     "output_type": "execute_result"
    }
   ],
   "source": [
    "factors.keys()"
   ]
  },
  {
   "cell_type": "code",
   "execution_count": 27,
   "metadata": {},
   "outputs": [
    {
     "data": {
      "text/plain": [
       "[0.004900281675318903,\n",
       " 0.19523584889249468,\n",
       " 0.000947102619644252,\n",
       " 5.090328470384911e-06,\n",
       " 0.00015910625271163924,\n",
       " 0.18431939708106015,\n",
       " 0.24248213456964055,\n",
       " 0.00028053256034565746,\n",
       " 0.004347654498480881,\n",
       " 0.1869093886617428,\n",
       " 5.7437582221829165e-05,\n",
       " 4.850913727451274e-05,\n",
       " 0.019294390488349425,\n",
       " 0.03789086266007345,\n",
       " 0.07186578396885587,\n",
       " 0.049423136489631946,\n",
       " 0.001833342533683222]"
      ]
     },
     "execution_count": 27,
     "metadata": {},
     "output_type": "execute_result"
    }
   ],
   "source": [
    "facme = factors.values()\n",
    "facme"
   ]
  },
  {
   "cell_type": "code",
   "execution_count": 24,
   "metadata": {},
   "outputs": [],
   "source": [
    "factors = dict()\n",
    "for i in range(len(li)):\n",
    "        factors[li[i]]=liz[i]"
   ]
  },
  {
   "cell_type": "code",
   "execution_count": 28,
   "metadata": {},
   "outputs": [],
   "source": [
    "userDf = elite_df"
   ]
  },
  {
   "cell_type": "code",
   "execution_count": null,
   "metadata": {},
   "outputs": [],
   "source": []
  },
  {
   "cell_type": "code",
   "execution_count": 29,
   "metadata": {},
   "outputs": [],
   "source": [
    "from pyspark.sql.functions import *\n",
    "def custom_score(x):\n",
    "    s = 0\n",
    "    \n",
    "    for i in range(len(x)):\n",
    "            s = s + int(x[i])*facme[i]\n",
    "    return s    \n",
    "#     return float(sum(i[0] * i[1] for i in zip(x, factors.values())))\n",
    "\n",
    "customScore = F.udf(custom_score,FloatType())\n"
   ]
  },
  {
   "cell_type": "code",
   "execution_count": 30,
   "metadata": {},
   "outputs": [],
   "source": [
    "userDf = userDf.withColumn('score',customScore(array('no_friends',\n",
    " 'review_count',\n",
    " 'useful',\n",
    " 'compliment_plain',\n",
    " 'compliment_cute',\n",
    " 'compliment_profile',\n",
    " 'funny',\n",
    " 'fans',\n",
    " 'compliment_writer',\n",
    " 'compliment_photos',\n",
    " 'average_stars',\n",
    " 'compliment_cool',\n",
    " 'compliment_list',\n",
    " 'compliment_note',\n",
    " 'compliment_funny',\n",
    " 'compliment_hot',\n",
    " 'cool')))"
   ]
  },
  {
   "cell_type": "code",
   "execution_count": 31,
   "metadata": {},
   "outputs": [],
   "source": [
    "# userDf.write.save('/home/akash/btpPhase_I/userdfff.csv')\n",
    "# # df.write.csv('mycsv.csv')\n"
   ]
  },
  {
   "cell_type": "code",
   "execution_count": 177,
   "metadata": {},
   "outputs": [
    {
     "data": {
      "text/plain": [
       "[Row(score=0.20393115282058716), Row(score=0.41220995783805847)]"
      ]
     },
     "execution_count": 177,
     "metadata": {},
     "output_type": "execute_result"
    }
   ],
   "source": [
    "userDf.select('score').take(2)"
   ]
  },
  {
   "cell_type": "code",
   "execution_count": 33,
   "metadata": {},
   "outputs": [
    {
     "data": {
      "text/plain": [
       "[Row(average_stars=2.0, compliment_cool=0, compliment_cute=0, compliment_funny=0, compliment_hot=0, compliment_list=0, compliment_more=0, compliment_note=0, compliment_photos=0, compliment_plain=0, compliment_profile=0, compliment_writer=0, cool=0, elite=u'None', fans=0, friends=u'None', funny=0, name=u'Susan', review_count=1, useful=0, user_id=u'lzlZwIpuSWXEnNS91wxjHw', yelping_since=u'2015-09-28', no_friends=0, label=0, score=0.19535072147846222),\n",
       " Row(average_stars=5.0, compliment_cool=0, compliment_cute=0, compliment_funny=0, compliment_hot=0, compliment_list=0, compliment_more=0, compliment_note=0, compliment_photos=0, compliment_plain=0, compliment_profile=0, compliment_writer=0, cool=0, elite=u'None', fans=0, friends=u'None', funny=0, name=u'Daipayan', review_count=2, useful=0, user_id=u'XvLBr-9smbI0m_a7dXtB7w', yelping_since=u'2015-09-05', no_friends=0, label=0, score=0.3907588720321655)]"
      ]
     },
     "execution_count": 33,
     "metadata": {},
     "output_type": "execute_result"
    }
   ],
   "source": [
    "userDf.take(2)"
   ]
  },
  {
   "cell_type": "code",
   "execution_count": 102,
   "metadata": {},
   "outputs": [
    {
     "data": {
      "text/plain": [
       "0.004347654498480881"
      ]
     },
     "execution_count": 102,
     "metadata": {},
     "output_type": "execute_result"
    }
   ],
   "source": [
    "factors['average_stars']"
   ]
  },
  {
   "cell_type": "code",
   "execution_count": 106,
   "metadata": {},
   "outputs": [],
   "source": [
    "globfac = sc.broadcast(factors)"
   ]
  },
  {
   "cell_type": "code",
   "execution_count": 32,
   "metadata": {},
   "outputs": [
    {
     "name": "stdout",
     "output_type": "stream",
     "text": [
      "root\n",
      " |-- average_stars: double (nullable = true)\n",
      " |-- compliment_cool: long (nullable = true)\n",
      " |-- compliment_cute: long (nullable = true)\n",
      " |-- compliment_funny: long (nullable = true)\n",
      " |-- compliment_hot: long (nullable = true)\n",
      " |-- compliment_list: long (nullable = true)\n",
      " |-- compliment_more: long (nullable = true)\n",
      " |-- compliment_note: long (nullable = true)\n",
      " |-- compliment_photos: long (nullable = true)\n",
      " |-- compliment_plain: long (nullable = true)\n",
      " |-- compliment_profile: long (nullable = true)\n",
      " |-- compliment_writer: long (nullable = true)\n",
      " |-- cool: long (nullable = true)\n",
      " |-- elite: string (nullable = true)\n",
      " |-- fans: long (nullable = true)\n",
      " |-- friends: string (nullable = true)\n",
      " |-- funny: long (nullable = true)\n",
      " |-- name: string (nullable = true)\n",
      " |-- review_count: long (nullable = true)\n",
      " |-- useful: long (nullable = true)\n",
      " |-- user_id: string (nullable = true)\n",
      " |-- yelping_since: string (nullable = true)\n",
      " |-- no_friends: integer (nullable = true)\n",
      " |-- label: integer (nullable = true)\n",
      " |-- score: float (nullable = true)\n",
      "\n"
     ]
    }
   ],
   "source": [
    "userDf.printSchema()"
   ]
  },
  {
   "cell_type": "code",
   "execution_count": 44,
   "metadata": {},
   "outputs": [],
   "source": [
    "# alluserscr = userDf.select('score')\n",
    "sql_context.registerDataFrameAsTable(userDf, \"allscr\")\n",
    "allscr = sql_context.sql(\"SELECT score from allscr\")\n",
    "allsrPandas = allscr.toPandas()"
   ]
  },
  {
   "cell_type": "code",
   "execution_count": 34,
   "metadata": {},
   "outputs": [],
   "source": [
    "eliteUsers = userDf.filter(userDf.label==1)\n",
    "normUsers = userDf.filter(userDf.label==0)"
   ]
  },
  {
   "cell_type": "code",
   "execution_count": 180,
   "metadata": {},
   "outputs": [],
   "source": [
    "eliteScoredescrip = eliteUsers.select('score').describe()"
   ]
  },
  {
   "cell_type": "code",
   "execution_count": 182,
   "metadata": {},
   "outputs": [],
   "source": [
    "elitedescb = eliteScoredescrip.collect()"
   ]
  },
  {
   "cell_type": "code",
   "execution_count": 183,
   "metadata": {},
   "outputs": [
    {
     "data": {
      "text/plain": [
       "[Row(summary=u'count', score=u'67109'),\n",
       " Row(summary=u'mean', score=u'82.90934558721926'),\n",
       " Row(summary=u'stddev', score=u'237.73247688229216'),\n",
       " Row(summary=u'min', score=u'0.71939474'),\n",
       " Row(summary=u'max', score=u'17505.77')]"
      ]
     },
     "execution_count": 183,
     "metadata": {},
     "output_type": "execute_result"
    }
   ],
   "source": [
    "elitedescb"
   ]
  },
  {
   "cell_type": "code",
   "execution_count": 184,
   "metadata": {},
   "outputs": [
    {
     "data": {
      "text/plain": [
       "[Row(summary=u'count', score=u'1451060'),\n",
       " Row(summary=u'mean', score=u'3.0335891194163267'),\n",
       " Row(summary=u'stddev', score=u'16.188211466724493'),\n",
       " Row(summary=u'min', score=u'0.0043476545'),\n",
       " Row(summary=u'max', score=u'14726.82')]"
      ]
     },
     "execution_count": 184,
     "metadata": {},
     "output_type": "execute_result"
    }
   ],
   "source": [
    "normdescb =  normUsers.select('score').describe().collect()\n",
    "normdescb"
   ]
  },
  {
   "cell_type": "code",
   "execution_count": 35,
   "metadata": {},
   "outputs": [],
   "source": [
    "sql_context.registerDataFrameAsTable(eliteUsers, \"elitescr\")\n",
    "sql_context.registerDataFrameAsTable(normUsers, \"normscr\")"
   ]
  },
  {
   "cell_type": "code",
   "execution_count": 36,
   "metadata": {},
   "outputs": [],
   "source": [
    "elitescr = sql_context.sql(\"SELECT score from elitescr\")\n",
    "normscr = sql_context.sql(\"SELECT score from normscr\")"
   ]
  },
  {
   "cell_type": "code",
   "execution_count": 37,
   "metadata": {},
   "outputs": [],
   "source": [
    "elitescrPandas = elitescr.toPandas()\n",
    "normscrPandas = normscr.toPandas()"
   ]
  },
  {
   "cell_type": "code",
   "execution_count": 39,
   "metadata": {},
   "outputs": [
    {
     "data": {
      "image/png": "[encoded data removed]",
      "text/plain": [
       "<Figure size 432x288 with 1 Axes>"
      ]
     },
     "metadata": {
      "needs_background": "light"
     },
     "output_type": "display_data"
    },
    {
     "data": {
      "image/png": "[encoded data removed]",
      "text/plain": [
       "<Figure size 432x288 with 1 Axes>"
      ]
     },
     "metadata": {
      "needs_background": "light"
     },
     "output_type": "display_data"
    }
   ],
   "source": [
    "import matplotlib.pyplot as plt\n",
    "%matplotlib inline\n",
    "fig  = plt.figure()\n",
    "plt.title('Elite Users')\n",
    "plt.xlabel(\"Score\")\n",
    "plt.ylabel(\"User Count\")\n",
    "elitescrPandas['score'].hist(bins=20)\n",
    "fig.savefig('EliteUsers Not  Zoomed in')           \n",
    "fig2 = plt.figure()\n",
    "plt.title('non-Elite Users')\n",
    "plt.xlabel(\"Score\")\n",
    "plt.ylabel(\"User Count\")\n",
    "normscrPandas['score'].hist(bins=20)\n",
    "fig2.savefig('NonEliteUsers Not Zoomed in')\n",
    "plt.show()"
   ]
  },
  {
   "cell_type": "code",
   "execution_count": 63,
   "metadata": {},
   "outputs": [
    {
     "name": "stdout",
     "output_type": "stream",
     "text": [
      "4.159688716627706\n"
     ]
    }
   ],
   "source": [
    "eliteMax = elitescrPandas['score'].max()\n",
    "normMax = normscrPandas['score'].max()\n",
    "print(60000/eliteMax)*5"
   ]
  },
  {
   "cell_type": "code",
   "execution_count": 83,
   "metadata": {},
   "outputs": [],
   "source": [
    "def scaleElite(x):\n",
    "    return (x/eliteMax)*1000\n",
    "def scaleNorm(x):\n",
    "    return (x/normMax)*1000\n",
    "elitescrPandas['scaled'] = elitescrPandas['score'].apply(scaleElite)\n",
    "normscrPandas['scaled'] = normscrPandas['score'].apply(scaleNorm)"
   ]
  },
  {
   "cell_type": "code",
   "execution_count": 86,
   "metadata": {},
   "outputs": [
    {
     "data": {
      "text/html": [
       "<div>\n",
       "<style scoped>\n",
       "    .dataframe tbody tr th:only-of-type {\n",
       "        vertical-align: middle;\n",
       "    }\n",
       "\n",
       "    .dataframe tbody tr th {\n",
       "        vertical-align: top;\n",
       "    }\n",
       "\n",
       "    .dataframe thead th {\n",
       "        text-align: right;\n",
       "    }\n",
       "</style>\n",
       "<table border=\"1\" class=\"dataframe\">\n",
       "  <thead>\n",
       "    <tr style=\"text-align: right;\">\n",
       "      <th></th>\n",
       "      <th>score</th>\n",
       "      <th>scaled</th>\n",
       "    </tr>\n",
       "  </thead>\n",
       "  <tbody>\n",
       "    <tr>\n",
       "      <th>37</th>\n",
       "      <td>9220.993164</td>\n",
       "      <td>127.854871</td>\n",
       "    </tr>\n",
       "    <tr>\n",
       "      <th>2134</th>\n",
       "      <td>11420.347656</td>\n",
       "      <td>158.350304</td>\n",
       "    </tr>\n",
       "    <tr>\n",
       "      <th>2898</th>\n",
       "      <td>6110.455078</td>\n",
       "      <td>84.725303</td>\n",
       "    </tr>\n",
       "    <tr>\n",
       "      <th>5479</th>\n",
       "      <td>5954.199219</td>\n",
       "      <td>82.558718</td>\n",
       "    </tr>\n",
       "    <tr>\n",
       "      <th>5725</th>\n",
       "      <td>6133.836914</td>\n",
       "      <td>85.049507</td>\n",
       "    </tr>\n",
       "    <tr>\n",
       "      <th>6070</th>\n",
       "      <td>18168.269531</td>\n",
       "      <td>251.914486</td>\n",
       "    </tr>\n",
       "    <tr>\n",
       "      <th>6379</th>\n",
       "      <td>8251.310547</td>\n",
       "      <td>114.409611</td>\n",
       "    </tr>\n",
       "    <tr>\n",
       "      <th>6989</th>\n",
       "      <td>4614.959473</td>\n",
       "      <td>63.989316</td>\n",
       "    </tr>\n",
       "    <tr>\n",
       "      <th>7010</th>\n",
       "      <td>3993.513184</td>\n",
       "      <td>55.372572</td>\n",
       "    </tr>\n",
       "    <tr>\n",
       "      <th>7038</th>\n",
       "      <td>4038.835449</td>\n",
       "      <td>56.000994</td>\n",
       "    </tr>\n",
       "    <tr>\n",
       "      <th>7338</th>\n",
       "      <td>5417.143555</td>\n",
       "      <td>75.112103</td>\n",
       "    </tr>\n",
       "    <tr>\n",
       "      <th>7589</th>\n",
       "      <td>7470.829102</td>\n",
       "      <td>103.587745</td>\n",
       "    </tr>\n",
       "    <tr>\n",
       "      <th>7609</th>\n",
       "      <td>12450.993164</td>\n",
       "      <td>172.640853</td>\n",
       "    </tr>\n",
       "    <tr>\n",
       "      <th>7888</th>\n",
       "      <td>7378.388672</td>\n",
       "      <td>102.306000</td>\n",
       "    </tr>\n",
       "    <tr>\n",
       "      <th>8039</th>\n",
       "      <td>5251.167480</td>\n",
       "      <td>72.810740</td>\n",
       "    </tr>\n",
       "    <tr>\n",
       "      <th>8294</th>\n",
       "      <td>3682.519531</td>\n",
       "      <td>51.060450</td>\n",
       "    </tr>\n",
       "    <tr>\n",
       "      <th>8322</th>\n",
       "      <td>6505.506836</td>\n",
       "      <td>90.202945</td>\n",
       "    </tr>\n",
       "    <tr>\n",
       "      <th>8690</th>\n",
       "      <td>6767.904785</td>\n",
       "      <td>93.841257</td>\n",
       "    </tr>\n",
       "    <tr>\n",
       "      <th>9034</th>\n",
       "      <td>4435.170898</td>\n",
       "      <td>61.496434</td>\n",
       "    </tr>\n",
       "    <tr>\n",
       "      <th>9273</th>\n",
       "      <td>13482.676758</td>\n",
       "      <td>186.945795</td>\n",
       "    </tr>\n",
       "    <tr>\n",
       "      <th>9611</th>\n",
       "      <td>3943.632812</td>\n",
       "      <td>54.680950</td>\n",
       "    </tr>\n",
       "    <tr>\n",
       "      <th>9733</th>\n",
       "      <td>15888.370117</td>\n",
       "      <td>220.302246</td>\n",
       "    </tr>\n",
       "    <tr>\n",
       "      <th>9907</th>\n",
       "      <td>5474.352539</td>\n",
       "      <td>75.905342</td>\n",
       "    </tr>\n",
       "    <tr>\n",
       "      <th>9954</th>\n",
       "      <td>5765.271973</td>\n",
       "      <td>79.939123</td>\n",
       "    </tr>\n",
       "    <tr>\n",
       "      <th>10937</th>\n",
       "      <td>4032.743652</td>\n",
       "      <td>55.916528</td>\n",
       "    </tr>\n",
       "    <tr>\n",
       "      <th>12309</th>\n",
       "      <td>21988.015625</td>\n",
       "      <td>304.877668</td>\n",
       "    </tr>\n",
       "    <tr>\n",
       "      <th>12482</th>\n",
       "      <td>3684.880615</td>\n",
       "      <td>51.093188</td>\n",
       "    </tr>\n",
       "    <tr>\n",
       "      <th>12633</th>\n",
       "      <td>5644.511230</td>\n",
       "      <td>78.264699</td>\n",
       "    </tr>\n",
       "    <tr>\n",
       "      <th>13014</th>\n",
       "      <td>7033.887695</td>\n",
       "      <td>97.529278</td>\n",
       "    </tr>\n",
       "    <tr>\n",
       "      <th>13363</th>\n",
       "      <td>4824.071289</td>\n",
       "      <td>66.888783</td>\n",
       "    </tr>\n",
       "    <tr>\n",
       "      <th>...</th>\n",
       "      <td>...</td>\n",
       "      <td>...</td>\n",
       "    </tr>\n",
       "    <tr>\n",
       "      <th>60299</th>\n",
       "      <td>4186.699707</td>\n",
       "      <td>58.051225</td>\n",
       "    </tr>\n",
       "    <tr>\n",
       "      <th>60334</th>\n",
       "      <td>10005.350586</td>\n",
       "      <td>138.730480</td>\n",
       "    </tr>\n",
       "    <tr>\n",
       "      <th>61092</th>\n",
       "      <td>8790.195312</td>\n",
       "      <td>121.881588</td>\n",
       "    </tr>\n",
       "    <tr>\n",
       "      <th>61134</th>\n",
       "      <td>5275.592773</td>\n",
       "      <td>73.149412</td>\n",
       "    </tr>\n",
       "    <tr>\n",
       "      <th>61259</th>\n",
       "      <td>3930.751953</td>\n",
       "      <td>54.502348</td>\n",
       "    </tr>\n",
       "    <tr>\n",
       "      <th>61337</th>\n",
       "      <td>4845.110840</td>\n",
       "      <td>67.180510</td>\n",
       "    </tr>\n",
       "    <tr>\n",
       "      <th>61474</th>\n",
       "      <td>6709.838867</td>\n",
       "      <td>93.036137</td>\n",
       "    </tr>\n",
       "    <tr>\n",
       "      <th>61507</th>\n",
       "      <td>21267.623047</td>\n",
       "      <td>294.888972</td>\n",
       "    </tr>\n",
       "    <tr>\n",
       "      <th>61663</th>\n",
       "      <td>3969.408447</td>\n",
       "      <td>55.038345</td>\n",
       "    </tr>\n",
       "    <tr>\n",
       "      <th>62120</th>\n",
       "      <td>4195.993652</td>\n",
       "      <td>58.180092</td>\n",
       "    </tr>\n",
       "    <tr>\n",
       "      <th>62689</th>\n",
       "      <td>3667.242920</td>\n",
       "      <td>50.848630</td>\n",
       "    </tr>\n",
       "    <tr>\n",
       "      <th>62703</th>\n",
       "      <td>6890.520020</td>\n",
       "      <td>95.541395</td>\n",
       "    </tr>\n",
       "    <tr>\n",
       "      <th>62704</th>\n",
       "      <td>5420.892090</td>\n",
       "      <td>75.164079</td>\n",
       "    </tr>\n",
       "    <tr>\n",
       "      <th>62767</th>\n",
       "      <td>3783.916748</td>\n",
       "      <td>52.466386</td>\n",
       "    </tr>\n",
       "    <tr>\n",
       "      <th>63128</th>\n",
       "      <td>9259.134766</td>\n",
       "      <td>128.383728</td>\n",
       "    </tr>\n",
       "    <tr>\n",
       "      <th>63713</th>\n",
       "      <td>7809.097656</td>\n",
       "      <td>108.278051</td>\n",
       "    </tr>\n",
       "    <tr>\n",
       "      <th>63821</th>\n",
       "      <td>4765.211426</td>\n",
       "      <td>66.072654</td>\n",
       "    </tr>\n",
       "    <tr>\n",
       "      <th>63841</th>\n",
       "      <td>7367.638184</td>\n",
       "      <td>102.156938</td>\n",
       "    </tr>\n",
       "    <tr>\n",
       "      <th>63887</th>\n",
       "      <td>5921.008789</td>\n",
       "      <td>82.098512</td>\n",
       "    </tr>\n",
       "    <tr>\n",
       "      <th>63899</th>\n",
       "      <td>5114.830078</td>\n",
       "      <td>70.920337</td>\n",
       "    </tr>\n",
       "    <tr>\n",
       "      <th>64043</th>\n",
       "      <td>3691.164795</td>\n",
       "      <td>51.180322</td>\n",
       "    </tr>\n",
       "    <tr>\n",
       "      <th>64366</th>\n",
       "      <td>7092.790039</td>\n",
       "      <td>98.345996</td>\n",
       "    </tr>\n",
       "    <tr>\n",
       "      <th>64540</th>\n",
       "      <td>19893.523438</td>\n",
       "      <td>275.836217</td>\n",
       "    </tr>\n",
       "    <tr>\n",
       "      <th>64543</th>\n",
       "      <td>3961.051025</td>\n",
       "      <td>54.922464</td>\n",
       "    </tr>\n",
       "    <tr>\n",
       "      <th>64857</th>\n",
       "      <td>9086.573242</td>\n",
       "      <td>125.991054</td>\n",
       "    </tr>\n",
       "    <tr>\n",
       "      <th>64906</th>\n",
       "      <td>6930.111328</td>\n",
       "      <td>96.090353</td>\n",
       "    </tr>\n",
       "    <tr>\n",
       "      <th>64931</th>\n",
       "      <td>48104.464844</td>\n",
       "      <td>666.998665</td>\n",
       "    </tr>\n",
       "    <tr>\n",
       "      <th>65137</th>\n",
       "      <td>15206.608398</td>\n",
       "      <td>210.849191</td>\n",
       "    </tr>\n",
       "    <tr>\n",
       "      <th>65582</th>\n",
       "      <td>4035.810303</td>\n",
       "      <td>55.959049</td>\n",
       "    </tr>\n",
       "    <tr>\n",
       "      <th>66956</th>\n",
       "      <td>8625.463867</td>\n",
       "      <td>119.597482</td>\n",
       "    </tr>\n",
       "  </tbody>\n",
       "</table>\n",
       "<p>245 rows × 2 columns</p>\n",
       "</div>"
      ],
      "text/plain": [
       "              score      scaled\n",
       "37      9220.993164  127.854871\n",
       "2134   11420.347656  158.350304\n",
       "2898    6110.455078   84.725303\n",
       "5479    5954.199219   82.558718\n",
       "5725    6133.836914   85.049507\n",
       "6070   18168.269531  251.914486\n",
       "6379    8251.310547  114.409611\n",
       "6989    4614.959473   63.989316\n",
       "7010    3993.513184   55.372572\n",
       "7038    4038.835449   56.000994\n",
       "7338    5417.143555   75.112103\n",
       "7589    7470.829102  103.587745\n",
       "7609   12450.993164  172.640853\n",
       "7888    7378.388672  102.306000\n",
       "8039    5251.167480   72.810740\n",
       "8294    3682.519531   51.060450\n",
       "8322    6505.506836   90.202945\n",
       "8690    6767.904785   93.841257\n",
       "9034    4435.170898   61.496434\n",
       "9273   13482.676758  186.945795\n",
       "9611    3943.632812   54.680950\n",
       "9733   15888.370117  220.302246\n",
       "9907    5474.352539   75.905342\n",
       "9954    5765.271973   79.939123\n",
       "10937   4032.743652   55.916528\n",
       "12309  21988.015625  304.877668\n",
       "12482   3684.880615   51.093188\n",
       "12633   5644.511230   78.264699\n",
       "13014   7033.887695   97.529278\n",
       "13363   4824.071289   66.888783\n",
       "...             ...         ...\n",
       "60299   4186.699707   58.051225\n",
       "60334  10005.350586  138.730480\n",
       "61092   8790.195312  121.881588\n",
       "61134   5275.592773   73.149412\n",
       "61259   3930.751953   54.502348\n",
       "61337   4845.110840   67.180510\n",
       "61474   6709.838867   93.036137\n",
       "61507  21267.623047  294.888972\n",
       "61663   3969.408447   55.038345\n",
       "62120   4195.993652   58.180092\n",
       "62689   3667.242920   50.848630\n",
       "62703   6890.520020   95.541395\n",
       "62704   5420.892090   75.164079\n",
       "62767   3783.916748   52.466386\n",
       "63128   9259.134766  128.383728\n",
       "63713   7809.097656  108.278051\n",
       "63821   4765.211426   66.072654\n",
       "63841   7367.638184  102.156938\n",
       "63887   5921.008789   82.098512\n",
       "63899   5114.830078   70.920337\n",
       "64043   3691.164795   51.180322\n",
       "64366   7092.790039   98.345996\n",
       "64540  19893.523438  275.836217\n",
       "64543   3961.051025   54.922464\n",
       "64857   9086.573242  125.991054\n",
       "64906   6930.111328   96.090353\n",
       "64931  48104.464844  666.998665\n",
       "65137  15206.608398  210.849191\n",
       "65582   4035.810303   55.959049\n",
       "66956   8625.463867  119.597482\n",
       "\n",
       "[245 rows x 2 columns]"
      ]
     },
     "execution_count": 86,
     "metadata": {},
     "output_type": "execute_result"
    }
   ],
   "source": [
    "uu = elitescrPandas[ elitescrPandas['scaled']>=50.0]\n",
    "uu"
   ]
  },
  {
   "cell_type": "code",
   "execution_count": 82,
   "metadata": {},
   "outputs": [
    {
     "data": {
      "text/html": [
       "<div>\n",
       "<style scoped>\n",
       "    .dataframe tbody tr th:only-of-type {\n",
       "        vertical-align: middle;\n",
       "    }\n",
       "\n",
       "    .dataframe tbody tr th {\n",
       "        vertical-align: top;\n",
       "    }\n",
       "\n",
       "    .dataframe thead th {\n",
       "        text-align: right;\n",
       "    }\n",
       "</style>\n",
       "<table border=\"1\" class=\"dataframe\">\n",
       "  <thead>\n",
       "    <tr style=\"text-align: right;\">\n",
       "      <th></th>\n",
       "      <th>score</th>\n",
       "      <th>scaled</th>\n",
       "    </tr>\n",
       "  </thead>\n",
       "  <tbody>\n",
       "    <tr>\n",
       "      <th>528453</th>\n",
       "      <td>30983.810547</td>\n",
       "      <td>5.00000</td>\n",
       "    </tr>\n",
       "    <tr>\n",
       "      <th>979840</th>\n",
       "      <td>25675.414062</td>\n",
       "      <td>4.14336</td>\n",
       "    </tr>\n",
       "  </tbody>\n",
       "</table>\n",
       "</div>"
      ],
      "text/plain": [
       "               score   scaled\n",
       "528453  30983.810547  5.00000\n",
       "979840  25675.414062  4.14336"
      ]
     },
     "execution_count": 82,
     "metadata": {},
     "output_type": "execute_result"
    }
   ],
   "source": [
    "uuu = normscrPandas[ normscrPandas['scaled']>=4.0]\n",
    "uuu"
   ]
  },
  {
   "cell_type": "code",
   "execution_count": 93,
   "metadata": {},
   "outputs": [
    {
     "name": "stdout",
     "output_type": "stream",
     "text": [
      "1451060\n",
      "67109\n",
      "4.62482598928\n"
     ]
    }
   ],
   "source": [
    "print(len(normscrPandas))\n",
    "print(len(elitescrPandas))\n",
    "print(float(67109)/float(1451060)*100)"
   ]
  },
  {
   "cell_type": "code",
   "execution_count": 40,
   "metadata": {
    "scrolled": true
   },
   "outputs": [
    {
     "data": {
      "image/png": "[encoded data removed]",
      "text/plain": [
       "<Figure size 432x288 with 1 Axes>"
      ]
     },
     "metadata": {
      "needs_background": "light"
     },
     "output_type": "display_data"
    }
   ],
   "source": [
    "bins3 = [0,5,6,7,8,9,10,11,12,13,14,15,16,17,18,19,20,21,22,23,24,25,26,27,28,29,30,31,32,33,34,35,36,37,38]\n",
    "\n",
    "fig = plt.figure()\n",
    "plt.title('Elite Users Zoomed in')\n",
    "plt.xlabel(\"Score\")\n",
    "plt.ylabel(\"User Count\")\n",
    "elitescrPandas['score'].hist(bins=bins3)\n",
    "fig.savefig('EliteUsers Zoomed in')"
   ]
  },
  {
   "cell_type": "code",
   "execution_count": 41,
   "metadata": {},
   "outputs": [
    {
     "data": {
      "image/png": "[encoded data removed]",
      "text/plain": [
       "<Figure size 432x288 with 1 Axes>"
      ]
     },
     "metadata": {
      "needs_background": "light"
     },
     "output_type": "display_data"
    }
   ],
   "source": [
    "#Create uneven bins to help visualize histogram\n",
    "#smaller scale for normal users\n",
    "bins2 = [0,1,2,3,4,5,6,7,8,9,10,11,12,13,14,15,16,17,18,19,20,25,30,35,40]\n",
    "fig = plt.figure()\n",
    "plt.title('non-Elite Users Zoomed in')\n",
    "plt.xlabel(\"Score\")\n",
    "plt.ylabel(\"User Count\")\n",
    "normscrPandas['score'].hist(bins=bins2)\n",
    "fig.savefig('NonEliteUsers Zoomed in')           \n"
   ]
  },
  {
   "cell_type": "code",
   "execution_count": 45,
   "metadata": {
    "scrolled": true
   },
   "outputs": [
    {
     "data": {
      "image/png": "[encoded data removed]",
      "text/plain": [
       "<Figure size 432x288 with 1 Axes>"
      ]
     },
     "metadata": {
      "needs_background": "light"
     },
     "output_type": "display_data"
    }
   ],
   "source": [
    "bins = [0,1,2,3,4,5,10,20,30,50,100,200]\n",
    "\n",
    "fig = plt.figure()\n",
    "plt.title('All Users')\n",
    "plt.xlabel(\"Score\")\n",
    "plt.ylabel(\"User Count\")\n",
    "allsrPandas['score'].hist(bins=bins)\n",
    "fig.savefig('All users score')"
   ]
  },
  {
   "cell_type": "code",
   "execution_count": 213,
   "metadata": {},
   "outputs": [],
   "source": [
    "import statsmodels.api as sm\n",
    "import matplotlib.pyplot as plt\n",
    "from scipy.stats import boxcox\n",
    "import seaborn as sns\n",
    "# import dautil as dl\n",
    "from IPython.display import HTML"
   ]
  },
  {
   "cell_type": "code",
   "execution_count": 216,
   "metadata": {},
   "outputs": [],
   "source": [
    "transformed,_ = boxcox(elitescrPandas['score'])"
   ]
  },
  {
   "cell_type": "code",
   "execution_count": 224,
   "metadata": {},
   "outputs": [
    {
     "data": {
      "text/plain": [
       "(0, 5000)"
      ]
     },
     "execution_count": 224,
     "metadata": {},
     "output_type": "execute_result"
    },
    {
     "data": {
      "image/png": "[encoded data removed]",
      "text/plain": [
       "<Figure size 432x288 with 1 Axes>"
      ]
     },
     "metadata": {
      "needs_background": "light"
     },
     "output_type": "display_data"
    }
   ],
   "source": [
    "ax = sns.distplot(elitescrPandas['score'])\n",
    "ax.set_xlim(0,5000)\n"
   ]
  },
  {
   "cell_type": "code",
   "execution_count": 226,
   "metadata": {},
   "outputs": [
    {
     "data": {
      "image/png": "[encoded data removed]",
      "text/plain": [
       "<Figure size 432x288 with 1 Axes>"
      ]
     },
     "metadata": {
      "needs_background": "light"
     },
     "output_type": "display_data"
    }
   ],
   "source": [
    "ax = sns.distplot(transformed)\n",
    "# ax.set_xlim(0,5000)\n"
   ]
  },
  {
   "cell_type": "code",
   "execution_count": 234,
   "metadata": {},
   "outputs": [
    {
     "data": {
      "image/png": "[encoded data removed]",
      "text/plain": [
       "<Figure size 432x288 with 1 Axes>"
      ]
     },
     "metadata": {
      "needs_background": "light"
     },
     "output_type": "display_data"
    }
   ],
   "source": [
    "import numpy as np\n",
    "\n",
    "def adjLog(x):\n",
    "    return np.log(x)\n",
    "ax = sns.distplot(elitescrPandas['score'].apply(adjLog))\n"
   ]
  },
  {
   "cell_type": "code",
   "execution_count": 242,
   "metadata": {},
   "outputs": [],
   "source": [
    "# test = elitescrPandas\n",
    "# std = test['score'].std()\n",
    "# test['score'].clip(0,3*std)"
   ]
  },
  {
   "cell_type": "code",
   "execution_count": 239,
   "metadata": {},
   "outputs": [],
   "source": [
    "# elitescrPandas['score']"
   ]
  },
  {
   "cell_type": "code",
   "execution_count": 240,
   "metadata": {},
   "outputs": [],
   "source": [
    "# ax = sns.distplot(elitescrPandas['score'])"
   ]
  },
  {
   "cell_type": "code",
   "execution_count": 241,
   "metadata": {},
   "outputs": [],
   "source": [
    "# ax = sns.distplot(test['score'])"
   ]
  },
  {
   "cell_type": "code",
   "execution_count": 259,
   "metadata": {},
   "outputs": [],
   "source": [
    "reviewStars = elite_df.select('average_stars')\n",
    "sql_context.registerDataFrameAsTable(reviewStars, \"reviewstar\")\n"
   ]
  },
  {
   "cell_type": "code",
   "execution_count": 260,
   "metadata": {},
   "outputs": [],
   "source": [
    "review = sql_context.sql(\"SELECT average_stars from reviewstar\")"
   ]
  },
  {
   "cell_type": "code",
   "execution_count": 261,
   "metadata": {},
   "outputs": [
    {
     "data": {
      "text/html": [
       "<div>\n",
       "<style scoped>\n",
       "    .dataframe tbody tr th:only-of-type {\n",
       "        vertical-align: middle;\n",
       "    }\n",
       "\n",
       "    .dataframe tbody tr th {\n",
       "        vertical-align: top;\n",
       "    }\n",
       "\n",
       "    .dataframe thead th {\n",
       "        text-align: right;\n",
       "    }\n",
       "</style>\n",
       "<table border=\"1\" class=\"dataframe\">\n",
       "  <thead>\n",
       "    <tr style=\"text-align: right;\">\n",
       "      <th></th>\n",
       "      <th>average_stars</th>\n",
       "    </tr>\n",
       "  </thead>\n",
       "  <tbody>\n",
       "    <tr>\n",
       "      <th>0</th>\n",
       "      <td>2.00</td>\n",
       "    </tr>\n",
       "    <tr>\n",
       "      <th>1</th>\n",
       "      <td>5.00</td>\n",
       "    </tr>\n",
       "    <tr>\n",
       "      <th>2</th>\n",
       "      <td>4.00</td>\n",
       "    </tr>\n",
       "    <tr>\n",
       "      <th>3</th>\n",
       "      <td>4.05</td>\n",
       "    </tr>\n",
       "    <tr>\n",
       "      <th>4</th>\n",
       "      <td>3.00</td>\n",
       "    </tr>\n",
       "    <tr>\n",
       "      <th>5</th>\n",
       "      <td>5.00</td>\n",
       "    </tr>\n",
       "    <tr>\n",
       "      <th>6</th>\n",
       "      <td>5.00</td>\n",
       "    </tr>\n",
       "    <tr>\n",
       "      <th>7</th>\n",
       "      <td>5.00</td>\n",
       "    </tr>\n",
       "    <tr>\n",
       "      <th>8</th>\n",
       "      <td>2.77</td>\n",
       "    </tr>\n",
       "    <tr>\n",
       "      <th>9</th>\n",
       "      <td>4.00</td>\n",
       "    </tr>\n",
       "    <tr>\n",
       "      <th>10</th>\n",
       "      <td>5.00</td>\n",
       "    </tr>\n",
       "    <tr>\n",
       "      <th>11</th>\n",
       "      <td>4.20</td>\n",
       "    </tr>\n",
       "    <tr>\n",
       "      <th>12</th>\n",
       "      <td>3.86</td>\n",
       "    </tr>\n",
       "    <tr>\n",
       "      <th>13</th>\n",
       "      <td>2.00</td>\n",
       "    </tr>\n",
       "    <tr>\n",
       "      <th>14</th>\n",
       "      <td>2.00</td>\n",
       "    </tr>\n",
       "    <tr>\n",
       "      <th>15</th>\n",
       "      <td>3.00</td>\n",
       "    </tr>\n",
       "    <tr>\n",
       "      <th>16</th>\n",
       "      <td>1.00</td>\n",
       "    </tr>\n",
       "    <tr>\n",
       "      <th>17</th>\n",
       "      <td>4.00</td>\n",
       "    </tr>\n",
       "    <tr>\n",
       "      <th>18</th>\n",
       "      <td>3.75</td>\n",
       "    </tr>\n",
       "    <tr>\n",
       "      <th>19</th>\n",
       "      <td>3.00</td>\n",
       "    </tr>\n",
       "    <tr>\n",
       "      <th>20</th>\n",
       "      <td>4.00</td>\n",
       "    </tr>\n",
       "    <tr>\n",
       "      <th>21</th>\n",
       "      <td>1.00</td>\n",
       "    </tr>\n",
       "    <tr>\n",
       "      <th>22</th>\n",
       "      <td>3.00</td>\n",
       "    </tr>\n",
       "    <tr>\n",
       "      <th>23</th>\n",
       "      <td>4.50</td>\n",
       "    </tr>\n",
       "    <tr>\n",
       "      <th>24</th>\n",
       "      <td>4.20</td>\n",
       "    </tr>\n",
       "    <tr>\n",
       "      <th>25</th>\n",
       "      <td>4.00</td>\n",
       "    </tr>\n",
       "    <tr>\n",
       "      <th>26</th>\n",
       "      <td>5.00</td>\n",
       "    </tr>\n",
       "    <tr>\n",
       "      <th>27</th>\n",
       "      <td>3.00</td>\n",
       "    </tr>\n",
       "    <tr>\n",
       "      <th>28</th>\n",
       "      <td>4.15</td>\n",
       "    </tr>\n",
       "    <tr>\n",
       "      <th>29</th>\n",
       "      <td>5.00</td>\n",
       "    </tr>\n",
       "    <tr>\n",
       "      <th>...</th>\n",
       "      <td>...</td>\n",
       "    </tr>\n",
       "    <tr>\n",
       "      <th>1518139</th>\n",
       "      <td>3.44</td>\n",
       "    </tr>\n",
       "    <tr>\n",
       "      <th>1518140</th>\n",
       "      <td>5.00</td>\n",
       "    </tr>\n",
       "    <tr>\n",
       "      <th>1518141</th>\n",
       "      <td>3.42</td>\n",
       "    </tr>\n",
       "    <tr>\n",
       "      <th>1518142</th>\n",
       "      <td>3.31</td>\n",
       "    </tr>\n",
       "    <tr>\n",
       "      <th>1518143</th>\n",
       "      <td>4.25</td>\n",
       "    </tr>\n",
       "    <tr>\n",
       "      <th>1518144</th>\n",
       "      <td>1.98</td>\n",
       "    </tr>\n",
       "    <tr>\n",
       "      <th>1518145</th>\n",
       "      <td>5.00</td>\n",
       "    </tr>\n",
       "    <tr>\n",
       "      <th>1518146</th>\n",
       "      <td>4.00</td>\n",
       "    </tr>\n",
       "    <tr>\n",
       "      <th>1518147</th>\n",
       "      <td>4.60</td>\n",
       "    </tr>\n",
       "    <tr>\n",
       "      <th>1518148</th>\n",
       "      <td>4.13</td>\n",
       "    </tr>\n",
       "    <tr>\n",
       "      <th>1518149</th>\n",
       "      <td>3.60</td>\n",
       "    </tr>\n",
       "    <tr>\n",
       "      <th>1518150</th>\n",
       "      <td>5.00</td>\n",
       "    </tr>\n",
       "    <tr>\n",
       "      <th>1518151</th>\n",
       "      <td>4.25</td>\n",
       "    </tr>\n",
       "    <tr>\n",
       "      <th>1518152</th>\n",
       "      <td>3.05</td>\n",
       "    </tr>\n",
       "    <tr>\n",
       "      <th>1518153</th>\n",
       "      <td>4.00</td>\n",
       "    </tr>\n",
       "    <tr>\n",
       "      <th>1518154</th>\n",
       "      <td>3.35</td>\n",
       "    </tr>\n",
       "    <tr>\n",
       "      <th>1518155</th>\n",
       "      <td>3.00</td>\n",
       "    </tr>\n",
       "    <tr>\n",
       "      <th>1518156</th>\n",
       "      <td>5.00</td>\n",
       "    </tr>\n",
       "    <tr>\n",
       "      <th>1518157</th>\n",
       "      <td>5.00</td>\n",
       "    </tr>\n",
       "    <tr>\n",
       "      <th>1518158</th>\n",
       "      <td>3.89</td>\n",
       "    </tr>\n",
       "    <tr>\n",
       "      <th>1518159</th>\n",
       "      <td>3.12</td>\n",
       "    </tr>\n",
       "    <tr>\n",
       "      <th>1518160</th>\n",
       "      <td>3.00</td>\n",
       "    </tr>\n",
       "    <tr>\n",
       "      <th>1518161</th>\n",
       "      <td>2.33</td>\n",
       "    </tr>\n",
       "    <tr>\n",
       "      <th>1518162</th>\n",
       "      <td>3.86</td>\n",
       "    </tr>\n",
       "    <tr>\n",
       "      <th>1518163</th>\n",
       "      <td>5.00</td>\n",
       "    </tr>\n",
       "    <tr>\n",
       "      <th>1518164</th>\n",
       "      <td>4.00</td>\n",
       "    </tr>\n",
       "    <tr>\n",
       "      <th>1518165</th>\n",
       "      <td>5.00</td>\n",
       "    </tr>\n",
       "    <tr>\n",
       "      <th>1518166</th>\n",
       "      <td>1.00</td>\n",
       "    </tr>\n",
       "    <tr>\n",
       "      <th>1518167</th>\n",
       "      <td>3.73</td>\n",
       "    </tr>\n",
       "    <tr>\n",
       "      <th>1518168</th>\n",
       "      <td>5.00</td>\n",
       "    </tr>\n",
       "  </tbody>\n",
       "</table>\n",
       "<p>1518169 rows × 1 columns</p>\n",
       "</div>"
      ],
      "text/plain": [
       "         average_stars\n",
       "0                 2.00\n",
       "1                 5.00\n",
       "2                 4.00\n",
       "3                 4.05\n",
       "4                 3.00\n",
       "5                 5.00\n",
       "6                 5.00\n",
       "7                 5.00\n",
       "8                 2.77\n",
       "9                 4.00\n",
       "10                5.00\n",
       "11                4.20\n",
       "12                3.86\n",
       "13                2.00\n",
       "14                2.00\n",
       "15                3.00\n",
       "16                1.00\n",
       "17                4.00\n",
       "18                3.75\n",
       "19                3.00\n",
       "20                4.00\n",
       "21                1.00\n",
       "22                3.00\n",
       "23                4.50\n",
       "24                4.20\n",
       "25                4.00\n",
       "26                5.00\n",
       "27                3.00\n",
       "28                4.15\n",
       "29                5.00\n",
       "...                ...\n",
       "1518139           3.44\n",
       "1518140           5.00\n",
       "1518141           3.42\n",
       "1518142           3.31\n",
       "1518143           4.25\n",
       "1518144           1.98\n",
       "1518145           5.00\n",
       "1518146           4.00\n",
       "1518147           4.60\n",
       "1518148           4.13\n",
       "1518149           3.60\n",
       "1518150           5.00\n",
       "1518151           4.25\n",
       "1518152           3.05\n",
       "1518153           4.00\n",
       "1518154           3.35\n",
       "1518155           3.00\n",
       "1518156           5.00\n",
       "1518157           5.00\n",
       "1518158           3.89\n",
       "1518159           3.12\n",
       "1518160           3.00\n",
       "1518161           2.33\n",
       "1518162           3.86\n",
       "1518163           5.00\n",
       "1518164           4.00\n",
       "1518165           5.00\n",
       "1518166           1.00\n",
       "1518167           3.73\n",
       "1518168           5.00\n",
       "\n",
       "[1518169 rows x 1 columns]"
      ]
     },
     "execution_count": 261,
     "metadata": {},
     "output_type": "execute_result"
    }
   ],
   "source": [
    "reviewPandas = review.toPandas()\n",
    "reviewPandas"
   ]
  },
  {
   "cell_type": "code",
   "execution_count": 280,
   "metadata": {},
   "outputs": [
    {
     "data": {
      "text/plain": [
       "<matplotlib.axes._subplots.AxesSubplot at 0x7f4ae4358e90>"
      ]
     },
     "execution_count": 280,
     "metadata": {},
     "output_type": "execute_result"
    },
    {
     "data": {
      "image/png": "[encoded data removed]",
      "text/plain": [
       "<Figure size 432x288 with 1 Axes>"
      ]
     },
     "metadata": {
      "needs_background": "light"
     },
     "output_type": "display_data"
    }
   ],
   "source": [
    "plt.figure()\n",
    "plt.title('Average Stars Distribution')\n",
    "plt.xlabel(\"Average Stars\")\n",
    "plt.ylabel(\"Frequency\")\n",
    "reviewPandas['average_stars'].hist(bins = 20)\n",
    "# fig.savefig('NonEliteUsers Zoomed in')           \n"
   ]
  },
  {
   "cell_type": "code",
   "execution_count": 301,
   "metadata": {},
   "outputs": [],
   "source": [
    "reviewPandascox,_ = boxcox(reviewPandas['average_stars']+0.0000000000000000000000000000001)"
   ]
  },
  {
   "cell_type": "code",
   "execution_count": 317,
   "metadata": {},
   "outputs": [
    {
     "data": {
      "image/png": "[encoded data removed]",
      "text/plain": [
       "<Figure size 432x288 with 1 Axes>"
      ]
     },
     "metadata": {
      "needs_background": "light"
     },
     "output_type": "display_data"
    }
   ],
   "source": [
    "plt.figure()\n",
    "plt.title('Average Stars Distribution')\n",
    "plt.xlabel(\"Average Stars\")\n",
    "plt.ylabel(\"Frequency\")\n",
    "pd.DataFrame(reviewPandascox)[0].hist(bins = 20)\n",
    "fig.savefig('Average stars distribution')           \n"
   ]
  },
  {
   "cell_type": "code",
   "execution_count": 303,
   "metadata": {},
   "outputs": [
    {
     "data": {
      "image/png": "[encoded data removed]",
      "text/plain": [
       "<Figure size 432x288 with 1 Axes>"
      ]
     },
     "metadata": {
      "needs_background": "light"
     },
     "output_type": "display_data"
    }
   ],
   "source": [
    "ax = sns.distplot(reviewPandascox,bins=10)\n"
   ]
  },
  {
   "cell_type": "code",
   "execution_count": 315,
   "metadata": {},
   "outputs": [],
   "source": [
    "import numpy as np\n",
    "\n",
    "def adjLog2(x):\n",
    "    return np.log(x+1)\n",
    "# ax = sns.distplot(reviewPandas['average_stars'].apply(adjLog2))\n",
    "lolwa = reviewPandas['average_stars'].apply(adjLog2)"
   ]
  },
  {
   "cell_type": "code",
   "execution_count": 316,
   "metadata": {},
   "outputs": [
    {
     "data": {
      "text/plain": [
       "<matplotlib.axes._subplots.AxesSubplot at 0x7f4ac9de8290>"
      ]
     },
     "execution_count": 316,
     "metadata": {},
     "output_type": "execute_result"
    },
    {
     "data": {
      "image/png": "[encoded data removed]",
      "text/plain": [
       "<Figure size 432x288 with 1 Axes>"
      ]
     },
     "metadata": {
      "needs_background": "light"
     },
     "output_type": "display_data"
    }
   ],
   "source": [
    "plt.figure()\n",
    "plt.title('Average Stars Distribution')\n",
    "plt.xlabel(\"Average Stars\")\n",
    "plt.ylabel(\"Frequency\")\n",
    "lolwa.hist(bins = 20)\n",
    "# fig.savefig('NonEliteUsers Zoomed in')           \n"
   ]
  },
  {
   "cell_type": "code",
   "execution_count": 308,
   "metadata": {},
   "outputs": [
    {
     "data": {
      "text/plain": [
       "0          1.098612\n",
       "1          1.791759\n",
       "2          1.609438\n",
       "3          1.619388\n",
       "4          1.386294\n",
       "5          1.791759\n",
       "6          1.791759\n",
       "7          1.791759\n",
       "8          1.327075\n",
       "9          1.609438\n",
       "10         1.791759\n",
       "11         1.648659\n",
       "12         1.581038\n",
       "13         1.098612\n",
       "14         1.098612\n",
       "15         1.386294\n",
       "16         0.693147\n",
       "17         1.609438\n",
       "18         1.558145\n",
       "19         1.386294\n",
       "20         1.609438\n",
       "21         0.693147\n",
       "22         1.386294\n",
       "23         1.704748\n",
       "24         1.648659\n",
       "25         1.609438\n",
       "26         1.791759\n",
       "27         1.386294\n",
       "28         1.638997\n",
       "29         1.791759\n",
       "             ...   \n",
       "1518139    1.490654\n",
       "1518140    1.791759\n",
       "1518141    1.486140\n",
       "1518142    1.460938\n",
       "1518143    1.658228\n",
       "1518144    1.091923\n",
       "1518145    1.791759\n",
       "1518146    1.609438\n",
       "1518147    1.722767\n",
       "1518148    1.635106\n",
       "1518149    1.526056\n",
       "1518150    1.791759\n",
       "1518151    1.658228\n",
       "1518152    1.398717\n",
       "1518153    1.609438\n",
       "1518154    1.470176\n",
       "1518155    1.386294\n",
       "1518156    1.791759\n",
       "1518157    1.791759\n",
       "1518158    1.587192\n",
       "1518159    1.415853\n",
       "1518160    1.386294\n",
       "1518161    1.202972\n",
       "1518162    1.581038\n",
       "1518163    1.791759\n",
       "1518164    1.609438\n",
       "1518165    1.791759\n",
       "1518166    0.693147\n",
       "1518167    1.553925\n",
       "1518168    1.791759\n",
       "Name: average_stars, Length: 1518169, dtype: float64"
      ]
     },
     "execution_count": 308,
     "metadata": {},
     "output_type": "execute_result"
    }
   ],
   "source": [
    "lolwa"
   ]
  },
  {
   "cell_type": "code",
   "execution_count": null,
   "metadata": {},
   "outputs": [],
   "source": [
    "from pyspark.ml import Cro"
   ]
  },
  {
   "cell_type": "code",
   "execution_count": 32,
   "metadata": {},
   "outputs": [
    {
     "ename": "AnalysisException",
     "evalue": "u'java.lang.RuntimeException: java.lang.RuntimeException: Unable to instantiate org.apache.hadoop.hive.ql.metadata.SessionHiveMetaStoreClient;'",
     "output_type": "error",
     "traceback": [
      "\u001b[0;31m---------------------------------------------------------------------------\u001b[0m",
      "\u001b[0;31mAnalysisException\u001b[0m                         Traceback (most recent call last)",
      "\u001b[0;32m<ipython-input-32-e64212f6e151>\u001b[0m in \u001b[0;36m<module>\u001b[0;34m()\u001b[0m\n\u001b[1;32m      1\u001b[0m \u001b[0;32mfrom\u001b[0m \u001b[0mpyspark\u001b[0m\u001b[0;34m.\u001b[0m\u001b[0mml\u001b[0m \u001b[0;32mimport\u001b[0m \u001b[0mPipelineModel\u001b[0m\u001b[0;34m\u001b[0m\u001b[0m\n\u001b[0;32m----> 2\u001b[0;31m \u001b[0mlol\u001b[0m \u001b[0;34m=\u001b[0m \u001b[0mPipelineModel\u001b[0m\u001b[0;34m.\u001b[0m\u001b[0mload\u001b[0m\u001b[0;34m(\u001b[0m\u001b[0;34m\"/home/akash/btpPhase_I/lolmodel/\"\u001b[0m\u001b[0;34m)\u001b[0m\u001b[0;34m\u001b[0m\u001b[0m\n\u001b[0m",
      "\u001b[0;32m/home/akash/spark-2.3.2-bin-hadoop2.7/python/pyspark/ml/util.pyc\u001b[0m in \u001b[0;36mload\u001b[0;34m(cls, path)\u001b[0m\n\u001b[1;32m    309\u001b[0m     \u001b[0;32mdef\u001b[0m \u001b[0mload\u001b[0m\u001b[0;34m(\u001b[0m\u001b[0mcls\u001b[0m\u001b[0;34m,\u001b[0m \u001b[0mpath\u001b[0m\u001b[0;34m)\u001b[0m\u001b[0;34m:\u001b[0m\u001b[0;34m\u001b[0m\u001b[0m\n\u001b[1;32m    310\u001b[0m         \u001b[0;34m\"\"\"Reads an ML instance from the input path, a shortcut of `read().load(path)`.\"\"\"\u001b[0m\u001b[0;34m\u001b[0m\u001b[0m\n\u001b[0;32m--> 311\u001b[0;31m         \u001b[0;32mreturn\u001b[0m \u001b[0mcls\u001b[0m\u001b[0;34m.\u001b[0m\u001b[0mread\u001b[0m\u001b[0;34m(\u001b[0m\u001b[0;34m)\u001b[0m\u001b[0;34m.\u001b[0m\u001b[0mload\u001b[0m\u001b[0;34m(\u001b[0m\u001b[0mpath\u001b[0m\u001b[0;34m)\u001b[0m\u001b[0;34m\u001b[0m\u001b[0m\n\u001b[0m\u001b[1;32m    312\u001b[0m \u001b[0;34m\u001b[0m\u001b[0m\n\u001b[1;32m    313\u001b[0m \u001b[0;34m\u001b[0m\u001b[0m\n",
      "\u001b[0;32m/home/akash/spark-2.3.2-bin-hadoop2.7/python/pyspark/ml/pipeline.pyc\u001b[0m in \u001b[0;36mload\u001b[0;34m(self, path)\u001b[0m\n\u001b[1;32m    240\u001b[0m         \u001b[0mmetadata\u001b[0m \u001b[0;34m=\u001b[0m \u001b[0mDefaultParamsReader\u001b[0m\u001b[0;34m.\u001b[0m\u001b[0mloadMetadata\u001b[0m\u001b[0;34m(\u001b[0m\u001b[0mpath\u001b[0m\u001b[0;34m,\u001b[0m \u001b[0mself\u001b[0m\u001b[0;34m.\u001b[0m\u001b[0msc\u001b[0m\u001b[0;34m)\u001b[0m\u001b[0;34m\u001b[0m\u001b[0m\n\u001b[1;32m    241\u001b[0m         \u001b[0;32mif\u001b[0m \u001b[0;34m'language'\u001b[0m \u001b[0;32mnot\u001b[0m \u001b[0;32min\u001b[0m \u001b[0mmetadata\u001b[0m\u001b[0;34m[\u001b[0m\u001b[0;34m'paramMap'\u001b[0m\u001b[0;34m]\u001b[0m \u001b[0;32mor\u001b[0m \u001b[0mmetadata\u001b[0m\u001b[0;34m[\u001b[0m\u001b[0;34m'paramMap'\u001b[0m\u001b[0;34m]\u001b[0m\u001b[0;34m[\u001b[0m\u001b[0;34m'language'\u001b[0m\u001b[0;34m]\u001b[0m \u001b[0;34m!=\u001b[0m \u001b[0;34m'Python'\u001b[0m\u001b[0;34m:\u001b[0m\u001b[0;34m\u001b[0m\u001b[0m\n\u001b[0;32m--> 242\u001b[0;31m             \u001b[0;32mreturn\u001b[0m \u001b[0mJavaMLReader\u001b[0m\u001b[0;34m(\u001b[0m\u001b[0mself\u001b[0m\u001b[0;34m.\u001b[0m\u001b[0mcls\u001b[0m\u001b[0;34m)\u001b[0m\u001b[0;34m.\u001b[0m\u001b[0mload\u001b[0m\u001b[0;34m(\u001b[0m\u001b[0mpath\u001b[0m\u001b[0;34m)\u001b[0m\u001b[0;34m\u001b[0m\u001b[0m\n\u001b[0m\u001b[1;32m    243\u001b[0m         \u001b[0;32melse\u001b[0m\u001b[0;34m:\u001b[0m\u001b[0;34m\u001b[0m\u001b[0m\n\u001b[1;32m    244\u001b[0m             \u001b[0muid\u001b[0m\u001b[0;34m,\u001b[0m \u001b[0mstages\u001b[0m \u001b[0;34m=\u001b[0m \u001b[0mPipelineSharedReadWrite\u001b[0m\u001b[0;34m.\u001b[0m\u001b[0mload\u001b[0m\u001b[0;34m(\u001b[0m\u001b[0mmetadata\u001b[0m\u001b[0;34m,\u001b[0m \u001b[0mself\u001b[0m\u001b[0;34m.\u001b[0m\u001b[0msc\u001b[0m\u001b[0;34m,\u001b[0m \u001b[0mpath\u001b[0m\u001b[0;34m)\u001b[0m\u001b[0;34m\u001b[0m\u001b[0m\n",
      "\u001b[0;32m/home/akash/spark-2.3.2-bin-hadoop2.7/python/pyspark/ml/util.pyc\u001b[0m in \u001b[0;36mload\u001b[0;34m(self, path)\u001b[0m\n\u001b[1;32m    247\u001b[0m         \u001b[0;32mif\u001b[0m \u001b[0;32mnot\u001b[0m \u001b[0misinstance\u001b[0m\u001b[0;34m(\u001b[0m\u001b[0mpath\u001b[0m\u001b[0;34m,\u001b[0m \u001b[0mbasestring\u001b[0m\u001b[0;34m)\u001b[0m\u001b[0;34m:\u001b[0m\u001b[0;34m\u001b[0m\u001b[0m\n\u001b[1;32m    248\u001b[0m             \u001b[0;32mraise\u001b[0m \u001b[0mTypeError\u001b[0m\u001b[0;34m(\u001b[0m\u001b[0;34m\"path should be a basestring, got type %s\"\u001b[0m \u001b[0;34m%\u001b[0m \u001b[0mtype\u001b[0m\u001b[0;34m(\u001b[0m\u001b[0mpath\u001b[0m\u001b[0;34m)\u001b[0m\u001b[0;34m)\u001b[0m\u001b[0;34m\u001b[0m\u001b[0m\n\u001b[0;32m--> 249\u001b[0;31m         \u001b[0mjava_obj\u001b[0m \u001b[0;34m=\u001b[0m \u001b[0mself\u001b[0m\u001b[0;34m.\u001b[0m\u001b[0m_jread\u001b[0m\u001b[0;34m.\u001b[0m\u001b[0mload\u001b[0m\u001b[0;34m(\u001b[0m\u001b[0mpath\u001b[0m\u001b[0;34m)\u001b[0m\u001b[0;34m\u001b[0m\u001b[0m\n\u001b[0m\u001b[1;32m    250\u001b[0m         \u001b[0;32mif\u001b[0m \u001b[0;32mnot\u001b[0m \u001b[0mhasattr\u001b[0m\u001b[0;34m(\u001b[0m\u001b[0mself\u001b[0m\u001b[0;34m.\u001b[0m\u001b[0m_clazz\u001b[0m\u001b[0;34m,\u001b[0m \u001b[0;34m\"_from_java\"\u001b[0m\u001b[0;34m)\u001b[0m\u001b[0;34m:\u001b[0m\u001b[0;34m\u001b[0m\u001b[0m\n\u001b[1;32m    251\u001b[0m             raise NotImplementedError(\"This Java ML type cannot be loaded into Python currently: %r\"\n",
      "\u001b[0;32m/home/akash/spark-2.3.2-bin-hadoop2.7/python/lib/py4j-0.10.7-src.zip/py4j/java_gateway.py\u001b[0m in \u001b[0;36m__call__\u001b[0;34m(self, *args)\u001b[0m\n\u001b[1;32m   1255\u001b[0m         \u001b[0manswer\u001b[0m \u001b[0;34m=\u001b[0m \u001b[0mself\u001b[0m\u001b[0;34m.\u001b[0m\u001b[0mgateway_client\u001b[0m\u001b[0;34m.\u001b[0m\u001b[0msend_command\u001b[0m\u001b[0;34m(\u001b[0m\u001b[0mcommand\u001b[0m\u001b[0;34m)\u001b[0m\u001b[0;34m\u001b[0m\u001b[0m\n\u001b[1;32m   1256\u001b[0m         return_value = get_return_value(\n\u001b[0;32m-> 1257\u001b[0;31m             answer, self.gateway_client, self.target_id, self.name)\n\u001b[0m\u001b[1;32m   1258\u001b[0m \u001b[0;34m\u001b[0m\u001b[0m\n\u001b[1;32m   1259\u001b[0m         \u001b[0;32mfor\u001b[0m \u001b[0mtemp_arg\u001b[0m \u001b[0;32min\u001b[0m \u001b[0mtemp_args\u001b[0m\u001b[0;34m:\u001b[0m\u001b[0;34m\u001b[0m\u001b[0m\n",
      "\u001b[0;32m/home/akash/spark-2.3.2-bin-hadoop2.7/python/pyspark/sql/utils.pyc\u001b[0m in \u001b[0;36mdeco\u001b[0;34m(*a, **kw)\u001b[0m\n\u001b[1;32m     67\u001b[0m                                              e.java_exception.getStackTrace()))\n\u001b[1;32m     68\u001b[0m             \u001b[0;32mif\u001b[0m \u001b[0ms\u001b[0m\u001b[0;34m.\u001b[0m\u001b[0mstartswith\u001b[0m\u001b[0;34m(\u001b[0m\u001b[0;34m'org.apache.spark.sql.AnalysisException: '\u001b[0m\u001b[0;34m)\u001b[0m\u001b[0;34m:\u001b[0m\u001b[0;34m\u001b[0m\u001b[0m\n\u001b[0;32m---> 69\u001b[0;31m                 \u001b[0;32mraise\u001b[0m \u001b[0mAnalysisException\u001b[0m\u001b[0;34m(\u001b[0m\u001b[0ms\u001b[0m\u001b[0;34m.\u001b[0m\u001b[0msplit\u001b[0m\u001b[0;34m(\u001b[0m\u001b[0;34m': '\u001b[0m\u001b[0;34m,\u001b[0m \u001b[0;36m1\u001b[0m\u001b[0;34m)\u001b[0m\u001b[0;34m[\u001b[0m\u001b[0;36m1\u001b[0m\u001b[0;34m]\u001b[0m\u001b[0;34m,\u001b[0m \u001b[0mstackTrace\u001b[0m\u001b[0;34m)\u001b[0m\u001b[0;34m\u001b[0m\u001b[0m\n\u001b[0m\u001b[1;32m     70\u001b[0m             \u001b[0;32mif\u001b[0m \u001b[0ms\u001b[0m\u001b[0;34m.\u001b[0m\u001b[0mstartswith\u001b[0m\u001b[0;34m(\u001b[0m\u001b[0;34m'org.apache.spark.sql.catalyst.analysis'\u001b[0m\u001b[0;34m)\u001b[0m\u001b[0;34m:\u001b[0m\u001b[0;34m\u001b[0m\u001b[0m\n\u001b[1;32m     71\u001b[0m                 \u001b[0;32mraise\u001b[0m \u001b[0mAnalysisException\u001b[0m\u001b[0;34m(\u001b[0m\u001b[0ms\u001b[0m\u001b[0;34m.\u001b[0m\u001b[0msplit\u001b[0m\u001b[0;34m(\u001b[0m\u001b[0;34m': '\u001b[0m\u001b[0;34m,\u001b[0m \u001b[0;36m1\u001b[0m\u001b[0;34m)\u001b[0m\u001b[0;34m[\u001b[0m\u001b[0;36m1\u001b[0m\u001b[0;34m]\u001b[0m\u001b[0;34m,\u001b[0m \u001b[0mstackTrace\u001b[0m\u001b[0;34m)\u001b[0m\u001b[0;34m\u001b[0m\u001b[0m\n",
      "\u001b[0;31mAnalysisException\u001b[0m: u'java.lang.RuntimeException: java.lang.RuntimeException: Unable to instantiate org.apache.hadoop.hive.ql.metadata.SessionHiveMetaStoreClient;'"
     ]
    }
   ],
   "source": [
    "from pyspark.ml import PipelineModel\n",
    "from pyspark.ml import R\n",
    "lol = PipelineModel.load(\"/home/akash/btpPhase_I/lolmodel/\")"
   ]
  },
  {
   "cell_type": "code",
   "execution_count": 13,
   "metadata": {},
   "outputs": [],
   "source": [
    "from pyspark.ml import PipelineModel\n",
    "lolmodel = PipelineModel.load(\"/home/akash/btpPhase_I/lolmodel\")"
   ]
  },
  {
   "cell_type": "code",
   "execution_count": 7,
   "metadata": {},
   "outputs": [],
   "source": [
    "x=lol.stages[2]._call_java('toDebugString')\n"
   ]
  },
  {
   "cell_type": "code",
   "execution_count": 18,
   "metadata": {},
   "outputs": [],
   "source": [
    "cvmodel = lolmodel.stages[2]\n",
    "y = cvmodel.featureImportances"
   ]
  },
  {
   "cell_type": "code",
   "execution_count": 19,
   "metadata": {},
   "outputs": [
    {
     "name": "stdout",
     "output_type": "stream",
     "text": [
      "0.004900281675318903\n",
      "0.18431939708106015\n",
      "0.19523584889249468\n",
      "0.004347654498480881\n",
      "0.1869093886617428\n",
      "0.00028053256034565746\n",
      "0.07186578396885587\n",
      "5.7437582221829165e-05\n",
      "5.090328470384911e-06\n",
      "0.24248213456964055\n",
      "0.03789086266007345\n",
      "0.001833342533683222\n",
      "0.049423136489631946\n",
      "0.000947102619644252\n",
      "0.019294390488349425\n",
      "0.00015910625271163924\n",
      "4.850913727451274e-05\n"
     ]
    }
   ],
   "source": [
    "for i in y:\n",
    "    print(i)"
   ]
  },
  {
   "cell_type": "code",
   "execution_count": 8,
   "metadata": {},
   "outputs": [],
   "source": [
    "f = open('haha.txt','w')\n",
    "f.write(x)"
   ]
  },
  {
   "cell_type": "code",
   "execution_count": 27,
   "metadata": {},
   "outputs": [
    {
     "name": "stdout",
     "output_type": "stream",
     "text": [
      "('Test Area Under ROC', 0.9895560035063224)\n"
     ]
    }
   ],
   "source": [
    "from pyspark.ml.evaluation import BinaryClassificationEvaluator\n",
    "evaluator = BinaryClassificationEvaluator()\n",
    "print('Test Area Under ROC', evaluator.evaluate(predictions))"
   ]
  },
  {
   "cell_type": "code",
   "execution_count": 28,
   "metadata": {},
   "outputs": [
    {
     "ename": "AttributeError",
     "evalue": "'RandomForestClassificationModel' object has no attribute 'summary'",
     "output_type": "error",
     "traceback": [
      "\u001b[0;31m---------------------------------------------------------------------------\u001b[0m",
      "\u001b[0;31mAttributeError\u001b[0m                            Traceback (most recent call last)",
      "\u001b[0;32m<ipython-input-28-d09fcbf29c1d>\u001b[0m in \u001b[0;36m<module>\u001b[0;34m()\u001b[0m\n\u001b[0;32m----> 1\u001b[0;31m \u001b[0mtrainingSummary\u001b[0m \u001b[0;34m=\u001b[0m \u001b[0mlolmodel\u001b[0m\u001b[0;34m.\u001b[0m\u001b[0mstages\u001b[0m\u001b[0;34m[\u001b[0m\u001b[0;36m2\u001b[0m\u001b[0;34m]\u001b[0m\u001b[0;34m.\u001b[0m\u001b[0msummary\u001b[0m\u001b[0;34m\u001b[0m\u001b[0m\n\u001b[0m\u001b[1;32m      2\u001b[0m \u001b[0mroc\u001b[0m \u001b[0;34m=\u001b[0m \u001b[0mtrainingSummary\u001b[0m\u001b[0;34m.\u001b[0m\u001b[0mroc\u001b[0m\u001b[0;34m.\u001b[0m\u001b[0mtoPandas\u001b[0m\u001b[0;34m(\u001b[0m\u001b[0;34m)\u001b[0m\u001b[0;34m\u001b[0m\u001b[0m\n\u001b[1;32m      3\u001b[0m \u001b[0mplt\u001b[0m\u001b[0;34m.\u001b[0m\u001b[0mplot\u001b[0m\u001b[0;34m(\u001b[0m\u001b[0mroc\u001b[0m\u001b[0;34m[\u001b[0m\u001b[0;34m'FPR'\u001b[0m\u001b[0;34m]\u001b[0m\u001b[0;34m,\u001b[0m\u001b[0mroc\u001b[0m\u001b[0;34m[\u001b[0m\u001b[0;34m'TPR'\u001b[0m\u001b[0;34m]\u001b[0m\u001b[0;34m)\u001b[0m\u001b[0;34m\u001b[0m\u001b[0m\n\u001b[1;32m      4\u001b[0m \u001b[0mplt\u001b[0m\u001b[0;34m.\u001b[0m\u001b[0mylabel\u001b[0m\u001b[0;34m(\u001b[0m\u001b[0;34m'False Positive Rate'\u001b[0m\u001b[0;34m)\u001b[0m\u001b[0;34m\u001b[0m\u001b[0m\n\u001b[1;32m      5\u001b[0m \u001b[0mplt\u001b[0m\u001b[0;34m.\u001b[0m\u001b[0mxlabel\u001b[0m\u001b[0;34m(\u001b[0m\u001b[0;34m'True Positive Rate'\u001b[0m\u001b[0;34m)\u001b[0m\u001b[0;34m\u001b[0m\u001b[0m\n",
      "\u001b[0;31mAttributeError\u001b[0m: 'RandomForestClassificationModel' object has no attribute 'summary'"
     ]
    }
   ],
   "source": [
    "trainingSummary = lolmodel.stages[2].summary\n",
    "roc = trainingSummary.roc.toPandas()\n",
    "plt.plot(roc['FPR'],roc['TPR'])\n",
    "plt.ylabel('False Positive Rate')\n",
    "plt.xlabel('True Positive Rate')\n",
    "plt.title('ROC Curve')\n",
    "plt.show()\n",
    "print('Training set areaUnderROC: ' + str(trainingSummary.areaUnderROC))"
   ]
  },
  {
   "cell_type": "code",
   "execution_count": 16,
   "metadata": {},
   "outputs": [
    {
     "name": "stdout",
     "output_type": "stream",
     "text": [
      "('The ROC score is (@numTrees=20): ', 0.9895560035063222)\n"
     ]
    }
   ],
   "source": [
    "from pyspark.mllib.evaluation import BinaryClassificationMetrics as metric\n",
    "\n",
    "results = predictions.select(['probability', 'label'])\n",
    " \n",
    "## prepare score-label set\n",
    "results_collect = results.collect()\n",
    "results_list = [(float(i[0][0]), 1.0-float(i[1])) for i in results_collect]\n",
    "scoreAndLabels = sc.parallelize(results_list)\n",
    " \n",
    "metrics = metric(scoreAndLabels)\n",
    "print(\"The ROC score is (@numTrees=20): \", metrics.areaUnderROC)"
   ]
  },
  {
   "cell_type": "code",
   "execution_count": 17,
   "metadata": {},
   "outputs": [
    {
     "data": {
      "image/png": "[encoded data removed]",
      "text/plain": [
       "<Figure size 432x288 with 1 Axes>"
      ]
     },
     "metadata": {
      "needs_background": "light"
     },
     "output_type": "display_data"
    }
   ],
   "source": [
    "import matplotlib.pyplot as plt\n",
    "from sklearn.metrics import roc_curve, auc\n",
    " \n",
    "fpr = dict()\n",
    "tpr = dict()\n",
    "roc_auc = dict()\n",
    " \n",
    "    \n",
    "y_test = [i[1] for i in results_list]\n",
    "y_score = [i[0] for i in results_list]\n",
    " \n",
    "fpr, tpr, _ = roc_curve(y_test, y_score)\n",
    "roc_auc = auc(fpr, tpr)\n",
    " \n",
    "%matplotlib inline\n",
    "fig = plt.figure()\n",
    "plt.plot(fpr, tpr, label='ROC curve (area = %0.2f)' % roc_auc)\n",
    "plt.plot([0, 1], [0, 1], 'k--')\n",
    "plt.xlim([0.0, 1.0])\n",
    "plt.ylim([0.0, 1.05])\n",
    "plt.xlabel('False Positive Rate')\n",
    "plt.ylabel('True Positive Rate')\n",
    "plt.title('Receiver operating characteristic example')\n",
    "plt.legend(loc=\"lower right\")\n",
    "fig.savefig('ROC curve')           \n",
    "\n",
    "plt.show()"
   ]
  },
  {
   "cell_type": "code",
   "execution_count": null,
   "metadata": {},
   "outputs": [],
   "source": []
  }
 ],
 "metadata": {
  "kernelspec": {
   "display_name": "Python 2",
   "language": "python",
   "name": "python2"
  },
  "language_info": {
   "codemirror_mode": {
    "name": "ipython",
    "version": 2
   },
   "file_extension": ".py",
   "mimetype": "text/x-python",
   "name": "python",
   "nbconvert_exporter": "python",
   "pygments_lexer": "ipython2",
   "version": "2.7.12"
  }
 },
 "nbformat": 4,
 "nbformat_minor": 2
}
